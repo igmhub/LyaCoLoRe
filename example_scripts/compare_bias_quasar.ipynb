{
 "cells": [
  {
   "cell_type": "markdown",
   "metadata": {},
   "source": [
    "# Plot quasar bias models compared to data points"
   ]
  },
  {
   "cell_type": "code",
   "execution_count": 1,
   "metadata": {},
   "outputs": [
    {
     "name": "stdout",
     "output_type": "stream",
     "text": [
      "Populating the interactive namespace from numpy and matplotlib\n"
     ]
    }
   ],
   "source": [
    "%pylab inline"
   ]
  },
  {
   "cell_type": "code",
   "execution_count": 2,
   "metadata": {
    "collapsed": true
   },
   "outputs": [],
   "source": [
    "import numpy as np\n",
    "from astropy.io import fits\n",
    "import matplotlib.pyplot as plt"
   ]
  },
  {
   "cell_type": "code",
   "execution_count": 3,
   "metadata": {},
   "outputs": [
    {
     "name": "stdout",
     "output_type": "stream",
     "text": [
      "Filename: ../example_data/raw_colore/N1000_out_srcs_s0_15.fits\n",
      "No.    Name      Ver    Type      Cards   Dimensions   Format\n",
      "  0  PRIMARY       1 PrimaryHDU       6   ()      \n",
      "  1  CATALOG       1 BinTableHDU     24   1000R x 5C   [1J, 1E, 1E, 1E, 1E]   \n",
      "  2  DENSITY SKEWERS    1 ImageHDU         8   (2048, 1000)   float32   \n",
      "  3  VELOCITY SKEWERS    1 ImageHDU         8   (2048, 1000)   float32   \n",
      "  4  BACKGROUND COSMOLOGY    1 BinTableHDU     21   2048R x 4C   [1E, 1E, 1E, 1E]   \n"
     ]
    }
   ],
   "source": [
    "#Open data file (test file with few quasars)\n",
    "hdulist = fits.open('../example_data/raw_colore/N1000_out_srcs_s0_15.fits')\n",
    "hdulist.info()"
   ]
  },
  {
   "cell_type": "code",
   "execution_count": 4,
   "metadata": {},
   "outputs": [],
   "source": [
    "# get growth factor in each redshift\n",
    "cosmo = hdulist[4].data\n",
    "ds=cosmo['D']\n",
    "zs=cosmo['Z']"
   ]
  },
  {
   "cell_type": "code",
   "execution_count": 5,
   "metadata": {
    "collapsed": true
   },
   "outputs": [],
   "source": [
    "# fitting function used in Gontcho a Gontcho et al. (2018), not sure where it comes from\n",
    "zr=2.39\n",
    "gamma=1.71\n",
    "br=3.91\n",
    "bq=br*((1+zs)/(1+zr))**gamma"
   ]
  },
  {
   "cell_type": "code",
   "execution_count": 6,
   "metadata": {},
   "outputs": [
    {
     "data": {
      "image/png": "[encoded data removed]",
      "text/plain": [
       "<Figure size 432x288 with 1 Axes>"
      ]
     },
     "metadata": {},
     "output_type": "display_data"
    }
   ],
   "source": [
    "plt.plot(zs,1.2/ds,label=r'$b_q(z)=1.2 \\, \\frac{D(z=0)}{D(z)}$')\n",
    "plt.plot(zs,bq,label=r'$b_q(z) = 3.79 \\, \\left( \\frac{1+z}{3.39}\\right)^{1.71}$')\n",
    "plt.xlim(1.0,3.5)\n",
    "plt.ylim(1.5,6.0)\n",
    "plt.xlabel('z')\n",
    "plt.ylabel(r'$b_q(z)$')\n",
    "\n",
    "plt.errorbar(1.06,1.75,yerr=0.08,color='blue',marker='o')\n",
    "plt.errorbar(1.35,2.06,yerr=0.08,color='blue',marker='o')\n",
    "plt.errorbar(1.65,2.57,yerr=0.09,color='blue',marker='o')\n",
    "plt.errorbar(1.99,3.03,yerr=0.11,color='blue',marker='o')\n",
    "plt.text(1.4,1.8,\"Laurent et al. (2017)\",color='blue',fontsize=12)\n",
    "\n",
    "plt.errorbar(2.30,4.01,yerr=0.22,color='green',marker='o')\n",
    "plt.errorbar(2.56,3.86,yerr=0.19,color='green',marker='o')\n",
    "plt.errorbar(3.09,5.06,yerr=0.83,color='green',marker='o')\n",
    "plt.text(1.6,4.5,\"Laurent et al. (2016)\",color='green',fontsize=12)\n",
    "\n",
    "plt.legend()\n",
    "plt.savefig('quasar_bias_comparison.pdf')"
   ]
  },
  {
   "cell_type": "code",
   "execution_count": null,
   "metadata": {
    "collapsed": true
   },
   "outputs": [],
   "source": []
  }
 ],
 "metadata": {
  "kernelspec": {
   "display_name": "Python 3",
   "language": "python",
   "name": "python3"
  },
  "language_info": {
   "codemirror_mode": {
    "name": "ipython",
    "version": 3
   },
   "file_extension": ".py",
   "mimetype": "text/x-python",
   "name": "python",
   "nbconvert_exporter": "python",
   "pygments_lexer": "ipython3",
   "version": "3.6.3"
  }
 },
 "nbformat": 4,
 "nbformat_minor": 2
}
