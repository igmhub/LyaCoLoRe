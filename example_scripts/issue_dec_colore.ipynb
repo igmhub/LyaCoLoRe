{
 "cells": [
  {
   "cell_type": "markdown",
   "metadata": {},
   "source": [
    "# Show issue with quasar declinations in CoLoRe"
   ]
  },
  {
   "cell_type": "code",
   "execution_count": 1,
   "metadata": {},
   "outputs": [
    {
     "name": "stdout",
     "output_type": "stream",
     "text": [
      "Populating the interactive namespace from numpy and matplotlib\n"
     ]
    }
   ],
   "source": [
    "%pylab inline"
   ]
  },
  {
   "cell_type": "code",
   "execution_count": 2,
   "metadata": {
    "collapsed": true
   },
   "outputs": [],
   "source": [
    "import numpy as np\n",
    "from astropy.io import fits\n",
    "import matplotlib.pyplot as plt\n",
    "import healpy as hp"
   ]
  },
  {
   "cell_type": "code",
   "execution_count": 3,
   "metadata": {},
   "outputs": [
    {
     "name": "stdout",
     "output_type": "stream",
     "text": [
      "input catalog size 1000\n"
     ]
    }
   ],
   "source": [
    "#Open data file (test file with few quasars)\n",
    "#hdulist = fits.open('/Users/font/Projects/DESI/desi_lya_mocks/Sims/NERSC_Lya4096/test_skewers_4096_gaussian_srcs_s0_0.fits')\n",
    "hdulist = fits.open('../example_data/raw_colore/test_bad_dec.fits')\n",
    "catalog = hdulist[1].data\n",
    "print('input catalog size',len(catalog))"
   ]
  },
  {
   "cell_type": "code",
   "execution_count": 4,
   "metadata": {},
   "outputs": [
    {
     "name": "stdout",
     "output_type": "stream",
     "text": [
      "0.0356661 < RA < 359.887\n",
      "nan < Dec < nan\n"
     ]
    }
   ],
   "source": [
    "ra=catalog['RA']\n",
    "dec=catalog['DEC']\n",
    "print(np.min(ra),'< RA <',np.max(ra))\n",
    "print(np.min(dec),'< Dec <',np.max(dec))"
   ]
  },
  {
   "cell_type": "code",
   "execution_count": 5,
   "metadata": {},
   "outputs": [
    {
     "name": "stdout",
     "output_type": "stream",
     "text": [
      "# NaN dec 7\n"
     ]
    }
   ],
   "source": [
    "nan_dec = np.isnan(dec)\n",
    "bad_quasars = catalog[nan_dec]\n",
    "print('# NaN dec',len(bad_quasars))"
   ]
  },
  {
   "cell_type": "code",
   "execution_count": 6,
   "metadata": {},
   "outputs": [
    {
     "data": {
      "text/plain": [
       "<matplotlib.text.Text at 0x11127a358>"
      ]
     },
     "execution_count": 6,
     "metadata": {},
     "output_type": "execute_result"
    },
    {
     "data": {
      "image/png": "[encoded data removed]",
      "text/plain": [
       "<matplotlib.figure.Figure at 0x11124f400>"
      ]
     },
     "metadata": {},
     "output_type": "display_data"
    }
   ],
   "source": [
    "# figure out what is common in all these files\n",
    "plt.plot(catalog['Z_COSMO'],catalog['RA'],'bo')\n",
    "plt.plot(bad_quasars['Z_COSMO'],bad_quasars['RA'],'ro')\n",
    "plt.xlabel('z')\n",
    "plt.ylabel('RA')"
   ]
  },
  {
   "cell_type": "code",
   "execution_count": 7,
   "metadata": {},
   "outputs": [
    {
     "name": "stdout",
     "output_type": "stream",
     "text": [
      "# of high-z quasars 14\n",
      "# of high-z quasars with bad Dec 7\n"
     ]
    }
   ],
   "source": [
    "# all problematic quasars are at z > 3.55\n",
    "zq_catalog=catalog['Z_COSMO']\n",
    "zq_bad=bad_quasars['Z_COSMO']\n",
    "Ntotal=len(catalog[zq_catalog>3.55])\n",
    "Nbad=len(bad_quasars[zq_bad>3.55])\n",
    "print('# of high-z quasars',Ntotal)\n",
    "print('# of high-z quasars with bad Dec',Nbad)"
   ]
  },
  {
   "cell_type": "code",
   "execution_count": null,
   "metadata": {
    "collapsed": true
   },
   "outputs": [],
   "source": []
  }
 ],
 "metadata": {
  "kernelspec": {
   "display_name": "Python 3",
   "language": "python",
   "name": "python3"
  },
  "language_info": {
   "codemirror_mode": {
    "name": "ipython",
    "version": 3
   },
   "file_extension": ".py",
   "mimetype": "text/x-python",
   "name": "python",
   "nbconvert_exporter": "python",
   "pygments_lexer": "ipython3",
   "version": "3.5.3"
  }
 },
 "nbformat": 4,
 "nbformat_minor": 2
}
