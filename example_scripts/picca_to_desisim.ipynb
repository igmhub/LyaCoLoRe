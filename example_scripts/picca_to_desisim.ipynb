{
 "cells": [
  {
   "cell_type": "markdown",
   "metadata": {},
   "source": [
    "# Transform files with picca format, to files with desisim format"
   ]
  },
  {
   "cell_type": "code",
   "execution_count": 1,
   "metadata": {},
   "outputs": [
    {
     "name": "stdout",
     "output_type": "stream",
     "text": [
      "Populating the interactive namespace from numpy and matplotlib\n"
     ]
    }
   ],
   "source": [
    "%pylab inline"
   ]
  },
  {
   "cell_type": "code",
   "execution_count": 2,
   "metadata": {
    "collapsed": true
   },
   "outputs": [],
   "source": [
    "import os\n",
    "import numpy as np\n",
    "import fitsio\n",
    "import matplotlib.pyplot as plt\n",
    "import healpy as hp\n",
    "import desitarget.mock.io as mockio\n",
    "import lya_mock_functions as mock"
   ]
  },
  {
   "cell_type": "code",
   "execution_count": 3,
   "metadata": {},
   "outputs": [
    {
     "name": "stdout",
     "output_type": "stream",
     "text": [
      "# initial quasars = 1000\n",
      "original shape (555, 1000)\n",
      "2.00052 < z_qso < 3.58308\n",
      "# high-z quasars = 384\n",
      "# good quasars = 384\n",
      "full wavelength shape (555, 384)\n",
      "DESI shape (524, 384)\n"
     ]
    }
   ],
   "source": [
    "# open file with picca format\n",
    "#h = fitsio.FITS('../example_data/delta_picca/nside_4_pix_0.fits')\n",
    "h = fitsio.FITS('../example_data/delta_picca/z1.85/z1.85_N1000_node_015_nside_4_pix_10.fits')\n",
    "# get information about quasars (TYPE,RA,DEC,Z_COSMO,DZ_RSD)\n",
    "catalog = h[3].read()\n",
    "# get arraw with redshift in each cell of grid\n",
    "loglam = h[2].read()\n",
    "# Get deltas (fluctuation around mean density) \n",
    "delta = h[0].read()\n",
    "z_qso = catalog['Z']\n",
    "print('# initial quasars =',len(z_qso))\n",
    "# keep only quasars with z>2.0\n",
    "highz=z_qso>2.0\n",
    "z_qso = z_qso[highz]\n",
    "catalog = catalog[highz]\n",
    "print('original shape',delta.shape)\n",
    "delta = delta[:,highz]\n",
    "print(np.min(z_qso),'< z_qso <',np.max(z_qso))\n",
    "print('# high-z quasars =',len(z_qso))\n",
    "# keep only quasars with good Dec\n",
    "bad_dec = np.isnan(catalog['DEC']) | (catalog['DEC'] < -90.0) | (catalog['DEC'] > 90.0)\n",
    "catalog = catalog[np.invert(bad_dec)]\n",
    "z_qso = z_qso[np.invert(bad_dec)]\n",
    "delta = delta[:,np.invert(bad_dec)]\n",
    "Nq=len(z_qso)\n",
    "print('# good quasars =',len(z_qso))\n",
    "wave=np.power(10.0,loglam)\n",
    "z = wave/1215.67-1.0\n",
    "Nz=len(z)\n",
    "print('full wavelength shape',delta.shape)\n",
    "# we will only write pixels with wavelength in DESI spectrograph\n",
    "in_desi=wave>3550.0\n",
    "z = z[in_desi]\n",
    "wave = wave[in_desi]\n",
    "delta = delta[in_desi]\n",
    "print('DESI shape',delta.shape)"
   ]
  },
  {
   "cell_type": "code",
   "execution_count": 4,
   "metadata": {},
   "outputs": [],
   "source": [
    "# identify HEALPix pixels for our quasars\n",
    "nside=8\n",
    "Npix=12*nside*nside\n",
    "pixels=hp.ang2pix(nside,(catalog['DEC']+90.0)/180.0*np.pi,catalog['RA']/180.0*np.pi)"
   ]
  },
  {
   "cell_type": "code",
   "execution_count": 5,
   "metadata": {},
   "outputs": [
    {
     "name": "stdout",
     "output_type": "stream",
     "text": [
      "relevant pixels [724, 740, 741, 753]\n"
     ]
    }
   ],
   "source": [
    "nonzero_pixels=[]\n",
    "for pix in range(Npix):\n",
    "    in_pix=(pixels==pix)\n",
    "    if len(catalog[in_pix]): \n",
    "        nonzero_pixels.append(pix)\n",
    "print('relevant pixels',nonzero_pixels)"
   ]
  },
  {
   "cell_type": "code",
   "execution_count": 6,
   "metadata": {},
   "outputs": [
    {
     "name": "stdout",
     "output_type": "stream",
     "text": [
      "useful pixel 724 89\n",
      "useful pixel 740 89\n",
      "useful pixel 741 98\n",
      "useful pixel 753 108\n"
     ]
    }
   ],
   "source": [
    "transmission_base_dir='test_dir'\n",
    "for pix in range(Npix):\n",
    "    # get quasars in HEALPix pixel\n",
    "    in_pix=(pixels==pix)\n",
    "    # if none, move on\n",
    "    if len(catalog[in_pix]) == 0:\n",
    "        continue\n",
    "    # select relevant quasars\n",
    "    qso_in_pix = catalog[in_pix]\n",
    "    delta_in_pix = delta[:,in_pix]\n",
    "    N_in_pix=len(qso_in_pix)\n",
    "    print('useful pixel',pix,N_in_pix)\n",
    "    # open file to write\n",
    "    #filename='test_'+str(pix)+'.fits'\n",
    "    dirname=mockio.get_healpix_dir(nside, pix, basedir=transmission_base_dir)\n",
    "    #print('dirname',dirname)\n",
    "    os.makedirs(dirname, exist_ok=True)\n",
    "    filename=mockio.findfile('transmission', nside, pix, transmission_base_dir)\n",
    "    #print('filename',filename)\n",
    "    fits = fitsio.FITS(filename,'rw',clobber=True)\n",
    "    \n",
    "    for i,qso in enumerate(qso_in_pix):\n",
    "        # Convert density to flux\n",
    "        tau = mock.get_tau(z,1+delta_in_pix[:,i])\n",
    "        flux = np.exp(-tau)\n",
    "        # only add absorption in the forest \n",
    "        no_forest = (z > z_qso[i])\n",
    "        flux[no_forest]=1.0\n",
    "        data = {}\n",
    "        data['LAMBDA']=wave\n",
    "        data['FLUX']=flux\n",
    "        head = {}\n",
    "        head['ZQSO']=z_qso[i]\n",
    "        head['RA']=qso['RA']\n",
    "        head['DEC']=qso['DEC']\n",
    "        head['MAG_G']=22\n",
    "        fits.write(data,header=head)\n",
    "fits.close()"
   ]
  },
  {
   "cell_type": "code",
   "execution_count": null,
   "metadata": {
    "collapsed": true
   },
   "outputs": [],
   "source": []
  }
 ],
 "metadata": {
  "kernelspec": {
   "display_name": "Python 3",
   "language": "python",
   "name": "python3"
  },
  "language_info": {
   "codemirror_mode": {
    "name": "ipython",
    "version": 3
   },
   "file_extension": ".py",
   "mimetype": "text/x-python",
   "name": "python",
   "nbconvert_exporter": "python",
   "pygments_lexer": "ipython3",
   "version": "3.5.3"
  }
 },
 "nbformat": 4,
 "nbformat_minor": 2
}
