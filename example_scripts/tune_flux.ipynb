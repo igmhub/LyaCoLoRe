{
 "cells": [
  {
   "cell_type": "code",
   "execution_count": 1,
   "metadata": {
    "collapsed": true,
    "scrolled": true
   },
   "outputs": [],
   "source": [
    "import numpy as np\n",
    "import matplotlib.pyplot as plt\n",
    "from astropy.io import fits"
   ]
  },
  {
   "cell_type": "code",
   "execution_count": 2,
   "metadata": {
    "collapsed": true,
    "scrolled": true
   },
   "outputs": [],
   "source": [
    "z_bin_centre = 2.0\n",
    "z_bin_width = 0.2\n",
    "z_bin = (z_bin_centre-z_bin_width/2,z_bin_centre+z_bin_width/2)\n",
    "beta = 1.0"
   ]
  },
  {
   "cell_type": "code",
   "execution_count": 3,
   "metadata": {
    "scrolled": true
   },
   "outputs": [
    {
     "name": "stdout",
     "output_type": "stream",
     "text": [
      "we have 6539 skewers, each with 74 cells\n",
      "cells are in the z-range: 1.92 < z < 2.10\n"
     ]
    }
   ],
   "source": [
    "#Get the gaussian delta skewers\n",
    "h = fits.open('/Users/James/Projects/test_data/process_output_G_hZ_4096_32_sr2.0_bm1_nside8/2/276/picca-gaussian-8-276.fits')\n",
    "delta_G_rows = h[0].data.T\n",
    "IVAR_rows = h[1].data.T\n",
    "#delta_G_rows = delta_G_rows[0,:]\n",
    "\n",
    "#Trim the skewers to a narrow window around the z value selected\n",
    "#Get the growth factor and any other useful things\n",
    "master = fits.open('/Users/James/Projects/test_data/process_output_G_hZ_4096_32_sr2.0_bm1_nside8/nside_8_master.fits')\n",
    "D = master[2].data['D'][-571:]\n",
    "Z = master[2].data['Z'][-571:]\n",
    "Z_QSO = h[3].data['Z']\n",
    "\n",
    "first_valid_cell = np.argmax(Z>z_bin[0])\n",
    "last_valid_cell = np.argmax(Z>z_bin[1]) - 1\n",
    "valid_rows = Z_QSO>z_bin[0]\n",
    "\n",
    "D = D[first_valid_cell:last_valid_cell]\n",
    "Z = Z[first_valid_cell:last_valid_cell]\n",
    "delta_G_rows = delta_G_rows[:,first_valid_cell:last_valid_cell]\n",
    "delta_G_rows = delta_G_rows[valid_rows,:]\n",
    "IVAR_rows = IVAR_rows[:,first_valid_cell:last_valid_cell]\n",
    "IVAR_rows = IVAR_rows[valid_rows,:]\n",
    "Z_QSO = Z_QSO[valid_rows]\n",
    "\n",
    "print('we have {} skewers, each with {} cells'.format(delta_G_rows.shape[0],delta_G_rows.shape[1]))\n",
    "print('cells are in the z-range: {:2.2f} < z < {:2.2f}'.format(np.min(Z),np.max(Z)))"
   ]
  },
  {
   "cell_type": "code",
   "execution_count": 4,
   "metadata": {
    "scrolled": true
   },
   "outputs": [
    {
     "name": "stdout",
     "output_type": "stream",
     "text": [
      "check that the skewers aren't just empty:\n"
     ]
    },
    {
     "data": {
      "image/png": "[encoded data removed]",
      "text/plain": [
       "<Figure size 432x288 with 1 Axes>"
      ]
     },
     "metadata": {},
     "output_type": "display_data"
    }
   ],
   "source": [
    "print('check that the skewers aren\\'t just empty:')\n",
    "n = np.random.randint(0,high=len(Z_QSO))\n",
    "plt.plot(Z,delta_G_rows[n,:],label='Z_QSO = {:2.2f}'.format(Z_QSO[n]))\n",
    "plt.legend()\n",
    "plt.show()"
   ]
  },
  {
   "cell_type": "code",
   "execution_count": 5,
   "metadata": {
    "collapsed": true,
    "scrolled": true
   },
   "outputs": [],
   "source": [
    "def lognormal_transform(delta_G_rows,sigma_G,D):\n",
    "    density_rows = np.zeros(delta_G_rows.shape)\n",
    "    for j in range(delta_G_rows.shape[1]):\n",
    "        D_j = D[j]\n",
    "        density_rows[:,j] = np.exp(D_j*delta_G_rows[:,j]-(D_j**2)*(sigma_G**2)/2.)\n",
    "    return density_rows"
   ]
  },
  {
   "cell_type": "code",
   "execution_count": 6,
   "metadata": {
    "collapsed": true,
    "scrolled": true
   },
   "outputs": [],
   "source": [
    "def get_mean_F_model(z):\n",
    "    return np.exp((np.log(0.8))*((1+z)/3.25)**3.2)"
   ]
  },
  {
   "cell_type": "code",
   "execution_count": 30,
   "metadata": {
    "collapsed": true,
    "scrolled": true
   },
   "outputs": [],
   "source": [
    "def delta_G_to_delta_F(delta_G_rows,alpha,beta,D,sigma_G,IVAR_rows=None,mean_F=None):\n",
    "    density_rows = lognormal_transform(delta_G_rows,sigma_G,D)\n",
    "    F_rows = np.exp(-alpha*(density_rows**beta))\n",
    "    if not mean_F:\n",
    "        mean_F = np.average(F_rows,weights=IVAR_rows)\n",
    "    delta_F_rows = F_rows/mean_F - 1\n",
    "    return density_rows,F_rows,mean_F,delta_F_rows"
   ]
  },
  {
   "cell_type": "code",
   "execution_count": 31,
   "metadata": {
    "collapsed": true
   },
   "outputs": [],
   "source": [
    "def density_to_flux(density,alpha,beta):\n",
    "    F = np.exp(-alpha*(density**beta))\n",
    "    return F"
   ]
  },
  {
   "cell_type": "code",
   "execution_count": 44,
   "metadata": {
    "scrolled": true
   },
   "outputs": [],
   "source": [
    "def get_flux_stats(z,sigma_G,alpha,beta,mean_only=False):\n",
    "\n",
    "    delta_G_integral = np.linspace(-20,20,10**5)\n",
    "    delta_G_integral = np.reshape(delta_G_integral,(1,delta_G_integral.shape[0]))\n",
    "    \n",
    "    D_integral = (D[np.argmax(Z>z_bin_centre)])*np.ones(delta_G_integral.shape[1])\n",
    "    \n",
    "    prob_delta_G = (1/(np.sqrt(2*np.pi)*sigma_G))*np.exp(-(delta_G_integral**2)/(2*sigma_G**2))\n",
    "    \n",
    "    density_integral = lognormal_transform(delta_G_integral,sigma_G,D_integral)\n",
    "    F_integral = density_to_flux(density_integral,alpha,beta)\n",
    "    \n",
    "    mean_F = np.trapz(prob_delta_G*F_integral,delta_G_integral)[0]\n",
    "    \n",
    "    delta_F_integral = F_integral/mean_F - 1\n",
    "\n",
    "    #density_integral,F_integral,_,delta_F_integral = delta_G_to_delta_F(delta_G_integral,alpha,beta,D_integral,sigma_G,mean_F=mean_F)    \n",
    "    \n",
    "    \"\"\"\n",
    "    plt.scatter(delta_G_integral,prob_delta_G*(delta_F_integral**2))\n",
    "    plt.ylabel('integrand')\n",
    "    plt.xlabel('delta_G')\n",
    "    plt.title('alpha: {}'.format(alpha))\n",
    "    plt.show()\n",
    "    \"\"\"\n",
    "    if not mean_only:\n",
    "        sigma_F = np.sqrt(np.trapz(prob_delta_G*(delta_F_integral**2),delta_G_integral)[0])\n",
    "    else:\n",
    "        sigma_F = None\n",
    "    \n",
    "    return mean_F, sigma_F"
   ]
  },
  {
   "cell_type": "code",
   "execution_count": 50,
   "metadata": {
    "scrolled": true
   },
   "outputs": [
    {
     "name": "stdout",
     "output_type": "stream",
     "text": [
      "2.0 <= sigma_G <= 10.0\n",
      "5 values of sigma_G will be tested\n"
     ]
    }
   ],
   "source": [
    "sigma_G_values = np.linspace(2,10,5)\n",
    "print('{} <= sigma_G <= {}'.format(np.min(sigma_G_values),np.max(sigma_G_values)))\n",
    "print('{} values of sigma_G will be tested'.format(sigma_G_values.shape[0]))"
   ]
  },
  {
   "cell_type": "code",
   "execution_count": null,
   "metadata": {
    "scrolled": false
   },
   "outputs": [
    {
     "name": "stdout",
     "output_type": "stream",
     "text": [
      "mean F model 0.8413721721350615\n",
      "\n",
      "model: 0.84, (0.00,10.00,20.00), (1.00,0.03,0.01)\n",
      "model: 0.84, (0.00,5.00,10.00), (1.00,0.10,0.03)\n",
      "model: 0.84, (0.00,2.50,5.00), (1.00,0.23,0.10)\n",
      "model: 0.84, (0.00,1.25,2.50), (1.00,0.41,0.23)\n",
      "model: 0.84, (0.00,0.62,1.25), (1.00,0.60,0.41)\n",
      "model: 0.84, (0.00,0.31,0.62), (1.00,0.76,0.60)\n",
      "model: 0.84, (0.00,0.16,0.31), (1.00,0.86,0.76)\n",
      "model: 0.84, (0.16,0.23,0.31), (0.86,0.81,0.76)\n",
      "model: 0.84, (0.16,0.20,0.23), (0.86,0.84,0.81)\n",
      "model: 0.84, (0.16,0.18,0.20), (0.86,0.85,0.84)\n"
     ]
    }
   ],
   "source": [
    "tolerance = 0.001\n",
    "\n",
    "mean_F_model = get_mean_F_model(z_bin_centre)\n",
    "print('mean F model {}\\n'.format(mean_F_model))\n",
    "\n",
    "for sigma_G in sigma_G_values:\n",
    "    \n",
    "    alpha_low = 0.0\n",
    "    alpha_high = 20.0\n",
    "    \n",
    "    count = 0\n",
    "    exit = 0\n",
    "    \n",
    "    while exit == 0 and count < 20:\n",
    "        alpha_midpoint = (alpha_low + alpha_high)/2.0\n",
    "\n",
    "        mean_F_al,sigma_F_al = get_flux_stats(z_bin_centre,sigma_G,alpha_low,beta,mean_only=True)\n",
    "        mean_F_am,sigma_F_am = get_flux_stats(z_bin_centre,sigma_G,alpha_midpoint,beta,mean_only=True)\n",
    "        mean_F_ah,sigma_F_ah = get_flux_stats(z_bin_centre,sigma_G,alpha_high,beta,mean_only=True)\n",
    "\n",
    "        print('model: {:2.2f}, ({:2.2f},{:2.2f},{:2.2f}), ({:2.2f},{:2.2f},{:2.2f})'.format(mean_F_model,alpha_low,alpha_midpoint,alpha_high,mean_F_al,mean_F_am,mean_F_ah))\n",
    "        if np.sign(mean_F_al-mean_F_model) * np.sign(mean_F_am-mean_F_model) > 0:\n",
    "            alpha_low = alpha_midpoint\n",
    "        else:\n",
    "            alpha_high = alpha_midpoint\n",
    "                \n",
    "        if abs(mean_F_am/mean_F_model - 1) < tolerance:\n",
    "            exit = 1\n",
    "        else:\n",
    "            count += 1\n",
    "            \n",
    "        alpha = alpha_midpoint\n",
    "        mean_F,sigma_F = get_flux_stats(z_bin_centre,sigma_G,alpha,beta)\n",
    "    \n",
    "    print('sigma G {:2.2f}, alpha {:2.2f}: mean F {:2.4f}, sigma F {:2.4f}, n {:3d}'.format(sigma_G,alpha,mean_F,sigma_F,count))"
   ]
  },
  {
   "cell_type": "code",
   "execution_count": null,
   "metadata": {
    "collapsed": true,
    "scrolled": true
   },
   "outputs": [],
   "source": []
  }
 ],
 "metadata": {
  "kernelspec": {
   "display_name": "Python 3",
   "language": "python",
   "name": "python3"
  },
  "language_info": {
   "codemirror_mode": {
    "name": "ipython",
    "version": 3
   },
   "file_extension": ".py",
   "mimetype": "text/x-python",
   "name": "python",
   "nbconvert_exporter": "python",
   "pygments_lexer": "ipython3",
   "version": "3.6.3"
  }
 },
 "nbformat": 4,
 "nbformat_minor": 2
}
