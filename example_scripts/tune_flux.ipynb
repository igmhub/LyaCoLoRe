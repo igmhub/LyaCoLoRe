{
 "cells": [
  {
   "cell_type": "code",
   "execution_count": 191,
   "metadata": {
    "collapsed": true
   },
   "outputs": [],
   "source": [
    "import numpy as np\n",
    "import matplotlib.pyplot as plt\n",
    "from astropy.io import fits"
   ]
  },
  {
   "cell_type": "code",
   "execution_count": 192,
   "metadata": {
    "collapsed": true
   },
   "outputs": [],
   "source": [
    "z_bin_centre = 2.0\n",
    "z_bin_width = 0.2\n",
    "z_bin = (z_bin_centre-z_bin_width/2,z_bin_centre+z_bin_width/2)\n",
    "beta = 1.0"
   ]
  },
  {
   "cell_type": "code",
   "execution_count": 202,
   "metadata": {},
   "outputs": [
    {
     "name": "stdout",
     "output_type": "stream",
     "text": [
      "we have 6579 skewers, each with 74 cells\n",
      "actual z-range of cells: 1.92 < z < 2.10\n"
     ]
    }
   ],
   "source": [
    "#Get the gaussian delta skewers\n",
    "h = fits.open('/Users/jfarr/Projects/repixelise/test_output/test_multi/0/10/picca-gaussian-8-10.fits')\n",
    "delta_G_rows = h[1].data.T\n",
    "#delta_G_rows = delta_G_rows[0,:]\n",
    "\n",
    "#Trim the skewers to a narrow window around the z value selected\n",
    "#Get the growth factor and any other useful things\n",
    "master = fits.open('/Users/jfarr/Projects/repixelise/test_output/test_multi/nside_8_master.fits')\n",
    "D = master[2].data['D'][-571:]\n",
    "Z = master[2].data['Z'][-571:]\n",
    "valid_start = np.argmax(Z>z_bin[0])\n",
    "valid_end = np.argmax(Z>z_bin[1]) - 1\n",
    "\n",
    "D = D[valid_start:valid_end]\n",
    "Z = Z[valid_start:valid_end]\n",
    "delta_G_rows = delta_G_rows[:,valid_start:valid_end]\n",
    "\n",
    "print('we have {} skewers, each with {} cells'.format(delta_G_rows.shape[0],delta_G_rows.shape[1]))\n",
    "print('actual z-range of cells: {:2.2f} < z < {:2.2f}'.format(np.min(Z),np.max(Z)))"
   ]
  },
  {
   "cell_type": "code",
   "execution_count": 241,
   "metadata": {
    "collapsed": true
   },
   "outputs": [],
   "source": [
    "def lognormal_transform(delta_G_rows,sigma_G,D):\n",
    "    density_rows = np.zeros(delta_G_rows.shape)\n",
    "    for j in range(delta_G_rows.shape[1]):\n",
    "        D_j = D[j]\n",
    "        density_rows[:,j] = np.exp(D_j*delta_G_rows[:,j]-(D_j**2)*(sigma_G**2)/2.)\n",
    "    return density_rows"
   ]
  },
  {
   "cell_type": "code",
   "execution_count": 298,
   "metadata": {
    "collapsed": true
   },
   "outputs": [],
   "source": [
    "def get_mean_F_model(z):\n",
    "    return np.exp((np.log(0.8))*((1+z)/3.25)**3.2)"
   ]
  },
  {
   "cell_type": "code",
   "execution_count": 299,
   "metadata": {},
   "outputs": [],
   "source": [
    "def get_flux_stats(z,sigma_G,alpha,beta,delta_G_rows):\n",
    "        \n",
    "    density_rows = lognormal_transform(delta_G_rows,sigma_G,D)\n",
    "\n",
    "    delta_G_data = np.reshape(delta_G_rows,delta_G_rows.shape[0] * delta_G_rows.shape[1])\n",
    "    density_data = np.reshape(density_rows,density_rows.shape[0] * density_rows.shape[1])\n",
    "    \n",
    "    F_data = np.exp(-alpha*(density_data**beta))\n",
    "    \n",
    "    mean_F = np.average(F_data)\n",
    "\n",
    "    delta_F_data = F_data/mean_F - 1\n",
    "\n",
    "    prob_delta_G = (1/(np.sqrt(2*np.pi)*sigma_G))*np.exp(-(delta_G_data**2)/(2*sigma_G**2))\n",
    "    \n",
    "    sigma_F = np.sqrt(np.trapz(prob_delta_G*delta_F_data,delta_G_data))\n",
    "    \n",
    "    return mean_F, sigma_F"
   ]
  },
  {
   "cell_type": "code",
   "execution_count": 300,
   "metadata": {
    "collapsed": true
   },
   "outputs": [],
   "source": [
    "def search_parameter_monotonic(start_parameter,tolerance):\n",
    "    return"
   ]
  },
  {
   "cell_type": "code",
   "execution_count": 318,
   "metadata": {},
   "outputs": [
    {
     "name": "stdout",
     "output_type": "stream",
     "text": [
      "2.0 <= sigma_G <= 10.0\n",
      "20 values of sigma_G will be tested\n"
     ]
    }
   ],
   "source": [
    "sigma_G_values = np.linspace(2,10,20)\n",
    "print('{} <= sigma_G <= {}'.format(np.min(sigma_G_grid),np.max(sigma_G_grid)))\n",
    "print('{} values of sigma_G will be tested'.format(sigma_G_grid.shape[0]))"
   ]
  },
  {
   "cell_type": "code",
   "execution_count": 319,
   "metadata": {},
   "outputs": [
    {
     "name": "stdout",
     "output_type": "stream",
     "text": [
      "mean F model 0.8413721721350615\n",
      "\n"
     ]
    },
    {
     "name": "stderr",
     "output_type": "stream",
     "text": [
      "/Users/jfarr/anaconda3/lib/python3.6/site-packages/ipykernel_launcher.py:16: RuntimeWarning: invalid value encountered in sqrt\n",
      "  app.launch_new_instance()\n"
     ]
    },
    {
     "name": "stdout",
     "output_type": "stream",
     "text": [
      "sigma G 2.00, alpha 0.17: mean F 0.8413, sigma F nan, n  20\n",
      "sigma G 2.42, alpha 0.20: mean F 0.8414, sigma F nan, n  21\n",
      "sigma G 2.84, alpha 0.24: mean F 0.8414, sigma F nan, n  20\n",
      "sigma G 3.26, alpha 0.30: mean F 0.8413, sigma F 0.1001, n  17\n",
      "sigma G 3.68, alpha 0.39: mean F 0.8414, sigma F 0.2186, n  19\n",
      "sigma G 4.11, alpha 0.52: mean F 0.8413, sigma F 0.2827, n  19\n",
      "sigma G 4.53, alpha 0.72: mean F 0.8414, sigma F 0.3272, n  18\n",
      "sigma G 4.95, alpha 1.02: mean F 0.8414, sigma F 0.3600, n  15\n",
      "sigma G 5.37, alpha 1.50: mean F 0.8414, sigma F 0.3845, n  18\n",
      "sigma G 5.79, alpha 2.27: mean F 0.8414, sigma F 0.4021, n  15\n",
      "sigma G 6.21, alpha 3.55: mean F 0.8414, sigma F 0.4139, n  17\n",
      "sigma G 6.63, alpha 5.72: mean F 0.8414, sigma F 0.4201, n  15\n",
      "sigma G 7.05, alpha 9.51: mean F 0.8414, sigma F 0.4211, n  16\n",
      "sigma G 7.47, alpha 16.31: mean F 0.8414, sigma F 0.4166, n  15\n",
      "sigma G 7.89, alpha 28.84: mean F 0.8414, sigma F 0.4063, n  14\n",
      "sigma G 8.32, alpha 52.61: mean F 0.8414, sigma F 0.3897, n  12\n",
      "sigma G 8.74, alpha 99.00: mean F 0.8414, sigma F 0.3657, n  12\n",
      "sigma G 9.16, alpha 192.14: mean F 0.8414, sigma F 0.3325, n  11\n",
      "sigma G 9.58, alpha 384.52: mean F 0.8414, sigma F 0.2865, n  11\n",
      "sigma G 10.00, alpha 793.95: mean F 0.8413, sigma F 0.2198, n   9\n"
     ]
    }
   ],
   "source": [
    "tolerance = 0.0001\n",
    "\n",
    "mean_F_model = get_mean_F_model(z)\n",
    "print('mean F model {}\\n'.format(mean_F_model))\n",
    "\n",
    "for sigma_G in sigma_G_values:\n",
    "    \n",
    "    alpha_low = 0.0\n",
    "    alpha_high = 1000.0\n",
    "    \n",
    "    count = 0\n",
    "    exit = 0\n",
    "    \n",
    "    while exit == 0 and count < 100:\n",
    "        alpha_midpoint = (alpha_low + alpha_high)/2.0\n",
    "\n",
    "        mean_F_al,sigma_F_al = get_flux_stats(z,sigma_G,alpha_low,beta,delta_G_rows)\n",
    "        mean_F_am,sigma_F_am = get_flux_stats(z,sigma_G,alpha_midpoint,beta,delta_G_rows)\n",
    "        mean_F_ah,sigma_F_ah = get_flux_stats(z,sigma_G,alpha_high,beta,delta_G_rows)\n",
    "\n",
    "        #print('model: {:2.2f}, ({:2.2f},{:2.2f},{:2.2f}), ({:2.2f},{:2.2f},{:2.2f}), ({:2.2f},{:2.2f},{:2.2f})'.format(mean_F_model,alpha_low,alpha_midpoint,alpha_high,mean_F_al,mean_F_am,mean_F_ah,sigma_F_al,sigma_F_am,sigma_F_ah))\n",
    "        if np.sign(mean_F_al-mean_F_model) * np.sign(mean_F_am-mean_F_model) > 0:\n",
    "            alpha_low = alpha_midpoint\n",
    "        else:\n",
    "            alpha_high = alpha_midpoint\n",
    "                \n",
    "        if abs(mean_F_am/mean_F_model - 1) < tolerance:\n",
    "            exit = 1\n",
    "        else:\n",
    "            count += 1\n",
    "            \n",
    "        alpha = alpha_midpoint\n",
    "        mean_F = mean_F_am\n",
    "        sigma_F = sigma_F_am\n",
    "    \n",
    "    print('sigma G {:2.2f}, alpha {:2.2f}: mean F {:2.4f}, sigma F {:2.4f}, n {:3d}'.format(sigma_G,alpha,mean_F,sigma_F,count))"
   ]
  },
  {
   "cell_type": "code",
   "execution_count": null,
   "metadata": {},
   "outputs": [],
   "source": []
  },
  {
   "cell_type": "code",
   "execution_count": null,
   "metadata": {
    "collapsed": true
   },
   "outputs": [],
   "source": []
  },
  {
   "cell_type": "code",
   "execution_count": null,
   "metadata": {
    "collapsed": true
   },
   "outputs": [],
   "source": []
  }
 ],
 "metadata": {
  "kernelspec": {
   "display_name": "Python 3",
   "language": "python",
   "name": "python3"
  },
  "language_info": {
   "codemirror_mode": {
    "name": "ipython",
    "version": 3
   },
   "file_extension": ".py",
   "mimetype": "text/x-python",
   "name": "python",
   "nbconvert_exporter": "python",
   "pygments_lexer": "ipython3",
   "version": "3.6.2"
  }
 },
 "nbformat": 4,
 "nbformat_minor": 2
}
