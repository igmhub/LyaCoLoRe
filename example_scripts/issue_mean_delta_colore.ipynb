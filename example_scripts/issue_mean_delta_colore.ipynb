{
 "cells": [
  {
   "cell_type": "code",
   "execution_count": 10,
   "metadata": {
    "collapsed": true
   },
   "outputs": [],
   "source": [
    "import numpy as np\n",
    "from astropy.io import fits\n",
    "import matplotlib.pyplot as plt"
   ]
  },
  {
   "cell_type": "code",
   "execution_count": 22,
   "metadata": {},
   "outputs": [],
   "source": [
    "#Open data file\n",
    "#hdulist = fits.open('/Users/jfarr/Projects/repixelise/test_input/test_skewers_4096_gaussian_srcs_s0_0_cut_10000.fits')\n",
    "hdulist = fits.open('/Users/jfarr/Projects/repixelise/test_input/test_skewers_4096_gaussian_srcs_s0_0.fits')\n",
    "\n",
    "#Extract redshift from data file\n",
    "z = hdulist[4].data['Z']\n",
    "z = np.asarray(z)\n",
    "\n",
    "#Extract the density skewers from data file\n",
    "delta_skewers = hdulist[2].data\n",
    "delta_squared_skewers = delta_skewers**2"
   ]
  },
  {
   "cell_type": "code",
   "execution_count": 23,
   "metadata": {},
   "outputs": [
    {
     "name": "stdout",
     "output_type": "stream",
     "text": [
      "There are 442460 quasars in the sample.\n",
      "There are 2048 cells in each skewer.\n"
     ]
    }
   ],
   "source": [
    "#Get number of quasars and cells, as well as a list of quasar redshifts\n",
    "z_qso = hdulist[1].data['Z_COSMO']\n",
    "N_qso = len(z_qso)\n",
    "N_cells = delta_skewers.shape[1]\n",
    "print('There are %d quasars in the sample.' % N_qso)\n",
    "print('There are %d cells in each skewer.' % N_cells)"
   ]
  },
  {
   "cell_type": "code",
   "execution_count": 24,
   "metadata": {
    "collapsed": true
   },
   "outputs": [],
   "source": [
    "#Make a mask to remove irrelevant data when averaging (deltas for z>z_qso)\n",
    "mask = np.ones(delta_skewers.shape)\n",
    "max_pixel_qso = [0.]*N_qso\n",
    "for j in range(N_qso):\n",
    "    max_pixel_qso[j] = (np.argmax(z>z_qso[j]))%N_cells\n",
    "    mask[j,max_pixel_qso[j]+1:]=np.zeros(1,(mask.shape[1]-max_pixel_qso[j]-1))"
   ]
  },
  {
   "cell_type": "code",
   "execution_count": 25,
   "metadata": {},
   "outputs": [
    {
     "name": "stdout",
     "output_type": "stream",
     "text": [
      "The mean delta over all z is 0.213053.\n"
     ]
    }
   ],
   "source": [
    "#Calculate the average delta over all skewers\n",
    "mean_delta = np.zeros(N_cells)\n",
    "secondary_mask = np.ones(N_cells)\n",
    "for j in range(N_cells):\n",
    "    if sum(mask[:,j])!=0:\n",
    "        mean_delta[j] = np.average(delta_skewers[:,j],weights=mask[:,j])\n",
    "    else:\n",
    "         secondary_mask[j] = 0   \n",
    "\n",
    "#Calculate the average delta squared over all skewers\n",
    "mean_delta_squared = np.zeros(N_cells)\n",
    "for j in range(N_cells):\n",
    "    if sum(mask[:,j])!=0:\n",
    "        mean_delta_squared[j] = np.average(delta_squared_skewers[:,j],weights=mask[:,j])\n",
    "\n",
    "#Show the mean delta over all z.\n",
    "print('The mean delta over all z is %f.' % np.average(mean_delta, weights=secondary_mask))"
   ]
  },
  {
   "cell_type": "code",
   "execution_count": 26,
   "metadata": {
    "collapsed": true
   },
   "outputs": [],
   "source": [
    "#Set up the binned data structure\n",
    "N_bins = 100\n",
    "binned_z = np.zeros(N_bins)\n",
    "binned_z_location = np.zeros(N_bins)\n",
    "binned_mean_delta = np.zeros(N_bins)\n",
    "binned_delta_var = np.zeros(N_bins)"
   ]
  },
  {
   "cell_type": "code",
   "execution_count": 27,
   "metadata": {
    "collapsed": true
   },
   "outputs": [],
   "source": [
    "#Construct the conversion matrix: an N_bins by N_cells matrix detailing the contribution of each cell to each bin\n",
    "#conversion[i,j] denotes the contribution of the jth cell to the ith bin\n",
    "conversion = np.zeros((N_bins,N_cells))\n",
    "ratio = N_cells/N_bins\n",
    "\n",
    "for i in range(N_bins):\n",
    "    unassigned_row_contribution=ratio\n",
    "    \n",
    "    for j in range(N_cells):\n",
    "        unassigned_col_contribution=1-sum(conversion[:,j])\n",
    "        \n",
    "        if unassigned_row_contribution>0:\n",
    "            conversion[i,j] = min(unassigned_row_contribution,unassigned_col_contribution,1)\n",
    "            unassigned_row_contribution -= conversion[i,j]\n",
    "            unassigned_col_contribution -= conversion[i,j]\n",
    "        else:\n",
    "            break\n",
    "            \n",
    "    #Construct output vectors\n",
    "    binned_z_location[i] = (i+0.5)*ratio + 0.5\n",
    "    binned_mean_delta[i] = sum(conversion[i,:]*mean_delta)/ratio\n",
    "    binned_delta_var[i] = sum(conversion[i,:]*mean_delta_squared)/ratio - (binned_mean_delta[i])**2"
   ]
  },
  {
   "cell_type": "code",
   "execution_count": 28,
   "metadata": {
    "collapsed": true
   },
   "outputs": [],
   "source": [
    "#Calculate the binned z values by linear interpolation\n",
    "binned_z = np.interp(binned_z_location,list(range(N_cells)),z)"
   ]
  },
  {
   "cell_type": "code",
   "execution_count": 29,
   "metadata": {},
   "outputs": [
    {
     "data": {
      "image/png": "[encoded data removed]",
      "text/plain": [
       "<matplotlib.figure.Figure at 0x228e226d8>"
      ]
     },
     "metadata": {},
     "output_type": "display_data"
    },
    {
     "data": {
      "image/png": "[encoded data removed]",
      "text/plain": [
       "<matplotlib.figure.Figure at 0x10839ba58>"
      ]
     },
     "metadata": {},
     "output_type": "display_data"
    }
   ],
   "source": [
    "#Show the calculated statistics against z\n",
    "plt.figure()\n",
    "plot_binned_mean_delta = plt.plot(binned_z, binned_mean_delta)\n",
    "plt.xlabel('z')\n",
    "plt.ylabel('Mean delta')\n",
    "plt.figure()\n",
    "plot_binned_delta_var = plt.plot(binned_z, binned_delta_var)\n",
    "plt.xlabel('z')\n",
    "plt.ylabel('Delta variance')\n",
    "plt.show()"
   ]
  },
  {
   "cell_type": "code",
   "execution_count": null,
   "metadata": {
    "collapsed": true
   },
   "outputs": [],
   "source": []
  }
 ],
 "metadata": {
  "kernelspec": {
   "display_name": "Python 3",
   "language": "python",
   "name": "python3"
  },
  "language_info": {
   "codemirror_mode": {
    "name": "ipython",
    "version": 3
   },
   "file_extension": ".py",
   "mimetype": "text/x-python",
   "name": "python",
   "nbconvert_exporter": "python",
   "pygments_lexer": "ipython3",
   "version": "3.6.2"
  }
 },
 "nbformat": 4,
 "nbformat_minor": 2
}
