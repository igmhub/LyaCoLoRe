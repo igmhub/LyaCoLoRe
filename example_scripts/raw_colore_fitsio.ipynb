{
 "cells": [
  {
   "cell_type": "markdown",
   "metadata": {},
   "source": [
    "# Use fitsio instead of PyFITS to read outputs from CoLoRe"
   ]
  },
  {
   "cell_type": "code",
   "execution_count": 1,
   "metadata": {},
   "outputs": [
    {
     "name": "stdout",
     "output_type": "stream",
     "text": [
      "Populating the interactive namespace from numpy and matplotlib\n"
     ]
    }
   ],
   "source": [
    "%pylab inline"
   ]
  },
  {
   "cell_type": "code",
   "execution_count": 2,
   "metadata": {
    "collapsed": true
   },
   "outputs": [],
   "source": [
    "import numpy as np\n",
    "import fitsio\n",
    "import matplotlib.pyplot as plt"
   ]
  },
  {
   "cell_type": "code",
   "execution_count": 3,
   "metadata": {
    "collapsed": true
   },
   "outputs": [],
   "source": [
    "#Open data file (test file with few quasars)\n",
    "h = fitsio.FITS('../example_data/raw_colore/test_N1000.fits')"
   ]
  },
  {
   "cell_type": "code",
   "execution_count": 4,
   "metadata": {},
   "outputs": [
    {
     "name": "stdout",
     "output_type": "stream",
     "text": [
      "# quasars = 1000\n",
      "0.19643 < z_qso < 3.74638\n"
     ]
    }
   ],
   "source": [
    "# get information about quasars (TYPE,RA,DEC,Z_COSMO,DZ_RSD)\n",
    "catalog = h[1].read()\n",
    "z_qso = catalog['Z_COSMO']\n",
    "Nq = len(z_qso)\n",
    "print('# quasars =',Nq)\n",
    "print(np.min(z_qso),'< z_qso <',np.max(z_qso))"
   ]
  },
  {
   "cell_type": "code",
   "execution_count": 5,
   "metadata": {},
   "outputs": [
    {
     "name": "stdout",
     "output_type": "stream",
     "text": [
      "# cells in grid = 2048\n",
      "0.000400246 < z < 3.78768\n"
     ]
    }
   ],
   "source": [
    "# get arraw with redshift in each cell of grid\n",
    "z = h[4].read()['Z']\n",
    "Nz=len(z)\n",
    "print('# cells in grid =',Nz)\n",
    "print(z[0],'< z <',z[-1])"
   ]
  },
  {
   "cell_type": "code",
   "execution_count": 6,
   "metadata": {},
   "outputs": [
    {
     "name": "stdout",
     "output_type": "stream",
     "text": [
      "(1000, 2048)\n",
      "mean delta 0.169895\n",
      "-0.999486 < delta < 259.773\n"
     ]
    }
   ],
   "source": [
    "# Get deltas (fluctuation around mean density) and line of sight velocity (actually, dz)\n",
    "deltas = h[2].read()\n",
    "velocities = h[3].read()\n",
    "print(deltas.shape)\n",
    "print('mean delta',np.mean(deltas))\n",
    "print(np.min(deltas),'< delta <',np.max(deltas))"
   ]
  },
  {
   "cell_type": "code",
   "execution_count": 7,
   "metadata": {
    "collapsed": true
   },
   "outputs": [],
   "source": [
    "# identify quasars with highest redshift, and get its delta and velocity\n",
    "id = np.argmax(z_qso)\n",
    "delta = deltas[id]\n",
    "velocity = velocities[id]"
   ]
  },
  {
   "cell_type": "code",
   "execution_count": 8,
   "metadata": {},
   "outputs": [
    {
     "data": {
      "text/plain": [
       "<matplotlib.legend.Legend at 0x11bbd44a8>"
      ]
     },
     "execution_count": 8,
     "metadata": {},
     "output_type": "execute_result"
    },
    {
     "data": {
      "image/png": "[encoded data removed]",
      "text/plain": [
       "<matplotlib.figure.Figure at 0x1176de518>"
      ]
     },
     "metadata": {},
     "output_type": "display_data"
    }
   ],
   "source": [
    "# plot delta for highest-z quasar skewer, vs redshift\n",
    "plt.xlim(3.0,3.2)\n",
    "plt.ylim(-1,4)\n",
    "plt.xlabel('z')\n",
    "plt.ylabel('delta density')\n",
    "plt.plot(z,delta,label='real space')\n",
    "plt.plot(z-velocity,delta,label='redshift space')\n",
    "plt.legend()"
   ]
  },
  {
   "cell_type": "code",
   "execution_count": null,
   "metadata": {
    "collapsed": true
   },
   "outputs": [],
   "source": []
  }
 ],
 "metadata": {
  "kernelspec": {
   "display_name": "Python 3",
   "language": "python",
   "name": "python3"
  },
  "language_info": {
   "codemirror_mode": {
    "name": "ipython",
    "version": 3
   },
   "file_extension": ".py",
   "mimetype": "text/x-python",
   "name": "python",
   "nbconvert_exporter": "python",
   "pygments_lexer": "ipython3",
   "version": "3.5.3"
  }
 },
 "nbformat": 4,
 "nbformat_minor": 2
}
