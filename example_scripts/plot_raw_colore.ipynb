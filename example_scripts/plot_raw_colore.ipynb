{
 "cells": [
  {
   "cell_type": "markdown",
   "metadata": {},
   "source": [
    "# Read and plot skewer outputs from CoLoRe"
   ]
  },
  {
   "cell_type": "code",
   "execution_count": 1,
   "metadata": {},
   "outputs": [
    {
     "name": "stdout",
     "output_type": "stream",
     "text": [
      "Populating the interactive namespace from numpy and matplotlib\n"
     ]
    }
   ],
   "source": [
    "%pylab inline"
   ]
  },
  {
   "cell_type": "code",
   "execution_count": 2,
   "metadata": {
    "collapsed": true
   },
   "outputs": [],
   "source": [
    "import numpy as np\n",
    "from astropy.io import fits\n",
    "import matplotlib.pyplot as plt"
   ]
  },
  {
   "cell_type": "code",
   "execution_count": 3,
   "metadata": {},
   "outputs": [
    {
     "name": "stdout",
     "output_type": "stream",
     "text": [
      "Filename: ../example_data/raw_colore/N1000_out_srcs_s0_15.fits\n",
      "No.    Name      Ver    Type      Cards   Dimensions   Format\n",
      "  0  PRIMARY       1 PrimaryHDU       6   ()      \n",
      "  1  CATALOG       1 BinTableHDU     24   1000R x 5C   [1J, 1E, 1E, 1E, 1E]   \n",
      "  2  DENSITY SKEWERS    1 ImageHDU         8   (1979, 1000)   float32   \n",
      "  3  VELOCITY SKEWERS    1 ImageHDU         8   (1979, 1000)   float32   \n",
      "  4  BACKGROUND COSMOLOGY    1 BinTableHDU     21   1979R x 4C   [1E, 1E, 1E, 1E]   \n"
     ]
    }
   ],
   "source": [
    "#Open data file (test file with few quasars)\n",
    "hdulist = fits.open('../example_data/raw_colore/N1000_out_srcs_s0_15.fits')\n",
    "hdulist.info()"
   ]
  },
  {
   "cell_type": "code",
   "execution_count": 15,
   "metadata": {},
   "outputs": [
    {
     "name": "stdout",
     "output_type": "stream",
     "text": [
      "# quasars = 1000\n",
      "0.139725 < z_qso < 3.48193\n"
     ]
    }
   ],
   "source": [
    "# get information about quasars (TYPE,RA,DEC,Z_COSMO,DZ_RSD)\n",
    "catalog = hdulist[1].data\n",
    "z_qso = catalog['Z_COSMO']\n",
    "Nq = len(z_qso)\n",
    "print('# quasars =',Nq)\n",
    "print(np.min(z_qso),'< z_qso <',np.max(z_qso))"
   ]
  },
  {
   "cell_type": "code",
   "execution_count": 8,
   "metadata": {},
   "outputs": [
    {
     "name": "stdout",
     "output_type": "stream",
     "text": [
      "# cells in grid = 1979\n",
      "0.000400246 < z < 3.4825\n"
     ]
    }
   ],
   "source": [
    "# get arraw with redshift in each cell of grid\n",
    "z = hdulist[4].data['Z']\n",
    "Nz=len(z)\n",
    "print('# cells in grid =',Nz)\n",
    "print(z[0],'< z <',z[-1])"
   ]
  },
  {
   "cell_type": "code",
   "execution_count": 9,
   "metadata": {},
   "outputs": [
    {
     "name": "stdout",
     "output_type": "stream",
     "text": [
      "(1000, 1979)\n",
      "mean delta 0.038736\n",
      "-0.993948 < delta < 107.852\n"
     ]
    }
   ],
   "source": [
    "# Get deltas (fluctuation around mean density) and line of sight velocity (actually, dz)\n",
    "deltas = hdulist[2].data\n",
    "velocities = hdulist[3].data\n",
    "print(deltas.shape)\n",
    "print('mean delta',np.mean(deltas))\n",
    "print(np.min(deltas),'< delta <',np.max(deltas))"
   ]
  },
  {
   "cell_type": "code",
   "execution_count": 10,
   "metadata": {
    "collapsed": true
   },
   "outputs": [],
   "source": [
    "# identify quasars with highest redshift, and get its delta and velocity\n",
    "id = np.argmax(z_qso)\n",
    "delta = deltas[id]\n",
    "velocity = velocities[id]"
   ]
  },
  {
   "cell_type": "code",
   "execution_count": 11,
   "metadata": {},
   "outputs": [
    {
     "data": {
      "text/plain": [
       "<matplotlib.legend.Legend at 0x108e88860>"
      ]
     },
     "execution_count": 11,
     "metadata": {},
     "output_type": "execute_result"
    },
    {
     "data": {
      "image/png": "[encoded data removed]",
      "text/plain": [
       "<matplotlib.figure.Figure at 0x10621e6d8>"
      ]
     },
     "metadata": {},
     "output_type": "display_data"
    }
   ],
   "source": [
    "# plot delta for highest-z quasar skewer, vs redshift\n",
    "plt.xlim(3.0,3.2)\n",
    "plt.ylim(-1,4)\n",
    "plt.xlabel('z')\n",
    "plt.ylabel('delta density')\n",
    "plt.plot(z,delta,label='real space')\n",
    "plt.plot(z-velocity,delta,label='redshift space')\n",
    "plt.legend()"
   ]
  },
  {
   "cell_type": "code",
   "execution_count": null,
   "metadata": {
    "collapsed": true
   },
   "outputs": [],
   "source": []
  }
 ],
 "metadata": {
  "kernelspec": {
   "display_name": "Python 3",
   "language": "python",
   "name": "python3"
  },
  "language_info": {
   "codemirror_mode": {
    "name": "ipython",
    "version": 3
   },
   "file_extension": ".py",
   "mimetype": "text/x-python",
   "name": "python",
   "nbconvert_exporter": "python",
   "pygments_lexer": "ipython3",
   "version": "3.6.2"
  }
 },
 "nbformat": 4,
 "nbformat_minor": 2
}
