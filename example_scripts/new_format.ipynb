{
 "cells": [
  {
   "cell_type": "markdown",
   "metadata": {},
   "source": [
    "# Transform files with picca format, to files with desisim format"
   ]
  },
  {
   "cell_type": "code",
   "execution_count": 1,
   "metadata": {},
   "outputs": [
    {
     "name": "stdout",
     "output_type": "stream",
     "text": [
      "Populating the interactive namespace from numpy and matplotlib\n"
     ]
    }
   ],
   "source": [
    "%pylab inline"
   ]
  },
  {
   "cell_type": "code",
   "execution_count": 2,
   "metadata": {
    "collapsed": true
   },
   "outputs": [],
   "source": [
    "import os\n",
    "import numpy as np\n",
    "from astropy.io import fits\n",
    "import matplotlib.pyplot as plt\n",
    "import healpy as hp\n",
    "import desitarget.mock.io as mockio\n",
    "import lya_mock_functions as mock"
   ]
  },
  {
   "cell_type": "code",
   "execution_count": 3,
   "metadata": {},
   "outputs": [
    {
     "name": "stdout",
     "output_type": "stream",
     "text": [
      "Filename: ../example_data/delta_picca/nside_4_pix_0.fits\n",
      "No.    Name         Type      Cards   Dimensions   Format\n",
      "  0  PRIMARY     PrimaryHDU       9   (76304, 2048)   float32   \n",
      "  1  IV          ImageHDU        11   (76304, 2048)   float64   \n",
      "  2  LOGLAM_MAP  ImageHDU        10   (2048,)   float32   \n",
      "  3  CATALOG     BinTableHDU     23   76304R x 7C   [E, E, E, E, E, E, 10A]   \n"
     ]
    }
   ],
   "source": [
    "# open file with picca format\n",
    "filename='../example_data/delta_picca/nside_4_pix_0.fits'\n",
    "#filename='../example_data/delta_picca/z1.85/z1.85_N1000_node_015_nside_4_pix_10.fits'\n",
    "h = fits.open(filename)\n",
    "h.info()"
   ]
  },
  {
   "cell_type": "code",
   "execution_count": 4,
   "metadata": {},
   "outputs": [
    {
     "data": {
      "text/plain": [
       "FITS_rec([(67.184296, nan, 3.5867739, 0.0, 0.0, 0.0, '0000580781'),\n",
       "       (66.028549, nan, 3.5837805, 0.0, 0.0, 0.0, '0000580783'),\n",
       "       (66.57975, nan, 3.5834749, 0.0, 0.0, 0.0, '0000580784'), ...,\n",
       "       (73.661453, 76.690735, 3.7589865, 0.0, 0.0, 0.0, '0200293732'),\n",
       "       (89.650948, 84.195755, 3.7711389, 0.0, 0.0, 0.0, '0200293835'),\n",
       "       (85.358955, 83.602943, 3.775635, 0.0, 0.0, 0.0, '0200293888')], \n",
       "      dtype=(numpy.record, [('RA', '>f4'), ('DEC', '>f4'), ('Z', '>f4'), ('PLATE', '>f4'), ('MJD', '>f4'), ('FIBER', '>f4'), ('THING_ID', 'S10')]))"
      ]
     },
     "execution_count": 4,
     "metadata": {},
     "output_type": "execute_result"
    }
   ],
   "source": [
    "#print catalog info\n",
    "h[3].data"
   ]
  },
  {
   "cell_type": "code",
   "execution_count": 5,
   "metadata": {},
   "outputs": [
    {
     "name": "stdout",
     "output_type": "stream",
     "text": [
      "# initial quasars = 76304\n",
      "original shape (2048, 76304)\n",
      "2.00008 < z_qso < 3.79\n",
      "# high-z quasars = 32306\n",
      "# good quasars ="
     ]
    },
    {
     "name": "stderr",
     "output_type": "stream",
     "text": [
      "/Users/font/Programs/Others/anaconda3/envs/desi/lib/python3.5/site-packages/ipykernel_launcher.py:18: RuntimeWarning: invalid value encountered in less\n",
      "/Users/font/Programs/Others/anaconda3/envs/desi/lib/python3.5/site-packages/ipykernel_launcher.py:18: RuntimeWarning: invalid value encountered in greater\n"
     ]
    },
    {
     "name": "stdout",
     "output_type": "stream",
     "text": [
      " 28214\n",
      "full wavelength shape (2048, 28214)\n",
      "DESI shape (571, 28214)\n"
     ]
    }
   ],
   "source": [
    "# get information about quasars (TYPE,RA,DEC,Z_COSMO,DZ_RSD)\n",
    "catalog = h[3].data\n",
    "# get arraw with redshift in each cell of grid\n",
    "loglam = h[2].data\n",
    "# Get deltas (fluctuation around mean density) \n",
    "delta = h[0].data\n",
    "z_qso = catalog['Z']\n",
    "print('# initial quasars =',len(z_qso))\n",
    "# keep only quasars with z>2.0\n",
    "highz=z_qso>2.0\n",
    "z_qso = z_qso[highz]\n",
    "catalog = catalog[highz]\n",
    "print('original shape',delta.shape)\n",
    "delta = delta[:,highz]\n",
    "print(np.min(z_qso),'< z_qso <',np.max(z_qso))\n",
    "print('# high-z quasars =',len(z_qso))\n",
    "# keep only quasars with good Dec\n",
    "bad_dec = np.isnan(catalog['DEC']) | (catalog['DEC'] < -90.0) | (catalog['DEC'] > 90.0)\n",
    "catalog = catalog[np.invert(bad_dec)]\n",
    "z_qso = z_qso[np.invert(bad_dec)]\n",
    "delta = delta[:,np.invert(bad_dec)]\n",
    "Nq=len(z_qso)\n",
    "print('# good quasars =',len(z_qso))\n",
    "wave=np.power(10.0,loglam)\n",
    "z = wave/1215.67-1.0\n",
    "Nz=len(z)\n",
    "print('full wavelength shape',delta.shape)\n",
    "# we will only write pixels with wavelength in DESI spectrograph\n",
    "in_desi=wave>3550.0\n",
    "z = z[in_desi]\n",
    "wave = wave[in_desi]\n",
    "delta = delta[in_desi]\n",
    "print('DESI shape',delta.shape)"
   ]
  },
  {
   "cell_type": "code",
   "execution_count": 6,
   "metadata": {},
   "outputs": [],
   "source": [
    "# identify HEALPix pixels for our quasars\n",
    "nside=8\n",
    "Npix=12*nside*nside\n",
    "pixels=hp.ang2pix(nside,(catalog['DEC']+90.0)/180.0*np.pi,catalog['RA']/180.0*np.pi)"
   ]
  },
  {
   "cell_type": "code",
   "execution_count": 7,
   "metadata": {},
   "outputs": [
    {
     "name": "stdout",
     "output_type": "stream",
     "text": [
      "relevant pixels [745, 756, 757, 764]\n"
     ]
    }
   ],
   "source": [
    "nonzero_pixels=[]\n",
    "for pix in range(Npix):\n",
    "    in_pix=(pixels==pix)\n",
    "    if len(catalog[in_pix]): \n",
    "        nonzero_pixels.append(pix)\n",
    "print('relevant pixels',nonzero_pixels)"
   ]
  },
  {
   "cell_type": "code",
   "execution_count": 8,
   "metadata": {},
   "outputs": [
    {
     "name": "stdout",
     "output_type": "stream",
     "text": [
      "delta shape (571, 7039)\n",
      "useful pixel 745 7039\n",
      "delta shape (571, 7266)\n",
      "useful pixel 756 7266\n",
      "delta shape (571, 6993)\n",
      "useful pixel 757 6993\n",
      "delta shape (571, 6916)\n",
      "useful pixel 764 6916\n"
     ]
    }
   ],
   "source": [
    "transmission_base_dir='test_dir_'+str(nside)\n",
    "for pix in range(Npix):\n",
    "    # get quasars in HEALPix pixel\n",
    "    in_pix=(pixels==pix)\n",
    "    # if none, move on\n",
    "    if len(catalog[in_pix]) == 0:\n",
    "        continue\n",
    "    # select relevant quasars\n",
    "    qso_in_pix = catalog[in_pix]\n",
    "    delta_in_pix = delta[:,in_pix]\n",
    "    print('delta shape',delta_in_pix.shape)\n",
    "    N_in_pix=len(qso_in_pix)\n",
    "    print('useful pixel',pix,N_in_pix)\n",
    "\n",
    "    #Add a couple of headers to the file.\n",
    "    header = fits.Header()\n",
    "    header['NSIDE'] = nside\n",
    "    header['NQSO'] = N_in_pix\n",
    "    header['PIX'] = int(pix)\n",
    "    prim_hdu = fits.PrimaryHDU(header=header)\n",
    "\n",
    "    #meta-data\n",
    "    ra=qso_in_pix['RA']\n",
    "    dec=qso_in_pix['DEC']\n",
    "    zq=qso_in_pix['Z']\n",
    "    mockid=qso_in_pix['THING_ID']\n",
    "    \n",
    "    #Construct a table for the meta-data hdu\n",
    "    col_ra = fits.Column(name='RA', array=ra, format='E')\n",
    "    col_dec = fits.Column(name='DEC', array=dec, format='E')\n",
    "    col_zq = fits.Column(name='Z', array=zq, format='E')\n",
    "    col_id = fits.Column(name='MOCKID', array=mockid, format='A10')\n",
    "    meta_hdu = fits.BinTableHDU.from_columns([col_ra, col_dec, col_zq, col_id],name='METADATA')\n",
    "    #meta_hdu.writeto('test_'+str(pix)+'.fits')\n",
    "        \n",
    "    flux = np.empty_like(delta_in_pix)\n",
    "    for i in range(N_in_pix):\n",
    "        # Convert density to flux\n",
    "        tau = mock.get_tau(z,1+delta_in_pix[:,i])\n",
    "        toflux = np.exp(-tau)\n",
    "        # only add absorption in the forest \n",
    "        no_forest = (z > z_qso[i])\n",
    "        toflux[no_forest]=1.0\n",
    "        flux[:,i]=toflux\n",
    "    \n",
    "    wave_hdu = fits.ImageHDU(data=wave,name='WAVELENGTH')\n",
    "    flux_hdu = fits.ImageHDU(data=flux,name='TRANSMISSION')\n",
    "    hdulist = fits.HDUList([prim_hdu,meta_hdu,wave_hdu,flux_hdu])\n",
    "\n",
    "    # open file to write\n",
    "    #filename='test_'+str(pix)+'.fits'\n",
    "    dirname=mockio.get_healpix_dir(nside, pix, basedir=transmission_base_dir)\n",
    "    #print('dirname',dirname)\n",
    "    os.makedirs(dirname, exist_ok=True)\n",
    "    filename=mockio.findfile('transmission', nside, pix, transmission_base_dir)\n",
    "    #print('filename',filename)\n",
    "    #fits = fitsio.FITS(filename,'rw',clobber=True)\n",
    "    hdulist.writeto(filename)"
   ]
  },
  {
   "cell_type": "code",
   "execution_count": 9,
   "metadata": {},
   "outputs": [
    {
     "name": "stdout",
     "output_type": "stream",
     "text": [
      "master file test_dir_8/master.fits\n"
     ]
    }
   ],
   "source": [
    "master_file=transmission_base_dir+\"/master.fits\"\n",
    "print('master file',master_file)\n",
    "\n",
    "#Add a couple of headers to the file.\n",
    "header = fits.Header()\n",
    "header['NSIDE'] = nside\n",
    "header['NQSO'] = Nq\n",
    "\n",
    "#Construct a table for the meta-data hdu\n",
    "col_ra = fits.Column(name='RA', array=catalog['RA'], format='E')\n",
    "col_dec = fits.Column(name='DEC', array=catalog['DEC'], format='E')\n",
    "col_zq = fits.Column(name='Z', array=catalog['Z'], format='E')\n",
    "col_id = fits.Column(name='MOCKID', array=catalog['THING_ID'], format='A10')\n",
    "col_pix = fits.Column(name='PIXNUM', array=pixels, format='J')\n",
    "meta_hdu = fits.BinTableHDU.from_columns([col_ra, col_dec, col_zq, col_id, col_pix],name='METADATA',header=header)\n",
    "meta_hdu.writeto(master_file)"
   ]
  },
  {
   "cell_type": "code",
   "execution_count": null,
   "metadata": {
    "collapsed": true
   },
   "outputs": [],
   "source": []
  }
 ],
 "metadata": {
  "kernelspec": {
   "display_name": "Python 3",
   "language": "python",
   "name": "python3"
  },
  "language_info": {
   "codemirror_mode": {
    "name": "ipython",
    "version": 3
   },
   "file_extension": ".py",
   "mimetype": "text/x-python",
   "name": "python",
   "nbconvert_exporter": "python",
   "pygments_lexer": "ipython3",
   "version": "3.5.3"
  }
 },
 "nbformat": 4,
 "nbformat_minor": 2
}
