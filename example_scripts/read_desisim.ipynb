{
 "cells": [
  {
   "cell_type": "markdown",
   "metadata": {},
   "source": [
    "# Use fitsio instead of PyFITS to read outputs from CoLoRe"
   ]
  },
  {
   "cell_type": "code",
   "execution_count": 1,
   "metadata": {},
   "outputs": [
    {
     "name": "stdout",
     "output_type": "stream",
     "text": [
      "Populating the interactive namespace from numpy and matplotlib\n"
     ]
    }
   ],
   "source": [
    "%pylab inline"
   ]
  },
  {
   "cell_type": "code",
   "execution_count": 2,
   "metadata": {
    "collapsed": true
   },
   "outputs": [],
   "source": [
    "import numpy as np\n",
    "import fitsio\n",
    "import matplotlib.pyplot as plt"
   ]
  },
  {
   "cell_type": "code",
   "execution_count": 3,
   "metadata": {},
   "outputs": [],
   "source": [
    "# test whether we can read file as in desisim.lya_spectra\n",
    "filename='../example_data/desisim_lya/desisim_lya_N10.fits'\n",
    "h = fitsio.FITS(filename)\n",
    "N=10\n",
    "heads = []\n",
    "for i in range(N):\n",
    "    heads.append(h[i+1].read_header())    \n",
    "\n",
    "zqso = np.array([head['ZQSO'] for head in heads])\n",
    "ra = np.array([head['RA'] for head in heads])\n",
    "dec = np.array([head['DEC'] for head in heads])\n",
    "mag_g = np.array([head['MAG_G'] for head in heads])\n",
    "\n",
    "for i in range(N):\n",
    "    data = h[i + 1].read()\n",
    "    la = data['LAMBDA'][:]\n",
    "    tr = data['FLUX'][:]\n",
    "\n",
    "h.close()"
   ]
  },
  {
   "cell_type": "code",
   "execution_count": 4,
   "metadata": {
    "collapsed": true
   },
   "outputs": [],
   "source": [
    "import desisim.lya_spectra as lyasim"
   ]
  },
  {
   "cell_type": "code",
   "execution_count": 5,
   "metadata": {},
   "outputs": [
    {
     "data": {
      "text/plain": [
       "(array([[ 2.80585289,  2.81195521,  2.8180573 , ...,  4.12978554,\n",
       "          4.12978554,  4.12978554],\n",
       "        [ 2.49304867,  2.50092936,  2.48768067, ...,  6.29382849,\n",
       "          6.36679125,  6.43975449],\n",
       "        [ 2.39811063,  2.40357471,  2.40856457, ...,  6.84307051,\n",
       "          6.85868788,  6.87430477],\n",
       "        ..., \n",
       "        [ 3.93971801,  3.93371582,  3.92727256, ...,  3.07619667,\n",
       "          3.06772709,  3.05981421],\n",
       "        [ 4.44954586,  4.43645525,  4.4229641 , ...,  3.96115589,\n",
       "          3.96282673,  3.96449804],\n",
       "        [ 4.47493076,  4.47261715,  4.47121906, ...,  4.20316029,\n",
       "          4.2005434 ,  4.19792604]], dtype=float32),\n",
       " array([  3600. ,   3600.2,   3600.4, ...,   9999.6,   9999.8,  10000. ]),\n",
       " <Table length=10>\n",
       " OBJTYPE SUBTYPE TEMPLATEID    SEED    ...   FEH         RA           DEC      \n",
       "                                       ...                                     \n",
       "  str10   str10    int64      int64    ... float32    float64       float64    \n",
       " ------- ------- ---------- ---------- ... ------- ------------- --------------\n",
       "     QSO     LYA          0 1440069029 ...    -1.0 10.6866588593  -12.163028717\n",
       "     QSO     LYA          0 4172804310 ...    -1.0 33.0150909424 -57.3413009644\n",
       "     QSO     LYA          0 1731226511 ...    -1.0 79.1942214966 -68.3571166992\n",
       "     QSO     LYA          0 2776743981 ...    -1.0 46.6225624084  4.43212461472\n",
       "     QSO     LYA          0 2458565764 ...    -1.0 35.2672729492  27.6650390625\n",
       "     QSO     LYA          0 2040861734 ...    -1.0 49.0482597351  -64.880531311\n",
       "     QSO     LYA          0 1557914233 ...    -1.0 36.4718513489 -76.5892028809\n",
       "     QSO     LYA          0 1845313199 ...    -1.0 350.026184082 -21.2390403748\n",
       "     QSO     LYA          0 3698771818 ...    -1.0 51.4670791626  31.2401199341\n",
       "     QSO     LYA          0 1209119307 ...    -1.0 2.17483592033 -12.2156801224)"
      ]
     },
     "execution_count": 5,
     "metadata": {},
     "output_type": "execute_result"
    }
   ],
   "source": [
    "#def get_spectra(lyafile, nqso=None, wave=None, templateid=None, normfilter='sdss2010-g',\n",
    "    #seed=None, rand=None, qso=None, add_dlas=False, debug=False, nocolorcuts=False):\n",
    "lyasim.get_spectra(filename)"
   ]
  },
  {
   "cell_type": "code",
   "execution_count": null,
   "metadata": {
    "collapsed": true
   },
   "outputs": [],
   "source": []
  }
 ],
 "metadata": {
  "kernelspec": {
   "display_name": "Python 3",
   "language": "python",
   "name": "python3"
  },
  "language_info": {
   "codemirror_mode": {
    "name": "ipython",
    "version": 3
   },
   "file_extension": ".py",
   "mimetype": "text/x-python",
   "name": "python",
   "nbconvert_exporter": "python",
   "pygments_lexer": "ipython3",
   "version": "3.5.3"
  }
 },
 "nbformat": 4,
 "nbformat_minor": 2
}
