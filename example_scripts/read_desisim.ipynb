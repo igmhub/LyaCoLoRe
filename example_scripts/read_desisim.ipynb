{
 "cells": [
  {
   "cell_type": "markdown",
   "metadata": {},
   "source": [
    "# Use fitsio instead of PyFITS to read outputs from CoLoRe"
   ]
  },
  {
   "cell_type": "code",
   "execution_count": 1,
   "metadata": {},
   "outputs": [
    {
     "name": "stdout",
     "output_type": "stream",
     "text": [
      "Populating the interactive namespace from numpy and matplotlib\n"
     ]
    }
   ],
   "source": [
    "%pylab inline"
   ]
  },
  {
   "cell_type": "code",
   "execution_count": 2,
   "metadata": {
    "collapsed": true
   },
   "outputs": [],
   "source": [
    "import numpy as np\n",
    "import fitsio\n",
    "import matplotlib.pyplot as plt"
   ]
  },
  {
   "cell_type": "code",
   "execution_count": 3,
   "metadata": {
    "collapsed": true
   },
   "outputs": [],
   "source": [
    "# test whether we can read file as in desisim.lya_spectra\n",
    "filename='../example_data/desisim_lya/desisim_lya_N10.fits'\n",
    "h = fitsio.FITS(filename)\n",
    "N=10\n",
    "heads = []\n",
    "for i in range(N):\n",
    "    heads.append(h[i+1].read_header())    \n",
    "\n",
    "zqso = np.array([head['ZQSO'] for head in heads])\n",
    "ra = np.array([head['RA'] for head in heads])\n",
    "dec = np.array([head['DEC'] for head in heads])\n",
    "mag_g = np.array([head['MAG_G'] for head in heads])\n",
    "\n",
    "for i in range(N):\n",
    "    data = h[i + 1].read()\n",
    "    la = data['LAMBDA'][:]\n",
    "    tr = data['FLUX'][:]\n",
    "\n",
    "h.close()"
   ]
  },
  {
   "cell_type": "code",
   "execution_count": 4,
   "metadata": {
    "collapsed": true
   },
   "outputs": [],
   "source": [
    "import desisim.lya_spectra as lyasim"
   ]
  },
  {
   "cell_type": "code",
   "execution_count": 5,
   "metadata": {},
   "outputs": [
    {
     "data": {
      "text/plain": [
       "(array([[ 2.15532017,  2.16260147,  2.16988254, ...,  6.00438213,\n",
       "          6.00438213,  6.00438213],\n",
       "        [ 3.10641265,  3.11718178,  3.10384011, ...,  3.53803945,\n",
       "          3.56155372,  3.58506823],\n",
       "        [ 3.55345607,  3.55410743,  3.5566237 , ...,  2.06030512,\n",
       "          2.06759953,  2.07489419],\n",
       "        ..., \n",
       "        [ 3.38923144,  3.36300111,  3.33482909, ...,  5.88951397,\n",
       "          5.86964464,  5.85471964],\n",
       "        [ 4.51455307,  4.50558901,  4.4932518 , ...,  3.87294459,\n",
       "          3.87452841,  3.8761127 ],\n",
       "        [ 4.53603601,  4.5340271 ,  4.53613043, ...,  4.45259953,\n",
       "          4.45444298,  4.45628643]], dtype=float32),\n",
       " array([  3600. ,   3600.2,   3600.4, ...,   9999.6,   9999.8,  10000. ]),\n",
       " <Table length=10>\n",
       " OBJTYPE SUBTYPE TEMPLATEID    SEED    ...   FEH         RA           DEC      \n",
       "                                       ...                                     \n",
       "  str10   str10    int64      int64    ... float32    float64       float64    \n",
       " ------- ------- ---------- ---------- ... ------- ------------- --------------\n",
       "     QSO     LYA          0 1524975401 ...    -1.0 10.6866588593  -12.163028717\n",
       "     QSO     LYA          0 2178653707 ...    -1.0 33.0150909424 -57.3413009644\n",
       "     QSO     LYA          0 3153727947 ...    -1.0 79.1942214966 -68.3571166992\n",
       "     QSO     LYA          0  362349561 ...    -1.0 46.6225624084  4.43212461472\n",
       "     QSO     LYA          0 3878877296 ...    -1.0 35.2672729492  27.6650390625\n",
       "     QSO     LYA          0  346410313 ...    -1.0 49.0482597351  -64.880531311\n",
       "     QSO     LYA          0 3760833246 ...    -1.0 36.4718513489 -76.5892028809\n",
       "     QSO     LYA          0 2512590508 ...    -1.0 350.026184082 -21.2390403748\n",
       "     QSO     LYA          0 4138114592 ...    -1.0 51.4670791626  31.2401199341\n",
       "     QSO     LYA          0  104402894 ...    -1.0 2.17483592033 -12.2156801224)"
      ]
     },
     "execution_count": 5,
     "metadata": {},
     "output_type": "execute_result"
    }
   ],
   "source": [
    "#def get_spectra(lyafile, nqso=None, wave=None, templateid=None, normfilter='sdss2010-g',\n",
    "    #seed=None, rand=None, qso=None, add_dlas=False, debug=False, nocolorcuts=False):\n",
    "lyasim.get_spectra(filename)"
   ]
  },
  {
   "cell_type": "code",
   "execution_count": null,
   "metadata": {
    "collapsed": true
   },
   "outputs": [],
   "source": []
  }
 ],
 "metadata": {
  "kernelspec": {
   "display_name": "Python 3",
   "language": "python",
   "name": "python3"
  },
  "language_info": {
   "codemirror_mode": {
    "name": "ipython",
    "version": 3
   },
   "file_extension": ".py",
   "mimetype": "text/x-python",
   "name": "python",
   "nbconvert_exporter": "python",
   "pygments_lexer": "ipython3",
   "version": "3.5.3"
  }
 },
 "nbformat": 4,
 "nbformat_minor": 2
}
