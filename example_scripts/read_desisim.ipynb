{
 "cells": [
  {
   "cell_type": "markdown",
   "metadata": {},
   "source": [
    "# Read files generated for desisim and test desisim.lya_spectra"
   ]
  },
  {
   "cell_type": "code",
   "execution_count": 1,
   "metadata": {},
   "outputs": [
    {
     "name": "stdout",
     "output_type": "stream",
     "text": [
      "Populating the interactive namespace from numpy and matplotlib\n"
     ]
    }
   ],
   "source": [
    "%pylab inline"
   ]
  },
  {
   "cell_type": "code",
   "execution_count": 2,
   "metadata": {
    "collapsed": true
   },
   "outputs": [],
   "source": [
    "import numpy as np\n",
    "import fitsio\n",
    "import matplotlib.pyplot as plt"
   ]
  },
  {
   "cell_type": "code",
   "execution_count": 8,
   "metadata": {},
   "outputs": [
    {
     "data": {
      "text/plain": [
       "\n",
       "  file: ../example_data/desisim_lya/desisim_lya_N10.fits\n",
       "  mode: READONLY\n",
       "  extnum hdutype         hduname[v]\n",
       "  0      IMAGE_HDU       \n",
       "  1      BINARY_TBL      \n",
       "  2      BINARY_TBL      \n",
       "  3      BINARY_TBL      \n",
       "  4      BINARY_TBL      \n",
       "  5      BINARY_TBL      \n",
       "  6      BINARY_TBL      \n",
       "  7      BINARY_TBL      \n",
       "  8      BINARY_TBL      \n",
       "  9      BINARY_TBL      \n",
       "  10     BINARY_TBL      \n",
       "  11     BINARY_TBL      \n",
       "  12     BINARY_TBL      \n",
       "  13     BINARY_TBL      \n",
       "  14     BINARY_TBL      \n",
       "  15     BINARY_TBL      \n",
       "  16     BINARY_TBL      \n",
       "  17     BINARY_TBL      \n",
       "  18     BINARY_TBL      \n",
       "  19     BINARY_TBL      \n",
       "  20     BINARY_TBL      "
      ]
     },
     "execution_count": 8,
     "metadata": {},
     "output_type": "execute_result"
    }
   ],
   "source": [
    "# test whether we can read file as in desisim.lya_spectra\n",
    "filename='../example_data/desisim_lya/desisim_lya_N10.fits'\n",
    "h = fitsio.FITS(filename)\n",
    "h"
   ]
  },
  {
   "cell_type": "code",
   "execution_count": 4,
   "metadata": {
    "collapsed": true
   },
   "outputs": [],
   "source": [
    "N=10\n",
    "heads = []\n",
    "for i in range(N):\n",
    "    heads.append(h[i+1].read_header())    \n",
    "\n",
    "zqso = np.array([head['ZQSO'] for head in heads])\n",
    "ra = np.array([head['RA'] for head in heads])\n",
    "dec = np.array([head['DEC'] for head in heads])\n",
    "mag_g = np.array([head['MAG_G'] for head in heads])\n",
    "\n",
    "for i in range(N):\n",
    "    data = h[i + 1].read()\n",
    "    la = data['LAMBDA'][:]\n",
    "    tr = data['FLUX'][:]\n",
    "\n",
    "h.close()"
   ]
  },
  {
   "cell_type": "code",
   "execution_count": 5,
   "metadata": {
    "collapsed": true
   },
   "outputs": [],
   "source": [
    "import desisim.lya_spectra as lyasim"
   ]
  },
  {
   "cell_type": "code",
   "execution_count": 6,
   "metadata": {},
   "outputs": [
    {
     "data": {
      "text/plain": [
       "(array([[ 0.11923621,  0.11554896,  0.11190192, ...,  1.44802713,\n",
       "          1.44588387,  1.44374073],\n",
       "        [ 0.03793851,  0.03667675,  0.03687284, ...,  1.89833486,\n",
       "          1.89784431,  1.89735377],\n",
       "        [ 0.09108052,  0.09040005,  0.089641  , ...,  1.18515313,\n",
       "          1.18473947,  1.18432581],\n",
       "        ..., \n",
       "        [ 0.57803762,  0.59313732,  0.59992844, ...,  0.77797562,\n",
       "          0.78006649,  0.7821573 ],\n",
       "        [ 0.3950046 ,  0.39274523,  0.38950321, ...,  0.83049786,\n",
       "          0.83038652,  0.83027524],\n",
       "        [ 0.25680807,  0.26215124,  0.26341823, ...,  0.85956472,\n",
       "          0.86006683,  0.86056894]], dtype=float32),\n",
       " array([  3600. ,   3600.2,   3600.4, ...,   9999.6,   9999.8,  10000. ]),\n",
       " <Table length=20>\n",
       " OBJTYPE SUBTYPE TEMPLATEID    SEED    ...   FEH         RA           DEC      \n",
       "                                       ...                                     \n",
       "  str10   str10    int64      int64    ... float32    float64       float64    \n",
       " ------- ------- ---------- ---------- ... ------- ------------- --------------\n",
       "     QSO     LYA          0 2577203932 ...    -1.0 307.496246338  72.0878448486\n",
       "     QSO     LYA          0 1111916103 ...    -1.0 310.364318848  60.3927612305\n",
       "     QSO     LYA          0 2277684109 ...    -1.0 320.313537598  56.5493507385\n",
       "     QSO     LYA          0  431908061 ...    -1.0 299.438598633  -22.023979187\n",
       "     QSO     LYA          0 1875501517 ...    -1.0 315.394287109  -20.756734848\n",
       "     QSO     LYA          0  191582467 ...    -1.0 316.130859375  71.0800323486\n",
       "     QSO     LYA          0 3395715283 ...    -1.0 302.804901123 -22.4034404755\n",
       "     QSO     LYA          0 3897072150 ...    -1.0 316.358856201  59.7424888611\n",
       "     QSO     LYA          0  432568361 ...    -1.0 308.088562012 -27.5366134644\n",
       "     QSO     LYA          0 1125311328 ...    -1.0 322.725860596  57.7726745605\n",
       "     QSO     LYA          0 2993321909 ...    -1.0 307.496246338  72.0878448486\n",
       "     QSO     LYA          0 3656553787 ...    -1.0 310.364318848  60.3927612305\n",
       "     QSO     LYA          0 1536697080 ...    -1.0 320.313537598  56.5493507385\n",
       "     QSO     LYA          0 3968450611 ...    -1.0 299.438598633  -22.023979187\n",
       "     QSO     LYA          0 3197487072 ...    -1.0 315.394287109  -20.756734848\n",
       "     QSO     LYA          0  284041093 ...    -1.0 316.130859375  71.0800323486\n",
       "     QSO     LYA          0 2551723283 ...    -1.0 302.804901123 -22.4034404755\n",
       "     QSO     LYA          0 3055075850 ...    -1.0 316.358856201  59.7424888611\n",
       "     QSO     LYA          0 1796535313 ...    -1.0 308.088562012 -27.5366134644\n",
       "     QSO     LYA          0 1278834426 ...    -1.0 322.725860596  57.7726745605)"
      ]
     },
     "execution_count": 6,
     "metadata": {},
     "output_type": "execute_result"
    }
   ],
   "source": [
    "#def get_spectra(lyafile, nqso=None, wave=None, templateid=None, normfilter='sdss2010-g',\n",
    "    #seed=None, rand=None, qso=None, add_dlas=False, debug=False, nocolorcuts=False):\n",
    "lyasim.get_spectra(filename)"
   ]
  },
  {
   "cell_type": "code",
   "execution_count": null,
   "metadata": {
    "collapsed": true
   },
   "outputs": [],
   "source": []
  }
 ],
 "metadata": {
  "kernelspec": {
   "display_name": "Python 3",
   "language": "python",
   "name": "python3"
  },
  "language_info": {
   "codemirror_mode": {
    "name": "ipython",
    "version": 3
   },
   "file_extension": ".py",
   "mimetype": "text/x-python",
   "name": "python",
   "nbconvert_exporter": "python",
   "pygments_lexer": "ipython3",
   "version": "3.5.3"
  }
 },
 "nbformat": 4,
 "nbformat_minor": 2
}
