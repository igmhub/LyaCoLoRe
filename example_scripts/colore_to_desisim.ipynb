{
 "cells": [
  {
   "cell_type": "markdown",
   "metadata": {},
   "source": [
    "# Transform CoLoRE outputs to a file that can be used by desisim"
   ]
  },
  {
   "cell_type": "code",
   "execution_count": 1,
   "metadata": {},
   "outputs": [
    {
     "name": "stdout",
     "output_type": "stream",
     "text": [
      "Populating the interactive namespace from numpy and matplotlib\n"
     ]
    }
   ],
   "source": [
    "%pylab inline"
   ]
  },
  {
   "cell_type": "code",
   "execution_count": 2,
   "metadata": {
    "collapsed": true
   },
   "outputs": [],
   "source": [
    "import numpy as np\n",
    "import fitsio\n",
    "import matplotlib.pyplot as plt"
   ]
  },
  {
   "cell_type": "code",
   "execution_count": 3,
   "metadata": {
    "collapsed": true
   },
   "outputs": [],
   "source": [
    "#Open data file (test file with few quasars)\n",
    "h = fitsio.FITS('../example_data/raw_colore/N1000_out_srcs_s0_15.fits')"
   ]
  },
  {
   "cell_type": "code",
   "execution_count": 4,
   "metadata": {},
   "outputs": [
    {
     "name": "stdout",
     "output_type": "stream",
     "text": [
      "# quasars = 1000\n",
      "0.139725 < z_qso < 3.48193\n"
     ]
    }
   ],
   "source": [
    "# get information about quasars (TYPE,RA,DEC,Z_COSMO,DZ_RSD)\n",
    "catalog = h[1].read()\n",
    "z_qso = catalog['Z_COSMO']\n",
    "Nq = len(z_qso)\n",
    "print('# quasars =',Nq)\n",
    "print(np.min(z_qso),'< z_qso <',np.max(z_qso))"
   ]
  },
  {
   "cell_type": "code",
   "execution_count": 5,
   "metadata": {
    "collapsed": true
   },
   "outputs": [],
   "source": [
    "# get arraw with redshift in each cell of grid\n",
    "z = h[4].read()['Z']\n",
    "Nz=len(z)"
   ]
  },
  {
   "cell_type": "code",
   "execution_count": 6,
   "metadata": {},
   "outputs": [],
   "source": [
    "# Get deltas (fluctuation around mean density) and line of sight velocity (actually, dz)\n",
    "delta = h[2].read()\n",
    "velocity = h[3].read()\n",
    "# Convert density to flux\n",
    "import lya_mock_functions as mock\n",
    "tau = mock.get_tau(z,1+delta)\n",
    "flux = np.exp(-tau)"
   ]
  },
  {
   "cell_type": "code",
   "execution_count": 7,
   "metadata": {
    "collapsed": true
   },
   "outputs": [],
   "source": [
    "filename='desisim_lya_N'+str(Nq)+'.fits'"
   ]
  },
  {
   "cell_type": "code",
   "execution_count": 8,
   "metadata": {},
   "outputs": [],
   "source": [
    "fits = fitsio.FITS(filename,'rw',clobber=True)"
   ]
  },
  {
   "cell_type": "code",
   "execution_count": 9,
   "metadata": {
    "collapsed": true
   },
   "outputs": [],
   "source": [
    "# write skewers for desisim\n",
    "for i in range(Nq):\n",
    "    # only add absorption in the forest \n",
    "    no_forest = (z > z_qso[i])\n",
    "    flux[i][no_forest]=1.0\n",
    "    data = {}\n",
    "    data['LAMBDA']=1215.67*(1+z)\n",
    "    data['FLUX']=flux[i]\n",
    "    head = {}\n",
    "    head['ZQSO']=z_qso[i]\n",
    "    head['RA']=catalog['RA'][i]\n",
    "    head['DEC']=catalog['DEC'][i]\n",
    "    head['MAG_G']=22\n",
    "    fits.write(data,header=head)\n",
    "fits.close()"
   ]
  },
  {
   "cell_type": "code",
   "execution_count": 10,
   "metadata": {
    "collapsed": true
   },
   "outputs": [],
   "source": [
    "# test whether we can read file as in desisim.lya_spectra\n",
    "test = fitsio.FITS(filename)\n",
    "heads = []\n",
    "for i in range(Nq):\n",
    "    heads.append(test[i+1].read_header())    \n",
    "\n",
    "zqso = np.array([head['ZQSO'] for head in heads])\n",
    "ra = np.array([head['RA'] for head in heads])\n",
    "dec = np.array([head['DEC'] for head in heads])\n",
    "mag_g = np.array([head['MAG_G'] for head in heads])\n",
    "\n",
    "for i in range(Nq):\n",
    "    data = test[i + 1].read()\n",
    "    la = data['LAMBDA'][:]\n",
    "    tr = data['FLUX'][:]\n",
    "\n",
    "# close FITS file\n",
    "fits.close()"
   ]
  },
  {
   "cell_type": "code",
   "execution_count": null,
   "metadata": {
    "collapsed": true
   },
   "outputs": [],
   "source": []
  }
 ],
 "metadata": {
  "kernelspec": {
   "display_name": "Python 3",
   "language": "python",
   "name": "python3"
  },
  "language_info": {
   "codemirror_mode": {
    "name": "ipython",
    "version": 3
   },
   "file_extension": ".py",
   "mimetype": "text/x-python",
   "name": "python",
   "nbconvert_exporter": "python",
   "pygments_lexer": "ipython3",
   "version": "3.5.3"
  }
 },
 "nbformat": 4,
 "nbformat_minor": 2
}
