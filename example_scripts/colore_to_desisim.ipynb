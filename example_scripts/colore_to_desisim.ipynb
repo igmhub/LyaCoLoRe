{
 "cells": [
  {
   "cell_type": "markdown",
   "metadata": {},
   "source": [
    "# Use fitsio instead of PyFITS to read outputs from CoLoRe"
   ]
  },
  {
   "cell_type": "code",
   "execution_count": 1,
   "metadata": {},
   "outputs": [
    {
     "name": "stdout",
     "output_type": "stream",
     "text": [
      "Populating the interactive namespace from numpy and matplotlib\n"
     ]
    }
   ],
   "source": [
    "%pylab inline"
   ]
  },
  {
   "cell_type": "code",
   "execution_count": 2,
   "metadata": {
    "collapsed": true
   },
   "outputs": [],
   "source": [
    "import numpy as np\n",
    "import fitsio\n",
    "import matplotlib.pyplot as plt"
   ]
  },
  {
   "cell_type": "code",
   "execution_count": 3,
   "metadata": {
    "collapsed": true
   },
   "outputs": [],
   "source": [
    "#Open data file (test file with few quasars)\n",
    "h = fitsio.FITS('../example_data/raw_colore/test_N1000.fits')"
   ]
  },
  {
   "cell_type": "code",
   "execution_count": 4,
   "metadata": {},
   "outputs": [
    {
     "name": "stdout",
     "output_type": "stream",
     "text": [
      "# quasars = 1000\n",
      "0.19643 < z_qso < 3.74638\n"
     ]
    }
   ],
   "source": [
    "# get information about quasars (TYPE,RA,DEC,Z_COSMO,DZ_RSD)\n",
    "catalog = h[1].read()\n",
    "z_qso = catalog['Z_COSMO']\n",
    "Nq = len(z_qso)\n",
    "print('# quasars =',Nq)\n",
    "print(np.min(z_qso),'< z_qso <',np.max(z_qso))"
   ]
  },
  {
   "cell_type": "code",
   "execution_count": 5,
   "metadata": {
    "collapsed": true
   },
   "outputs": [],
   "source": [
    "# get arraw with redshift in each cell of grid\n",
    "z = h[4].read()['Z']\n",
    "Nz=len(z)"
   ]
  },
  {
   "cell_type": "code",
   "execution_count": 6,
   "metadata": {
    "collapsed": true
   },
   "outputs": [],
   "source": [
    "# Get deltas (fluctuation around mean density) and line of sight velocity (actually, dz)\n",
    "deltas = h[2].read()\n",
    "velocities = h[3].read()"
   ]
  },
  {
   "cell_type": "code",
   "execution_count": 7,
   "metadata": {
    "collapsed": true
   },
   "outputs": [],
   "source": [
    "flux = np.exp(-1-deltas)"
   ]
  },
  {
   "cell_type": "code",
   "execution_count": 8,
   "metadata": {
    "collapsed": true
   },
   "outputs": [],
   "source": [
    "filename='desisim_lya_N10.fits'"
   ]
  },
  {
   "cell_type": "code",
   "execution_count": 9,
   "metadata": {
    "collapsed": true
   },
   "outputs": [],
   "source": [
    "fits = fitsio.FITS(filename,'rw')"
   ]
  },
  {
   "cell_type": "code",
   "execution_count": 10,
   "metadata": {
    "collapsed": true
   },
   "outputs": [],
   "source": [
    "# write skewers for desisim\n",
    "N=10\n",
    "for i in range(N):\n",
    "    data = {}\n",
    "    data['LAMBDA']=1215.67*(1+z)\n",
    "    data['FLUX']=flux[i]\n",
    "    head = {}\n",
    "    head['ZQSO']=z_qso[i]\n",
    "    head['RA']=catalog['RA'][i]\n",
    "    head['DEC']=catalog['DEC'][i]\n",
    "    head['MAG_G']=21\n",
    "    fits.write(data,header=head)\n",
    "fits.close()"
   ]
  },
  {
   "cell_type": "code",
   "execution_count": 11,
   "metadata": {
    "collapsed": true
   },
   "outputs": [],
   "source": [
    "# test whether we can read file as in desisim.lya_spectra\n",
    "test = fitsio.FITS(filename)\n",
    "heads = []\n",
    "for i in range(N):\n",
    "    heads.append(test[i+1].read_header())    \n",
    "fits.close()\n",
    "\n",
    "zqso = np.array([head['ZQSO'] for head in heads])\n",
    "ra = np.array([head['RA'] for head in heads])\n",
    "dec = np.array([head['DEC'] for head in heads])\n",
    "mag_g = np.array([head['MAG_G'] for head in heads])\n",
    "\n",
    "for i in range(N):\n",
    "    data = test[i + 1].read()\n",
    "    la = data['LAMBDA'][:]\n",
    "    tr = data['FLUX'][:]"
   ]
  },
  {
   "cell_type": "code",
   "execution_count": null,
   "metadata": {
    "collapsed": true
   },
   "outputs": [],
   "source": []
  }
 ],
 "metadata": {
  "kernelspec": {
   "display_name": "Python 3",
   "language": "python",
   "name": "python3"
  },
  "language_info": {
   "codemirror_mode": {
    "name": "ipython",
    "version": 3
   },
   "file_extension": ".py",
   "mimetype": "text/x-python",
   "name": "python",
   "nbconvert_exporter": "python",
   "pygments_lexer": "ipython3",
   "version": "3.5.3"
  }
 },
 "nbformat": 4,
 "nbformat_minor": 2
}
