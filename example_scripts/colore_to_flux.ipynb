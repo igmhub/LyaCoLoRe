{
 "cells": [
  {
   "cell_type": "markdown",
   "metadata": {},
   "source": [
    "# Transform CoLoRE outputs to Lya skewer"
   ]
  },
  {
   "cell_type": "code",
   "execution_count": 1,
   "metadata": {
    "collapsed": false
   },
   "outputs": [
    {
     "name": "stdout",
     "output_type": "stream",
     "text": [
      "Populating the interactive namespace from numpy and matplotlib\n"
     ]
    }
   ],
   "source": [
    "%pylab inline"
   ]
  },
  {
   "cell_type": "code",
   "execution_count": 2,
   "metadata": {
    "collapsed": true
   },
   "outputs": [],
   "source": [
    "import numpy as np\n",
    "import fitsio\n",
    "import matplotlib.pyplot as plt\n",
    "import lya_mock_functions as mock"
   ]
  },
  {
   "cell_type": "code",
   "execution_count": 3,
   "metadata": {
    "collapsed": true
   },
   "outputs": [],
   "source": [
    "def flux_stats(flux,z,z_qso):\n",
    "    Nz=len(z)\n",
    "    print('Nz =',Nz)\n",
    "    Nq=len(z_qso)\n",
    "    print('Nq =',Nq)\n",
    "    mean_flux=np.zeros(Nz)\n",
    "    var_flux=np.zeros(Nz)\n",
    "    weight=np.zeros(Nz)\n",
    "    for i in range(Nq):\n",
    "        if min(z) > z_qso[i]: continue\n",
    "        mask=z < z_qso[i]\n",
    "        mean_flux[mask] += flux[i][mask]\n",
    "        var_flux[mask] += flux[i][mask]**2\n",
    "        weight[mask] += 1\n",
    "    for i in range(Nz):\n",
    "        if weight[i]>0:\n",
    "            mean_flux[i]/=weight[i]\n",
    "            var_flux[i]/=weight[i]\n",
    "            var_flux[i]-=mean_flux[i]**2\n",
    "    return mean_flux,var_flux"
   ]
  },
  {
   "cell_type": "code",
   "execution_count": 4,
   "metadata": {
    "collapsed": true
   },
   "outputs": [],
   "source": [
    "def get_sigma2(catalog,delta_density,z,D,zmin):\n",
    "    print('original shape',delta_density.shape)\n",
    "    # select only high-z quasars \n",
    "    low_z = catalog['Z_COSMO'] < zmin\n",
    "    good_qso = np.invert(low_z)\n",
    "    good_qso = np.where(good_qso)[0]\n",
    "    catalog = catalog[good_qso]\n",
    "    print('# high-z quasars =',len(catalog))\n",
    "    delta_density = delta_density[good_qso]\n",
    "    # get rid of high-z pixels\n",
    "    z_mean = z < zmin\n",
    "    z_mean = np.where(z_mean)[0]\n",
    "    delta_density = delta_density[:,z_mean]\n",
    "    z = z[z_mean]\n",
    "    print('final shape',delta_density.shape)\n",
    "    D = D[z_mean]\n",
    "    log_density = np.log(1.0+delta_density)\n",
    "    mean_log = np.mean(log_density,axis=0)\n",
    "    sig2=np.mean(-2*mean_log/D/D)\n",
    "    print('sigma^2 =',sig2)\n",
    "    return sig2"
   ]
  },
  {
   "cell_type": "code",
   "execution_count": 5,
   "metadata": {
    "collapsed": false
   },
   "outputs": [],
   "source": [
    "# open data file (test file with few quasars)\n",
    "#filename='/Users/font/Projects/DESI/desi_lya_mocks/Sims/NERSC_Lya4096/output_colore/out_srcs_s0_0.fits'\n",
    "filename='../example_data/raw_colore/N1000_out_srcs_s0_15.fits'\n",
    "h = fitsio.FITS(filename)"
   ]
  },
  {
   "cell_type": "code",
   "execution_count": 6,
   "metadata": {
    "collapsed": false
   },
   "outputs": [],
   "source": [
    "cosmo=h[4].read()\n",
    "z = cosmo['Z']\n",
    "R = cosmo['R']\n",
    "D = cosmo['D']\n",
    "Nz=len(z)\n",
    "#plt.plot(z,D)"
   ]
  },
  {
   "cell_type": "code",
   "execution_count": 20,
   "metadata": {
    "collapsed": false
   },
   "outputs": [
    {
     "name": "stdout",
     "output_type": "stream",
     "text": [
      "# quasars at start = 1000\n",
      "# quasars at end = 1000\n",
      "0.139725 < z_qso < 3.48193\n"
     ]
    }
   ],
   "source": [
    "# read catalog \n",
    "catalog = h[1].read()\n",
    "print('# quasars at start =',len(catalog))\n",
    "# get deltas (fluctuation around mean density) and line of sight velocity (actually, dz)\n",
    "delta_density = h[2].read()\n",
    "velocity = h[3].read()\n",
    "# get rid of bad qso\n",
    "bad_dec = np.isnan(catalog['DEC']) | (catalog['DEC'] < -90.0) | (catalog['DEC'] > 90.0)\n",
    "#bad_dec = np.isnan(catalog['DEC']) | (catalog['DEC'] < -5.0) | (catalog['DEC'] > 5.0)\n",
    "good_dec = np.invert(bad_dec)\n",
    "good_dec = np.where(good_dec)[0]\n",
    "catalog = catalog[good_dec]\n",
    "print('# quasars at end =',len(catalog))\n",
    "delta_density = delta_density[good_dec]\n",
    "velocity = velocity[good_dec]\n",
    "# get information about quasars (TYPE,RA,DEC,Z_COSMO,DZ_RSD)\n",
    "z_qso = catalog['Z_COSMO']\n",
    "Nq = len(z_qso)\n",
    "print(np.min(z_qso),'< z_qso <',np.max(z_qso))"
   ]
  },
  {
   "cell_type": "code",
   "execution_count": 21,
   "metadata": {
    "collapsed": false
   },
   "outputs": [
    {
     "name": "stdout",
     "output_type": "stream",
     "text": [
      "original shape (1000, 2048)\n",
      "# high-z quasars = 616\n",
      "final shape (616, 1273)\n",
      "sigma^2 = 1.06491\n"
     ]
    }
   ],
   "source": [
    "zmin=1.5\n",
    "sig2 = get_sigma2(catalog,delta_density,z,D,zmin)\n",
    "#print('sigma^2 =',sig2)"
   ]
  },
  {
   "cell_type": "code",
   "execution_count": 22,
   "metadata": {
    "collapsed": false
   },
   "outputs": [],
   "source": [
    "mask = delta_density > -1e10\n",
    "for iq in range(Nq):\n",
    "    mask[iq] = z < z_qso[iq]"
   ]
  },
  {
   "cell_type": "code",
   "execution_count": 23,
   "metadata": {
    "collapsed": false
   },
   "outputs": [
    {
     "name": "stdout",
     "output_type": "stream",
     "text": [
      "temp mean = 0.00328349\n",
      "mean delta = -5.69224e-09\n"
     ]
    }
   ],
   "source": [
    "log_density = np.zeros_like(delta_density)\n",
    "log_density[mask] = np.log(1.0+delta_density[mask])\n",
    "temp_delta_gauss = (log_density + 0.5*sig2*D*D)/D\n",
    "mean_gauss = np.mean(temp_delta_gauss[mask])\n",
    "print('temp mean =',mean_gauss)\n",
    "delta_gauss = np.zeros_like(temp_delta_gauss)\n",
    "delta_gauss[mask] = (1+temp_delta_gauss[mask])/(1+mean_gauss)-1.0\n",
    "print('mean delta =',np.mean(delta_gauss))"
   ]
  },
  {
   "cell_type": "code",
   "execution_count": 24,
   "metadata": {
    "collapsed": false
   },
   "outputs": [],
   "source": [
    "# Convert density to flux\n",
    "mock_maker=mock.MockMaker()\n",
    "extra_z = mock_maker.get_redshifts()"
   ]
  },
  {
   "cell_type": "code",
   "execution_count": 25,
   "metadata": {
    "collapsed": false
   },
   "outputs": [
    {
     "name": "stdout",
     "output_type": "stream",
     "text": [
      "mean delta = -0.000279433810104\n",
      "var delta = 2.86493080441\n",
      "expected var delta = 2.86904840747\n"
     ]
    }
   ],
   "source": [
    "# get Nq skewers \n",
    "extra_delta, extra_var = mock_maker.get_gaussian_fields(Nq)\n",
    "print('mean delta =', np.mean(extra_delta))\n",
    "print('var delta =', np.var(extra_delta))\n",
    "print('expected var delta =',extra_var)\n",
    "#plt.plot(extra_z,extra_delta[0])\n",
    "#plt.xlabel('z')\n",
    "#plt.ylabel('Gaussian field')"
   ]
  },
  {
   "cell_type": "code",
   "execution_count": 26,
   "metadata": {
    "collapsed": false
   },
   "outputs": [
    {
     "name": "stdout",
     "output_type": "stream",
     "text": [
      "3500 < l < 5820.23767764\n"
     ]
    }
   ],
   "source": [
    "# define final grid and interpolate\n",
    "lya=1215.67\n",
    "zmax=np.min([np.max(extra_z),np.max(z)])\n",
    "lmin=3500\n",
    "lmax=lya*(1+zmax)\n",
    "print(lmin,'< l <',lmax)\n",
    "dl=0.1\n",
    "final_wave=np.arange(lmin,lmax,dl)\n",
    "final_z=final_wave/lya-1.0\n",
    "Nl=len(final_wave)\n",
    "final_delta=np.zeros([Nq,Nl])\n",
    "for i in range(Nq):\n",
    "    final_mask = final_wave < lya *(1+z_qso[i])\n",
    "    int_colore = np.interp(final_wave[final_mask],z,delta_gauss[i])\n",
    "    int_p1d = np.interp(final_wave[final_mask],lya*(1+extra_z),extra_delta[i])\n",
    "    final_delta[i][final_mask] = int_colore + int_p1d"
   ]
  },
  {
   "cell_type": "code",
   "execution_count": 27,
   "metadata": {
    "collapsed": false
   },
   "outputs": [
    {
     "name": "stdout",
     "output_type": "stream",
     "text": [
      "mean density = 0.573104793183\n",
      "var density = 3615.7424093\n"
     ]
    }
   ],
   "source": [
    "# from delta to flux\n",
    "density = mock_maker.get_density(extra_var+sig2,final_z,final_delta)\n",
    "#density = mock_maker.get_density(extra_var,final_z,final_delta)\n",
    "print('mean density =', np.mean(density))\n",
    "print('var density =', np.var(density))\n",
    "#plt.semilogy(final_z,density[-1])\n",
    "#plt.xlabel('z')\n",
    "#plt.ylabel('density')"
   ]
  },
  {
   "cell_type": "code",
   "execution_count": 28,
   "metadata": {
    "collapsed": false
   },
   "outputs": [
    {
     "name": "stdout",
     "output_type": "stream",
     "text": [
      "mean tau = 0.148020336268\n",
      "var tau = 37.1403938986\n"
     ]
    }
   ],
   "source": [
    "tau = mock.get_tau(final_z,density)\n",
    "print('mean tau =', np.mean(tau))\n",
    "print('var tau =', np.var(tau))\n",
    "#plt.semilogy(final_z,tau[-1])\n",
    "#plt.xlabel('z')\n",
    "#plt.ylabel('optical depth')"
   ]
  },
  {
   "cell_type": "code",
   "execution_count": 29,
   "metadata": {
    "collapsed": false
   },
   "outputs": [
    {
     "name": "stdout",
     "output_type": "stream",
     "text": [
      "mean flux = 0.904635717555\n",
      "var flux = 0.0128206641513\n"
     ]
    }
   ],
   "source": [
    "flux = np.exp(-tau)\n",
    "print('mean flux =', np.mean(flux))\n",
    "print('var flux =', np.var(flux))\n",
    "#plt.plot(final_z,flux[-1])\n",
    "#plt.xlabel('z')\n",
    "#plt.ylabel('transmitted flux fraction')\n",
    "#plt.xlim(3.0,3.2)"
   ]
  },
  {
   "cell_type": "code",
   "execution_count": 30,
   "metadata": {
    "collapsed": false
   },
   "outputs": [
    {
     "name": "stdout",
     "output_type": "stream",
     "text": [
      "Nz = 23203\n",
      "Nq = 1000\n"
     ]
    }
   ],
   "source": [
    "mean_flux,var_flux=flux_stats(flux,final_z,z_qso)"
   ]
  },
  {
   "cell_type": "code",
   "execution_count": 31,
   "metadata": {
    "collapsed": false
   },
   "outputs": [
    {
     "data": {
      "text/plain": [
       "[<matplotlib.lines.Line2D at 0x116fa27f0>]"
      ]
     },
     "execution_count": 31,
     "metadata": {},
     "output_type": "execute_result"
    },
    {
     "data": {
      "image/png": "[encoded data removed]",
      "text/plain": [
       "<matplotlib.figure.Figure at 0x1177ff358>"
      ]
     },
     "metadata": {},
     "output_type": "display_data"
    }
   ],
   "source": [
    "plt.plot(final_z,var_flux)"
   ]
  },
  {
   "cell_type": "code",
   "execution_count": 32,
   "metadata": {
    "collapsed": false
   },
   "outputs": [
    {
     "data": {
      "text/plain": [
       "(0.4, 1.0)"
      ]
     },
     "execution_count": 32,
     "metadata": {},
     "output_type": "execute_result"
    },
    {
     "data": {
      "image/png": "[encoded data removed]",
      "text/plain": [
       "<matplotlib.figure.Figure at 0x116d7c978>"
      ]
     },
     "metadata": {},
     "output_type": "display_data"
    }
   ],
   "source": [
    "plt.plot(final_z,mean_flux)\n",
    "plt.ylim(0.4,1.0)"
   ]
  },
  {
   "cell_type": "code",
   "execution_count": null,
   "metadata": {
    "collapsed": true
   },
   "outputs": [],
   "source": []
  }
 ],
 "metadata": {
  "kernelspec": {
   "display_name": "Python 3",
   "language": "python",
   "name": "python3"
  },
  "language_info": {
   "codemirror_mode": {
    "name": "ipython",
    "version": 3
   },
   "file_extension": ".py",
   "mimetype": "text/x-python",
   "name": "python",
   "nbconvert_exporter": "python",
   "pygments_lexer": "ipython3",
   "version": "3.6.0"
  }
 },
 "nbformat": 4,
 "nbformat_minor": 2
}
