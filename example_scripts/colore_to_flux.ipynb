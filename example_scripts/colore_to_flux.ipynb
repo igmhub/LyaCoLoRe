{
 "cells": [
  {
   "cell_type": "markdown",
   "metadata": {},
   "source": [
    "# Transform CoLoRE outputs to Lya skewer"
   ]
  },
  {
   "cell_type": "code",
   "execution_count": 1,
   "metadata": {},
   "outputs": [
    {
     "name": "stdout",
     "output_type": "stream",
     "text": [
      "Populating the interactive namespace from numpy and matplotlib\n"
     ]
    }
   ],
   "source": [
    "%pylab inline"
   ]
  },
  {
   "cell_type": "code",
   "execution_count": 2,
   "metadata": {
    "collapsed": true
   },
   "outputs": [],
   "source": [
    "import numpy as np\n",
    "#import fitsio\n",
    "from astropy.io import fits\n",
    "import matplotlib.pyplot as plt\n",
    "import lya_mock_functions as mock"
   ]
  },
  {
   "cell_type": "code",
   "execution_count": 3,
   "metadata": {
    "collapsed": true
   },
   "outputs": [],
   "source": [
    "def flux_stats(flux,z,z_qso):\n",
    "    Nz=len(z)\n",
    "    print('Nz =',Nz)\n",
    "    Nq=len(z_qso)\n",
    "    print('Nq =',Nq)\n",
    "    mean_flux=np.zeros(Nz)\n",
    "    var_flux=np.zeros(Nz)\n",
    "    weight=np.zeros(Nz)\n",
    "    for i in range(Nq):\n",
    "        if min(z) > z_qso[i]: continue\n",
    "        mask=z < z_qso[i]\n",
    "        mean_flux[mask] += flux[i][mask]\n",
    "        var_flux[mask] += flux[i][mask]**2\n",
    "        weight[mask] += 1\n",
    "    for i in range(Nz):\n",
    "        if weight[i]>0:\n",
    "            mean_flux[i]/=weight[i]\n",
    "            var_flux[i]/=weight[i]\n",
    "            var_flux[i]-=mean_flux[i]**2\n",
    "    return mean_flux,var_flux"
   ]
  },
  {
   "cell_type": "code",
   "execution_count": 4,
   "metadata": {
    "collapsed": true
   },
   "outputs": [],
   "source": [
    "def get_sigma2(catalog,delta_density,z,D,zmin):\n",
    "    print('original shape',delta_density.shape)\n",
    "    # select only high-z quasars \n",
    "    low_z = catalog['Z_COSMO'] < zmin\n",
    "    good_qso = np.invert(low_z)\n",
    "    good_qso = np.where(good_qso)[0]\n",
    "    catalog = catalog[good_qso]\n",
    "    print('# high-z quasars =',len(catalog))\n",
    "    delta_density = delta_density[good_qso]\n",
    "    # get rid of high-z pixels\n",
    "    z_mean = z < zmin\n",
    "    z_mean = np.where(z_mean)[0]\n",
    "    delta_density = delta_density[:,z_mean]\n",
    "    z = z[z_mean]\n",
    "    print('final shape',delta_density.shape)\n",
    "    D = D[z_mean]\n",
    "    log_density = np.log(1.0+delta_density)\n",
    "    mean_log = np.mean(log_density,axis=0)\n",
    "    sig2=np.mean(-2*mean_log/D/D)\n",
    "    print('sigma^2 =',sig2)\n",
    "    return sig2"
   ]
  },
  {
   "cell_type": "code",
   "execution_count": 7,
   "metadata": {},
   "outputs": [],
   "source": [
    "# open data file (test file with few quasars)\n",
    "#filename='/Users/font/Projects/DESI/desi_lya_mocks/Sims/NERSC_Lya4096/output_colore/out_srcs_s0_0.fits'\n",
    "filename='/Users/jfarr/Projects/LyaCoLoRe/example_data/raw_colore/N1000_out_srcs_s0_15.fits'\n",
    "#filename='/Users/James/Projects/test_data/process_output_G_hZ_4096_32_sr2.0/2/284/physical-colore-8-284.fits'\n",
    "#h = fitsio.FITS(filename)\n",
    "h = fits.open(filename)"
   ]
  },
  {
   "cell_type": "code",
   "execution_count": 8,
   "metadata": {},
   "outputs": [],
   "source": [
    "cosmo = h[4].data\n",
    "#cosmo=h[4].read()\n",
    "z = cosmo['Z']\n",
    "R = cosmo['R']\n",
    "D = cosmo['D']\n",
    "Nz=len(z)\n",
    "#plt.plot(z,D)"
   ]
  },
  {
   "cell_type": "code",
   "execution_count": 9,
   "metadata": {},
   "outputs": [
    {
     "name": "stdout",
     "output_type": "stream",
     "text": [
      "# quasars at start = 1000\n",
      "# quasars at end = 1000\n",
      "0.139725 < z_qso < 3.48193\n"
     ]
    }
   ],
   "source": [
    "# read catalog \n",
    "#catalog = h[1].read()\n",
    "catalog = h[1].data\n",
    "print('# quasars at start =',len(catalog))\n",
    "# get deltas (fluctuation around mean density) and line of sight velocity (actually, dz)\n",
    "#delta_density = h[2].read()\n",
    "#velocity = h[3].read()\n",
    "delta_density = h[2].data\n",
    "velocity = h[3].data\n",
    "# get rid of bad qso\n",
    "bad_dec = np.isnan(catalog['DEC']) | (catalog['DEC'] < -90.0) | (catalog['DEC'] > 90.0)\n",
    "#bad_dec = np.isnan(catalog['DEC']) | (catalog['DEC'] < -5.0) | (catalog['DEC'] > 5.0)\n",
    "good_dec = np.invert(bad_dec)\n",
    "good_dec = np.where(good_dec)[0]\n",
    "catalog = catalog[good_dec]\n",
    "print('# quasars at end =',len(catalog))\n",
    "delta_density = delta_density[good_dec]\n",
    "velocity = velocity[good_dec]\n",
    "# get information about quasars (TYPE,RA,DEC,Z_COSMO,DZ_RSD)\n",
    "z_qso = catalog['Z_COSMO']\n",
    "Nq = len(z_qso)\n",
    "print(np.min(z_qso),'< z_qso <',np.max(z_qso))"
   ]
  },
  {
   "cell_type": "code",
   "execution_count": 10,
   "metadata": {},
   "outputs": [
    {
     "name": "stdout",
     "output_type": "stream",
     "text": [
      "original shape (1000, 2048)\n",
      "# high-z quasars = 616\n",
      "final shape (616, 1273)\n",
      "sigma^2 = 1.06491\n"
     ]
    }
   ],
   "source": [
    "zmin=1.5\n",
    "sig2 = get_sigma2(catalog,delta_density,z,D,zmin)\n",
    "#print('sigma^2 =',sig2)"
   ]
  },
  {
   "cell_type": "code",
   "execution_count": 11,
   "metadata": {
    "collapsed": true
   },
   "outputs": [],
   "source": [
    "mask = delta_density > -1e10\n",
    "for iq in range(Nq):\n",
    "    mask[iq] = z < z_qso[iq]"
   ]
  },
  {
   "cell_type": "code",
   "execution_count": 12,
   "metadata": {},
   "outputs": [
    {
     "name": "stdout",
     "output_type": "stream",
     "text": [
      "temp mean = 0.00328349\n",
      "mean delta = -5.69224e-09\n"
     ]
    }
   ],
   "source": [
    "log_density = np.zeros_like(delta_density)\n",
    "log_density[mask] = np.log(1.0+delta_density[mask])\n",
    "temp_delta_gauss = (log_density + 0.5*sig2*D*D)/D\n",
    "mean_gauss = np.mean(temp_delta_gauss[mask])\n",
    "print('temp mean =',mean_gauss)\n",
    "delta_gauss = np.zeros_like(temp_delta_gauss)\n",
    "delta_gauss[mask] = (1+temp_delta_gauss[mask])/(1+mean_gauss)-1.0\n",
    "print('mean delta =',np.mean(delta_gauss))"
   ]
  },
  {
   "cell_type": "code",
   "execution_count": 21,
   "metadata": {},
   "outputs": [
    {
     "name": "stdout",
     "output_type": "stream",
     "text": [
      "0.788886563266 4.49068490802 (32768,)\n"
     ]
    }
   ],
   "source": [
    "# Convert density to flux\n",
    "mock_maker=mock.MockMaker()\n",
    "extra_z = mock_maker.get_redshifts()\n",
    "print(np.min(extra_z),np.max(extra_z),extra_z.shape)"
   ]
  },
  {
   "cell_type": "code",
   "execution_count": 22,
   "metadata": {},
   "outputs": [
    {
     "name": "stdout",
     "output_type": "stream",
     "text": [
      "mean delta = -0.000279433810104\n",
      "var delta = 2.86493080441\n",
      "expected var delta = 2.86904840747\n",
      "(1000, 32768)\n"
     ]
    }
   ],
   "source": [
    "# get Nq skewers \n",
    "extra_delta, extra_var = mock_maker.get_gaussian_fields(Nq)\n",
    "print('mean delta =', np.mean(extra_delta))\n",
    "print('var delta =', np.var(extra_delta))\n",
    "print('expected var delta =',extra_var)\n",
    "#plt.plot(extra_z,extra_delta[0])\n",
    "#plt.xlabel('z')\n",
    "#plt.ylabel('Gaussian field')\n",
    "print(extra_delta.shape)"
   ]
  },
  {
   "cell_type": "code",
   "execution_count": 27,
   "metadata": {},
   "outputs": [
    {
     "name": "stdout",
     "output_type": "stream",
     "text": [
      "3500 < l < 5820.23767764\n",
      "Number of cells in final skewers: 23203\n"
     ]
    }
   ],
   "source": [
    "# define final grid and interpolate\n",
    "lya=1215.67\n",
    "zmax=np.min([np.max(extra_z),np.max(z)])\n",
    "lmin=3500\n",
    "lmax=lya*(1+zmax)\n",
    "print(lmin,'< l <',lmax)\n",
    "dl=0.1\n",
    "final_wave=np.arange(lmin,lmax,dl)\n",
    "final_z=final_wave/lya-1.0\n",
    "Nl=len(final_wave)\n",
    "print('Number of cells in final skewers:',Nl)\n",
    "\n",
    "p1d_multiplier = 1.\n",
    "final_delta=np.zeros([Nq,Nl])\n",
    "for i in range(Nq):\n",
    "    final_mask = final_wave < lya *(1+z_qso[i])\n",
    "    int_colore = np.interp(final_z[final_mask],z,delta_gauss[i])\n",
    "    int_p1d = np.interp(final_wave[final_mask],lya*(1+extra_z),extra_delta[i])\n",
    "    final_delta[i][final_mask] = int_colore + p1d_multiplier*int_p1d"
   ]
  },
  {
   "cell_type": "code",
   "execution_count": 28,
   "metadata": {},
   "outputs": [
    {
     "data": {
      "image/png": "[encoded data removed]",
      "text/plain": [
       "<matplotlib.figure.Figure at 0x10ba4a128>"
      ]
     },
     "metadata": {},
     "output_type": "display_data"
    }
   ],
   "source": [
    "plt.plot(final_z,final_delta[-1],label='CoLoRe+{}*P1D'.format(p1d_multiplier))\n",
    "plt.plot(z,delta_gauss[-1],label='CoLoRe')\n",
    "plt.legend()\n",
    "plt.show()"
   ]
  },
  {
   "cell_type": "code",
   "execution_count": 108,
   "metadata": {},
   "outputs": [
    {
     "name": "stdout",
     "output_type": "stream",
     "text": [
      "mean density = 0.250431644994\n",
      "var density = 0.90014664079\n"
     ]
    }
   ],
   "source": [
    "# from delta to flux\n",
    "density = mock_maker.get_density(extra_var+sig2,final_z,final_delta)\n",
    "#density = mock_maker.get_density(extra_var,final_z,final_delta)\n",
    "print('mean density =', np.mean(density))\n",
    "print('var density =', np.var(density))\n",
    "#plt.semilogy(final_z,density[-1])\n",
    "#plt.xlabel('z')\n",
    "#plt.ylabel('density')"
   ]
  },
  {
   "cell_type": "code",
   "execution_count": 109,
   "metadata": {},
   "outputs": [
    {
     "name": "stdout",
     "output_type": "stream",
     "text": [
      "mean tau = 0.104441061146\n",
      "var tau = 0.042669255212\n"
     ]
    }
   ],
   "source": [
    "tau = mock.get_tau(final_z,density)\n",
    "print('mean tau =', np.mean(tau))\n",
    "print('var tau =', np.var(tau))\n",
    "#plt.semilogy(final_z,tau[-1])\n",
    "#plt.xlabel('z')\n",
    "#plt.ylabel('optical depth')"
   ]
  },
  {
   "cell_type": "code",
   "execution_count": 110,
   "metadata": {},
   "outputs": [
    {
     "name": "stdout",
     "output_type": "stream",
     "text": [
      "mean flux = 0.910446250096\n",
      "var flux = 0.0104740705908\n"
     ]
    }
   ],
   "source": [
    "flux = np.exp(-tau)\n",
    "print('mean flux =', np.mean(flux))\n",
    "print('var flux =', np.var(flux))\n",
    "#plt.plot(final_z,flux[-1])\n",
    "#plt.xlabel('z')\n",
    "#plt.ylabel('transmitted flux fraction')\n",
    "#plt.xlim(3.0,3.2)"
   ]
  },
  {
   "cell_type": "code",
   "execution_count": 111,
   "metadata": {},
   "outputs": [
    {
     "name": "stdout",
     "output_type": "stream",
     "text": [
      "Nz = 23203\n",
      "Nq = 8656\n"
     ]
    }
   ],
   "source": [
    "mean_flux,var_flux=flux_stats(flux,final_z,z_qso)"
   ]
  },
  {
   "cell_type": "code",
   "execution_count": 112,
   "metadata": {},
   "outputs": [
    {
     "data": {
      "text/plain": [
       "[<matplotlib.lines.Line2D at 0x111d2b828>]"
      ]
     },
     "execution_count": 112,
     "metadata": {},
     "output_type": "execute_result"
    },
    {
     "data": {
      "image/png": "[encoded data removed]",
      "text/plain": [
       "<Figure size 432x288 with 1 Axes>"
      ]
     },
     "metadata": {},
     "output_type": "display_data"
    }
   ],
   "source": [
    "plt.plot(final_z,var_flux)"
   ]
  },
  {
   "cell_type": "code",
   "execution_count": 113,
   "metadata": {},
   "outputs": [
    {
     "data": {
      "text/plain": [
       "(0.4, 1.0)"
      ]
     },
     "execution_count": 113,
     "metadata": {},
     "output_type": "execute_result"
    },
    {
     "data": {
      "image/png": "[encoded data removed]",
      "text/plain": [
       "<Figure size 432x288 with 1 Axes>"
      ]
     },
     "metadata": {},
     "output_type": "display_data"
    }
   ],
   "source": [
    "plt.plot(final_z,mean_flux)\n",
    "plt.ylim(0.4,1.0)"
   ]
  },
  {
   "cell_type": "code",
   "execution_count": 114,
   "metadata": {},
   "outputs": [
    {
     "data": {
      "text/plain": [
       "[<matplotlib.lines.Line2D at 0x1121010b8>]"
      ]
     },
     "execution_count": 114,
     "metadata": {},
     "output_type": "execute_result"
    },
    {
     "data": {
      "image/png": "[encoded data removed]",
      "text/plain": [
       "<Figure size 432x288 with 1 Axes>"
      ]
     },
     "metadata": {},
     "output_type": "display_data"
    }
   ],
   "source": [
    "plt.plot(final_z,flux[0,:])"
   ]
  },
  {
   "cell_type": "code",
   "execution_count": null,
   "metadata": {
    "collapsed": true
   },
   "outputs": [],
   "source": []
  }
 ],
 "metadata": {
  "kernelspec": {
   "display_name": "Python 3",
   "language": "python",
   "name": "python3"
  },
  "language_info": {
   "codemirror_mode": {
    "name": "ipython",
    "version": 3
   },
   "file_extension": ".py",
   "mimetype": "text/x-python",
   "name": "python",
   "nbconvert_exporter": "python",
   "pygments_lexer": "ipython3",
   "version": "3.6.2"
  }
 },
 "nbformat": 4,
 "nbformat_minor": 2
}
