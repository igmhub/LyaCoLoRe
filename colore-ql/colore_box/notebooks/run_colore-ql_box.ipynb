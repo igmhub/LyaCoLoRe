{
 "cells": [
  {
   "cell_type": "code",
   "execution_count": 1,
   "id": "025a8a65-122f-4511-9c9c-f8beae499fc2",
   "metadata": {
    "tags": []
   },
   "outputs": [],
   "source": [
    "from pathlib import Path\n",
    "from subprocess import run # To send runs \n",
    "from multiprocessing import Pool # To run multiple seeds in parallel\n",
    "import numpy as np\n",
    "\n",
    "from picca_bookkeeper.tasker import get_Tasker # To organize runs outs and logs\n",
    "from picca_bookkeeper.dict_utils import DictUtils # To check if two dicts are the same \n",
    "\n",
    "import libconf # To read CoLoRe config file."
   ]
  },
  {
   "cell_type": "markdown",
   "id": "dcb7d638-4271-42ff-8ff3-6b51a6c7f78d",
   "metadata": {},
   "source": [
    "## Generate inputs"
   ]
  },
  {
   "cell_type": "markdown",
   "id": "9b056ac8-c2fe-4835-8057-d577f6b54482",
   "metadata": {},
   "source": [
    "# Run CoLoRe "
   ]
  },
  {
   "cell_type": "code",
   "execution_count": 3,
   "id": "976d0940-8db9-4f9c-bd27-377cd4b5674f",
   "metadata": {
    "tags": []
   },
   "outputs": [],
   "source": [
    "# We need the path to the CoLoRe executable to run it.\n",
    "colore_executables = {\n",
    "    \"exp_bias\": \"/pscratch/sd/l/lauracdp/CoLoRe_threshold/CoLoRe\",\n",
    "}\n",
    "\n",
    "for item in colore_executables.values():\n",
    "    assert Path(item).is_file()"
   ]
  },
  {
   "cell_type": "code",
   "execution_count": 4,
   "id": "16406ea8-4842-4ae7-ab7f-6f9aa13ff59e",
   "metadata": {
    "tags": []
   },
   "outputs": [],
   "source": [
    "n_grid = 4096 # Grid size\n",
    "overwrite_colore = False # Overwrite if already exists.\n",
    "overwrite_corrf = False \n",
    "overwrite_config=True"
   ]
  },
  {
   "cell_type": "code",
   "execution_count": 5,
   "id": "66478866-a219-4f2b-b7ef-810e4acaf00e",
   "metadata": {
    "tags": []
   },
   "outputs": [],
   "source": [
    "here = Path('.').resolve()\n"
   ]
  },
  {
   "cell_type": "code",
   "execution_count": 6,
   "id": "d1d597f7-af88-4a72-8781-bbd488776404",
   "metadata": {
    "tags": []
   },
   "outputs": [],
   "source": [
    "colore_runs = here / \"v1/error_boxes\"\n",
    "colore_runs.mkdir(exist_ok=True, parents=True)"
   ]
  },
  {
   "cell_type": "code",
   "execution_count": 23,
   "id": "bf390371-ceae-4c00-9315-c1c54025083f",
   "metadata": {
    "tags": []
   },
   "outputs": [],
   "source": [
    "def get_colore_box_name(seed, version):\n",
    "    box_number = seed-2024\n",
    "    return colore_runs / f\"box-{box_number}\" # Use anything here"
   ]
  },
  {
   "cell_type": "code",
   "execution_count": 24,
   "id": "bc78535d-5d4d-4323-a996-0fc8ddc946ab",
   "metadata": {
    "tags": []
   },
   "outputs": [],
   "source": [
    "def compute_colore(seed, version): # We define function to then run multiple seeds using multiprocessing\n",
    "    colore_box = get_colore_box_name(seed, version)\n",
    "    print(colore_box, seed)\n",
    "    (colore_box / \"results\").mkdir(exist_ok=True, parents=True) # Create folder structure\n",
    "    \n",
    "    # Now we create the param.cfg for CoLoRe in a dict, so it can be customize\n",
    "    param_cfg = {\n",
    "        \"global\": {\n",
    "            \"prefix_out\": f\"{colore_box}/results/out\",\n",
    "            \"output_format\": \"FITS\",\n",
    "            \"output_density\": False,\n",
    "            \"pk_filename\": \"/path/to/smoothed_mu0_NL_matter_powerspectrum_DR12.dat\",\n",
    "            \"z_min\": 1.6,\n",
    "            \"z_max\": 3.79,\n",
    "            \"write_pred\": False,\n",
    "            \"just_write_pred\": False,\n",
    "            \"seed\": seed,\n",
    "            \"pred_dz\": 0.1,\n",
    "        },\n",
    "        \"field_par\": {\n",
    "            \"r_smooth\": 2.0,\n",
    "            \"smooth_potential\": True,\n",
    "            \"n_grid\": n_grid,\n",
    "            \"dens_type\": 0,\n",
    "            \"lpt_buffer_fraction\": 0.6,\n",
    "            \"lpt_interp_type\": 1,\n",
    "            \"output_lpt\": 0,\n",
    "        },\n",
    "        \"cosmo_par\": {\n",
    "            \"omega_M\": 0.3147,\n",
    "            \"omega_L\": 0.6853,\n",
    "            \"omega_B\": 0.04904,\n",
    "            \"h\": 0.6731,\n",
    "            \"w\": -1.0,\n",
    "            \"ns\": 0.9655,\n",
    "            \"sigma_8\": 0.83,\n",
    "        },\n",
    "        \"srcs1\": { # here we are adding multiple sources with different choices of bias and threshold.\n",
    "            \"nz_filename\" : str(here / \"Nz.txt\"),\n",
    "            \"bias_filename\": str(here / f\"/path/to/bias_colore-ql.txt\"),\n",
    "            \"threshold_filename\": str(here / f\"/path/to/threshold_colore-ql.txt\"),\n",
    "            \"include_shear\": False,\n",
    "            \"include_lensing\": False,\n",
    "            \"store_skewers\": True,\n",
    "            \"gaussian_skewers\": True,\n",
    "        },\n",
    "\n",
    "            \n",
    "    }\n",
    "    \n",
    "    # If paramcfg already exists, we  need to check that the content is the same\n",
    "    if (colore_box / \"param.cfg\").is_file():\n",
    "        with open(colore_box / \"param.cfg\") as f:\n",
    "            existing_config = libconf.load(f) # We use libconf to read the file\n",
    "        \n",
    "        diff = DictUtils.remove_empty(\n",
    "            DictUtils.diff_dicts(existing_config, param_cfg)\n",
    "        )\n",
    "        if diff != dict():\n",
    "            raise ValueError(\"Different param provided\", diff)        \n",
    "            \n",
    "    with open(colore_box / \"param.cfg\", \"w\") as f:\n",
    "        libconf.dump(param_cfg, f) # Write configuration to file.\n",
    "        \n",
    "    args = {\n",
    "        \"\": str(colore_box / \"param.cfg\"), # This is the only terminal arg needed to run CoLoRe\n",
    "    }\n",
    "    \n",
    "    # Create the logs directory\n",
    "    colore_logs_dir = colore_box / \"logs\"\n",
    "    colore_logs_dir.mkdir(exist_ok=True)\n",
    "    \n",
    "    # This is to appropiate set the output and error files\n",
    "    # j will be subtituted by the time of execution\n",
    "    # all of this is handled by picca_bookkeeper\n",
    "    slurm_header_args = dict(\n",
    "        qos=\"regular\",\n",
    "        nodes=8,\n",
    "        time = \"00:30:00\",\n",
    "        output=str(colore_logs_dir / \"CoLoRe-%j.out\"),\n",
    "        error=str(colore_logs_dir / \"CoLoRe-%j.err\"),\n",
    "        constraint = \"cpu\",\n",
    "        account = \"desi\",\n",
    "    )\n",
    "    slurm_header_args[\"job-name\"] = \"CoLoRe\"\n",
    "    slurm_header_args[\"ntasks-per-node\"] = 8\n",
    "    \n",
    "    # Create the scripts directory\n",
    "    colore_scripts_dir = colore_box / \"scripts\"\n",
    "    colore_scripts_dir.mkdir(exist_ok=True)\n",
    "    \n",
    "    # Create the tasker instance that will be responsible of sending the job.\n",
    "    tasker = get_Tasker(\"slurm_perlmutter\")( # bash means: do not run it in a computing node.\n",
    "        command = colore_executables[version],\n",
    "        command_args = args,\n",
    "        environment = \"colore_env\", # Name or path to the conda environment to be activated through ``source/conda activate``\n",
    "        slurm_header_args = slurm_header_args,\n",
    "        jobid_log_file = colore_logs_dir / \"jobids.log\", # This is only used for chaining slurm jobs, not needed here.\n",
    "        run_file = colore_scripts_dir.resolve() / \"run_colore.sh\", # This is the file that will be executed\n",
    "        force_OMP_threads = 128\n",
    "    )\n",
    "    \n",
    "    if len(list((colore_box/\"results\").glob(\"out_srcs*fits\"))) == 0 or overwrite_colore:\n",
    "        # If there are no results, we just run the job\n",
    "        tasker.write_job()\n",
    "        tasker.send_job()\n",
    "\n",
    "    else:\n",
    "        print(\"Skipping CoLoRe\")\n",
    "           \n",
    "    return seed, tasker.jobid"
   ]
  },
  {
   "cell_type": "code",
   "execution_count": 20,
   "id": "d0f52f20-071c-41c3-8ad3-ef1257736fb3",
   "metadata": {
    "tags": []
   },
   "outputs": [],
   "source": [
    "jobids = {\n",
    "    0 : None\n",
    "}"
   ]
  },
  {
   "cell_type": "code",
   "execution_count": 21,
   "id": "2f72f78e-9594-4d01-b273-cd12aede8907",
   "metadata": {
    "tags": []
   },
   "outputs": [],
   "source": [
    "#seed_list = np.round(np.linspace(2050, 2074, 23)).astype(int)  # Ensuring seed_list is integers\n",
    "#print(seed_list)"
   ]
  },
  {
   "cell_type": "code",
   "execution_count": 13,
   "id": "2095f0e5-e4c4-49c0-8930-76d1100cb16a",
   "metadata": {
    "tags": []
   },
   "outputs": [
    {
     "name": "stdout",
     "output_type": "stream",
     "text": [
      "[2237 2238 2239 2240 2241 2242 2243 2244 2245 2246 2247 2248 2249 2250\n",
      " 2252]\n",
      "/pscratch/sd/l/lauracdp/New_boxes_CoLoRe/v1/error_boxes/box-213 2237\n",
      "/pscratch/sd/l/lauracdp/New_boxes_CoLoRe/v1/error_boxes/box-214 2238\n",
      "2237 31842120\n",
      "/pscratch/sd/l/lauracdp/New_boxes_CoLoRe/v1/error_boxes/box-215 2239\n",
      "2238 31842121\n",
      "/pscratch/sd/l/lauracdp/New_boxes_CoLoRe/v1/error_boxes/box-216 2240\n",
      "2239 31842122\n",
      "/pscratch/sd/l/lauracdp/New_boxes_CoLoRe/v1/error_boxes/box-217 2241\n",
      "2240 31842125\n",
      "/pscratch/sd/l/lauracdp/New_boxes_CoLoRe/v1/error_boxes/box-218 2242\n",
      "2241 31842127\n",
      "/pscratch/sd/l/lauracdp/New_boxes_CoLoRe/v1/error_boxes/box-219 2243\n",
      "/pscratch/sd/l/lauracdp/New_boxes_CoLoRe/v1/error_boxes/box-220 2244\n",
      "2242 31842129\n",
      "2243 31842130\n",
      "/pscratch/sd/l/lauracdp/New_boxes_CoLoRe/v1/error_boxes/box-221 2245\n",
      "2244 31842131\n",
      "/pscratch/sd/l/lauracdp/New_boxes_CoLoRe/v1/error_boxes/box-222 2246\n",
      "2245 31842132\n",
      "/pscratch/sd/l/lauracdp/New_boxes_CoLoRe/v1/error_boxes/box-223 2247\n",
      "2246 31842135\n",
      "/pscratch/sd/l/lauracdp/New_boxes_CoLoRe/v1/error_boxes/box-224 2248\n",
      "2247 31842136\n",
      "/pscratch/sd/l/lauracdp/New_boxes_CoLoRe/v1/error_boxes/box-225 2249\n",
      "2248 31842137\n",
      "/pscratch/sd/l/lauracdp/New_boxes_CoLoRe/v1/error_boxes/box-226 2250\n",
      "/pscratch/sd/l/lauracdp/New_boxes_CoLoRe/v1/error_boxes/box-228 2252\n",
      "2249 31842138\n",
      "2250 31842139\n",
      "2252 31842140\n"
     ]
    }
   ],
   "source": [
    "# Opening the multiprocessing tool,\n",
    "# the use of imap allows us to see\n",
    "# which runs are finished\n",
    "version = \"base\"\n",
    "seed_list = np.linspace(2237, 2252, 15, dtype=int)\n",
    "jobids = dict()\n",
    "print(seed_list)\n",
    "\n",
    "nproc_colore = 1# This should be keep to a small value to avoid running out of memory\n",
    "with Pool(nproc_colore) as pool:\n",
    "    for result in [pool.apply_async(\n",
    "        compute_colore,\n",
    "        args=(int(seed), version)\n",
    "    ) for seed in seed_list for version in [\"exp_bias\",]]:\n",
    "        seed, jobid = result.get()\n",
    "        print(seed, jobid)\n",
    "        jobids[int(seed)] = jobid\n"
   ]
  },
  {
   "cell_type": "code",
   "execution_count": 25,
   "id": "92c14052-7096-450e-aaa9-3de9b89f8d83",
   "metadata": {
    "tags": []
   },
   "outputs": [
    {
     "name": "stdout",
     "output_type": "stream",
     "text": [
      "/pscratch/sd/l/lauracdp/New_boxes_CoLoRe/v1/error_boxes/box-275 0\n",
      "0 31846431\n"
     ]
    }
   ],
   "source": [
    "# Opening the multiprocessing tool,\n",
    "# the use of imap allows us to see\n",
    "# which runs are finished\n",
    "version = \"base\"\n",
    "seed_list=1\n",
    "jobids = dict()\n",
    "nproc_colore = 1# This should be keep to a small value to avoid running out of memory\n",
    "with Pool(nproc_colore) as pool:\n",
    "    for result in [pool.apply_async(\n",
    "        compute_colore,\n",
    "        args=(seed, version)\n",
    "    ) for seed in range(seed_list) for version in [\"exp_bias\",]]:\n",
    "        seed, jobid = result.get()\n",
    "        print(seed, jobid)\n",
    "        jobids[seed] = jobid\n"
   ]
  },
  {
   "cell_type": "code",
   "execution_count": 94,
   "id": "84a35851-a384-442c-b901-d0b194a55ae6",
   "metadata": {
    "tags": []
   },
   "outputs": [
    {
     "data": {
      "text/plain": [
       "{0: 27720822}"
      ]
     },
     "execution_count": 94,
     "metadata": {},
     "output_type": "execute_result"
    }
   ],
   "source": [
    "jobids\n",
    "#"
   ]
  }
 ],
 "metadata": {
  "kernelspec": {
   "display_name": "MyEnvironment",
   "language": "python",
   "name": "colore_env"
  },
  "language_info": {
   "codemirror_mode": {
    "name": "ipython",
    "version": 3
   },
   "file_extension": ".py",
   "mimetype": "text/x-python",
   "name": "python",
   "nbconvert_exporter": "python",
   "pygments_lexer": "ipython3",
   "version": "3.9.18"
  },
  "widgets": {
   "application/vnd.jupyter.widget-state+json": {
    "state": {},
    "version_major": 2,
    "version_minor": 0
   }
  }
 },
 "nbformat": 4,
 "nbformat_minor": 5
}
