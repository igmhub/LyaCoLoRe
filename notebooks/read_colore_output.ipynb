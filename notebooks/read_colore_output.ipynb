{
 "cells": [
  {
   "cell_type": "markdown",
   "metadata": {},
   "source": [
    "# Read and visualise CoLoRe's output\n",
    "This is a notebook to read example output from CoLoRe and make some basic plots showing the QSO distributions and the skewers."
   ]
  },
  {
   "cell_type": "code",
   "execution_count": null,
   "metadata": {
    "collapsed": true
   },
   "outputs": [],
   "source": [
    "%load_ext autoreload\n",
    "%autoreload 2\n",
    "%matplotlib inline\n",
    "\n",
    "import os\n",
    "import numpy as np\n",
    "from astropy.io import fits\n",
    "import matplotlib.pyplot as plt\n",
    "\n",
    "from lyacolore import utils"
   ]
  },
  {
   "cell_type": "code",
   "execution_count": null,
   "metadata": {
    "collapsed": true
   },
   "outputs": [],
   "source": [
    "# Define some plotting parameters: the figure size, font size and some nice colours\n",
    "figsize = (12,8)\n",
    "fontsize = 18; plt.rc('font', size=fontsize)\n",
    "colours = C0,C1,C2,C3 = ['#F5793A','#A95AA1','#85C0F9','#0F2080']"
   ]
  },
  {
   "cell_type": "markdown",
   "metadata": {},
   "source": [
    "## Open an example data file and show its structure.\n",
    "Here, there is a choice between a Gaussian output file, or a 2LPT (density) one. Set the variable `file_type` to `gaussian` or `2lpt` to make your choice.\n",
    "\n",
    "The HDUs contain the following information:\n",
    "\n",
    " - `CATALOG` contains information about the QSOs.\n",
    " - `DENSITY` contains the density skewers. Skewers are stored as an array, where each row corresponds to a separate skewer.\n",
    " - `VELOCITY` contains the velocity skewers. Skewers are stored as an array, where each row corresponds to a separate skewer.\n",
    " - The 4th HDU contains cosmological quantities (redshift, comoving distance etc) along the skewers."
   ]
  },
  {
   "cell_type": "code",
   "execution_count": null,
   "metadata": {
    "collapsed": true
   },
   "outputs": [],
   "source": [
    "file_type = 'gaussian'"
   ]
  },
  {
   "cell_type": "code",
   "execution_count": null,
   "metadata": {
    "collapsed": true
   },
   "outputs": [],
   "source": [
    "assert file_type in ['gaussian','2lpt']"
   ]
  },
  {
   "cell_type": "code",
   "execution_count": null,
   "metadata": {},
   "outputs": [],
   "source": [
    "hdulist = fits.open(os.environ['LYACOLORE_PATH']\n",
    "                    +'/example_data/{}/colore_output/out_srcs_s1_0.fits'.format(file_type))\n",
    "hdulist.info()"
   ]
  },
  {
   "cell_type": "markdown",
   "metadata": {},
   "source": [
    "## Take a look at the QSOs in the file.\n",
    "We first extract the information about the QSOs in this file, looking at their distribution on the sky and their number density distribution."
   ]
  },
  {
   "cell_type": "code",
   "execution_count": null,
   "metadata": {},
   "outputs": [],
   "source": [
    "z_qso = hdulist[1].data['Z_COSMO']\n",
    "N_qso = len(z_qso)\n",
    "print('INFO: There are {} quasars in the sample.'.format(N_qso))"
   ]
  },
  {
   "cell_type": "code",
   "execution_count": null,
   "metadata": {},
   "outputs": [],
   "source": [
    "# Plot the locations of the quasars.\n",
    "fig, axs = plt.subplots(1,1,figsize=figsize,squeeze=False)\n",
    "RA = hdulist[1].data['RA']\n",
    "DEC = hdulist[1].data['DEC']\n",
    "phi = RA*np.pi/180\n",
    "theta = np.pi/2 - DEC*np.pi/180\n",
    "axs[0,0].scatter(phi/np.pi,np.cos(theta),color=C0)\n",
    "axs[0,0].set_xlim(0.0,2.0)\n",
    "axs[0,0].set_ylim(-1.0,1.0)\n",
    "axs[0,0].set_xlabel(r'$\\phi/\\pi$')\n",
    "axs[0,0].set_ylabel(r'$\\cos(\\theta)$')\n",
    "plt.show()"
   ]
  },
  {
   "cell_type": "code",
   "execution_count": null,
   "metadata": {},
   "outputs": [],
   "source": [
    "# Plot the n(z) distribution of the quasars.\n",
    "fig, axs = plt.subplots(1,1,figsize=figsize,squeeze=False)\n",
    "bins = np.linspace(1.0,4.0,31)\n",
    "zqso = hdulist[1].data['Z_COSMO']\n",
    "axs[0,0].hist(zqso,bins=bins,histtype='step',color=C0)\n",
    "axs[0,0].set_xlabel(r'$z$')\n",
    "axs[0,0].set_ylabel('# QSOs')\n",
    "plt.show()"
   ]
  },
  {
   "cell_type": "markdown",
   "metadata": {},
   "source": [
    "## Extract some general data from the file.\n",
    "We now extract data from the file useful for plotting individual skewers shortly"
   ]
  },
  {
   "cell_type": "code",
   "execution_count": null,
   "metadata": {
    "collapsed": true
   },
   "outputs": [],
   "source": [
    "# Extract redshift from data file\n",
    "z = hdulist[4].data['Z']\n",
    "z = np.asarray(z)"
   ]
  },
  {
   "cell_type": "code",
   "execution_count": null,
   "metadata": {
    "collapsed": true
   },
   "outputs": [],
   "source": [
    "# Extract the delta skewers from the file, and make a mask for them according to a maximum rest frame wavelength.\n",
    "lr_max = 1200.\n",
    "delta_skewers = hdulist[2].data\n",
    "mask = utils.make_IVAR_rows(lr_max,z_qso,np.log10(utils.lya_rest*(1+z)))"
   ]
  },
  {
   "cell_type": "markdown",
   "metadata": {},
   "source": [
    "## Look at an individual skewer."
   ]
  },
  {
   "cell_type": "code",
   "execution_count": null,
   "metadata": {
    "collapsed": true
   },
   "outputs": [],
   "source": [
    "# Get the skewer for the highest redshift quasar in the sample.\n",
    "ind = np.argmax(hdulist[1].data['Z_COSMO'])\n",
    "delta = delta_skewers[ind,:]"
   ]
  },
  {
   "cell_type": "code",
   "execution_count": null,
   "metadata": {},
   "outputs": [],
   "source": [
    "#Show delta vs z\n",
    "fig, axs = plt.subplots(1,1,figsize=figsize,squeeze=False)\n",
    "mean_delta = np.average(delta,weights=mask[ind])\n",
    "print('INFO: mean delta =', mean_delta)\n",
    "mean_delta_squared = np.average(delta**2,weights=mask[ind])\n",
    "sigma_delta = np.sqrt(mean_delta_squared-mean_delta**2)\n",
    "print('INFO: std delta =', sigma_delta)\n",
    "axs[0,0].plot(z,delta,c=C0)\n",
    "axs[0,0].set_xlabel('z')\n",
    "axs[0,0].set_ylabel('$\\\\delta$')\n",
    "plt.show()"
   ]
  },
  {
   "cell_type": "markdown",
   "metadata": {},
   "source": [
    "## Look at the mean and std of all skewers in the file.\n",
    "For Gaussian skewers, this should just be noise around zero. For 2LPT or lognormal skewers it will be non-zero."
   ]
  },
  {
   "cell_type": "code",
   "execution_count": null,
   "metadata": {},
   "outputs": [],
   "source": [
    "# Calculate the mean delta as a function of redshift.\n",
    "overall_mean_delta = np.average(delta_skewers,weights=mask)\n",
    "print('mean delta over all skewers =', overall_mean_delta)\n",
    "w = mask.sum(axis=0)>0"
   ]
  },
  {
   "cell_type": "code",
   "execution_count": null,
   "metadata": {},
   "outputs": [],
   "source": [
    "# Plot the mean delta as a function of redshift.\n",
    "fig, axs = plt.subplots(1,1,figsize=figsize,squeeze=False)\n",
    "axs[0,0].plot(z[w],np.average(delta_skewers[:,w],weights=mask[:,w],axis=0),c=C0)\n",
    "axs[0,0].set_xlabel('z')\n",
    "axs[0,0].set_ylabel('$<\\\\delta>$')\n",
    "plt.axhline(y=overall_mean_delta,c='grey')\n",
    "plt.show()"
   ]
  },
  {
   "cell_type": "code",
   "execution_count": null,
   "metadata": {},
   "outputs": [],
   "source": [
    "# Calculate the standard deviation as a function of redshift.\n",
    "overall_mean_delta = np.average(delta_skewers,weights=mask)\n",
    "overall_mean_delta_squared = np.average(delta_skewers**2,weights=mask)\n",
    "overall_sigma_delta = np.sqrt(overall_mean_delta_squared-overall_mean_delta**2)\n",
    "print(r'INFO: std over all skewers = {:1.4f}'.format(overall_sigma_delta))\n",
    "w = mask.sum(axis=0)>0\n",
    "mean_delta = np.average(delta_skewers[:,w],weights=mask[:,w],axis=0)\n",
    "mean_delta_squared = np.average(delta_skewers[:,w]**2,weights=mask[:,w],axis=0)"
   ]
  },
  {
   "cell_type": "code",
   "execution_count": null,
   "metadata": {},
   "outputs": [],
   "source": [
    "# Plot the standard deviation as a function of redshift.\n",
    "fig, axs = plt.subplots(1,1,figsize=figsize,squeeze=False)\n",
    "axs[0,0].plot(z[w],np.sqrt(mean_delta_squared-mean_delta**2),c=C0)\n",
    "axs[0,0].set_xlabel('z')\n",
    "axs[0,0].set_ylabel('$\\sigma_{\\delta}$')\n",
    "plt.axhline(y=overall_sigma_delta,c='grey')\n",
    "plt.show()"
   ]
  },
  {
   "cell_type": "markdown",
   "metadata": {},
   "source": [
    "## Look at the PDF of the skewers in redshift bins.\n",
    "\n",
    "Gaussian skewers have no redshift evolution and so all redshift bins should have identical, Gaussian PDFs. 2LPT skewers will show some redshift evolution, and will represent physical deltas (i.e. values between -1 and inf)."
   ]
  },
  {
   "cell_type": "code",
   "execution_count": null,
   "metadata": {},
   "outputs": [],
   "source": [
    "# Plot the pdf of deltas in redshift bins.\n",
    "z_bins = [(0,1),(1,2),(2,3),(3,)]\n",
    "\n",
    "fig, axs = plt.subplots(1,1,figsize=figsize,squeeze=False)\n",
    "if file_type == 'gaussian':\n",
    "    d_bins = np.linspace(-5,5,100)\n",
    "elif file_type == '2lpt':\n",
    "    d_bins = np.linspace(-1,4,100)\n",
    "\n",
    "for i,zbin in enumerate(z_bins):    \n",
    "    if len(zbin)==2:\n",
    "        w = ((z>zbin[0]) * (z<zbin[1]))\n",
    "        label = r'${}<z<{}$'.format(zbin[0], zbin[1])\n",
    "    else:\n",
    "        w = ((z>zbin[0]))\n",
    "        label = r'${}<z$'.format(zbin[0])\n",
    "    axs[0,0].hist(np.ravel(hdulist[2].data[:,w]),bins=d_bins,weights=np.ravel(mask[:,w]),\n",
    "             density=True,histtype='step',label=label,color=colours[i%len(colours)])\n",
    "axs[0,0].set_xlabel('$\\\\delta$')\n",
    "axs[0,0].set_ylabel('$P(\\delta)$')\n",
    "plt.legend()\n",
    "plt.show()"
   ]
  },
  {
   "cell_type": "code",
   "execution_count": null,
   "metadata": {
    "collapsed": true
   },
   "outputs": [],
   "source": []
  }
 ],
 "metadata": {
  "kernelspec": {
   "display_name": "Python 3",
   "language": "python",
   "name": "python3"
  },
  "language_info": {
   "codemirror_mode": {
    "name": "ipython",
    "version": 3
   },
   "file_extension": ".py",
   "mimetype": "text/x-python",
   "name": "python",
   "nbconvert_exporter": "python",
   "pygments_lexer": "ipython3",
   "version": "3.6.8"
  }
 },
 "nbformat": 4,
 "nbformat_minor": 2
}
