{
 "cells": [
  {
   "cell_type": "markdown",
   "metadata": {},
   "source": [
    "# Read LyaCoLoRe outputs\n",
    "\n",
    "This notebook is to open and plot the output of LyaCoLoRe.\n",
    "\n",
    "To run LyaColore, follow steps in README file of https://github.com/igmhub/LyaCoLoRe/."
   ]
  },
  {
   "cell_type": "code",
   "execution_count": null,
   "metadata": {},
   "outputs": [],
   "source": [
    "%load_ext autoreload\n",
    "%autoreload 2\n",
    "%matplotlib inline\n",
    "\n",
    "import os\n",
    "import numpy as np \n",
    "import matplotlib.pyplot as plt\n",
    "from astropy.io import fits\n",
    "from astropy.table import Table, join\n",
    "\n",
    "from lyacolore import utils"
   ]
  },
  {
   "cell_type": "code",
   "execution_count": null,
   "metadata": {
    "collapsed": true
   },
   "outputs": [],
   "source": [
    "# Define some plotting parameters: the figure size, font size and some nice colours\n",
    "figsize = (12,8)\n",
    "fontsize = 18; plt.rc('font', size=fontsize)\n",
    "colours = C0,C1,C2,C3 = ['#F5793A','#A95AA1','#85C0F9','#0F2080']"
   ]
  },
  {
   "cell_type": "code",
   "execution_count": null,
   "metadata": {
    "collapsed": true
   },
   "outputs": [],
   "source": [
    "# Define which range of wavelengths we would like to show in our plots.\n",
    "# A range of ~100Å is generally about right.\n",
    "lambda_min = 3800.\n",
    "lambda_max = 3900."
   ]
  },
  {
   "cell_type": "markdown",
   "metadata": {},
   "source": [
    "## Open output files from LyaCoLoRe\n",
    "Here, there is a choice between a Gaussian output file, or a 2LPT (density) one. Set the variable `file_type` to `gaussian` or `2lpt` to make your choice.\n",
    "\n",
    "The HDUs contain the following information:\n",
    "\n",
    " - `METADATA` contains information about the QSOs.\n",
    " - `WAVELENGTH` contains the wavelength grid of the skewers in Angstroms.\n",
    " - `F_{X}` contains the skewers of transmitted flux fraction for an absorber `X`. Skewers are stored as an array, where each row corresponds to a separate skewer.\n",
    " - `DLA` contains information about the DLAs (if available)."
   ]
  },
  {
   "cell_type": "code",
   "execution_count": null,
   "metadata": {
    "collapsed": true
   },
   "outputs": [],
   "source": [
    "file_type = 'gaussian'"
   ]
  },
  {
   "cell_type": "code",
   "execution_count": null,
   "metadata": {
    "collapsed": true
   },
   "outputs": [],
   "source": [
    "assert file_type in ['gaussian','2lpt']"
   ]
  },
  {
   "cell_type": "code",
   "execution_count": null,
   "metadata": {},
   "outputs": [],
   "source": [
    "hdu = fits.open(os.environ['LYACOLORE_PATH']+\n",
    "                '/example_data/gaussian/lyacolore_output_standard/0/0/transmission-16-0.fits.gz')\n",
    "hdu.info()"
   ]
  },
  {
   "cell_type": "markdown",
   "metadata": {},
   "source": [
    "## Plot the Lya and Lyb absorption for a spectrum"
   ]
  },
  {
   "cell_type": "code",
   "execution_count": null,
   "metadata": {
    "collapsed": true
   },
   "outputs": [],
   "source": [
    "# Select a skewer to plot\n",
    "i_skw = 0"
   ]
  },
  {
   "cell_type": "code",
   "execution_count": null,
   "metadata": {},
   "outputs": [],
   "source": [
    "wave = hdu[2].data\n",
    "fig, axs = plt.subplots(1,1,figsize=figsize,squeeze=False)\n",
    "plt.plot(wave,hdu['F_LYA'].data[i_skw],label=r'Ly$\\alpha$',c=C0)\n",
    "plt.plot(wave,hdu['F_LYB'].data[i_skw],label=r'Ly$\\beta$',c=C1)\n",
    "plt.xlabel('Wavelength [A]')\n",
    "plt.ylabel('F')\n",
    "plt.xlim(3500,3700)\n",
    "plt.ylim(-0.05,1.05)\n",
    "plt.title('Lya & Lyb transmited flux fraction')\n",
    "plt.legend()\n",
    "plt.show()"
   ]
  },
  {
   "cell_type": "markdown",
   "metadata": {},
   "source": [
    "## Plot the metal absorption for the same spectrum"
   ]
  },
  {
   "cell_type": "code",
   "execution_count": null,
   "metadata": {},
   "outputs": [],
   "source": [
    "fig, axs = plt.subplots(1,1,figsize=figsize,squeeze=False)\n",
    "for i,h in enumerate(hdu):\n",
    "    if (h.name[:2]=='F_') & ('LY' not in h.name):\n",
    "        axs[0,0].plot(wave,h.data[i_skw],label=h.name[2:],c=colours[i%len(colours)])\n",
    "axs[0,0].set_xlabel('Wavelength [Å]')\n",
    "axs[0,0].set_ylabel('F')\n",
    "axs[0,0].set_xlim(3500,3700)\n",
    "axs[0,0].set_ylim(-0.05,1.05)\n",
    "axs[0,0].set_title('Metal transmited flux fraction')\n",
    "plt.legend()\n",
    "plt.show()"
   ]
  },
  {
   "cell_type": "markdown",
   "metadata": {},
   "source": [
    "Plot the same quantities again, but using redshift rather than wavelength on the $x$-axis. We expect to see the features sit on top of each other."
   ]
  },
  {
   "cell_type": "code",
   "execution_count": null,
   "metadata": {},
   "outputs": [],
   "source": [
    "fig, axs = plt.subplots(1,1,figsize=figsize,squeeze=False)\n",
    "for h in hdu:\n",
    "    if (h.name[:2]=='F_') & ('LY' not in h.name):\n",
    "        abs_lr = float(h.header[h.name[2:]])\n",
    "        axs[0,0].plot((wave/abs_lr)-1,h.data[i_skw],label=h.name[2:])\n",
    "axs[0,0].set_xlabel('$z$')\n",
    "axs[0,0].set_ylabel('F')\n",
    "axs[0,0].set_xlim(2.0,2.5)\n",
    "axs[0,0].set_ylim(-0.05,1.05)\n",
    "axs[0,0].set_title('Metal transmited flux fraction')\n",
    "plt.legend()\n",
    "plt.show()"
   ]
  },
  {
   "cell_type": "markdown",
   "metadata": {
    "collapsed": true
   },
   "source": [
    "## Plot the Lya absorption for a spectrum along with its DLA locations\n",
    "Finally, we plot the Lyman-$\\alpha$ absorption for a skewer which contains at least 1 DLA, indicating the location of DLAs with a black cross."
   ]
  },
  {
   "cell_type": "code",
   "execution_count": null,
   "metadata": {
    "collapsed": true
   },
   "outputs": [],
   "source": [
    "# Select a skewer with DLAs in it.\n",
    "i_dla_skw = 0"
   ]
  },
  {
   "cell_type": "code",
   "execution_count": null,
   "metadata": {
    "collapsed": true
   },
   "outputs": [],
   "source": [
    "# Extract the table of DLAs in that skewer.\n",
    "mockid = list(set(hdu['DLA'].data['MOCKID']))[i_dla_skw]\n",
    "i_skw = np.where(hdu['METADATA'].data['MOCKID']==mockid)[0][0]\n",
    "dlas = hdu['DLA'].data[hdu['DLA'].data['MOCKID']==mockid]"
   ]
  },
  {
   "cell_type": "code",
   "execution_count": null,
   "metadata": {},
   "outputs": [],
   "source": [
    "# Plot the Lya flux with crosses indicating DLA locations\n",
    "fig, axs = plt.subplots(1,1,figsize=figsize,squeeze=False)\n",
    "wave = hdu[2].data\n",
    "plt.plot(wave,hdu['F_LYA'].data[i_skw],label='LYA',c=C0)\n",
    "for dla in dlas:\n",
    "    axs[0,0].scatter(utils.lya_rest*(1+dla['Z_DLA_RSD']),1.05,marker='X',c='k')\n",
    "axs[0,0].set_xlabel('Wavelength [A]')\n",
    "axs[0,0].set_ylabel('F')\n",
    "axs[0,0].set_xlim(np.min(utils.lya_rest*(1+dla['Z_DLA_RSD']))*0.9,np.max(utils.lya_rest*(1+dla['Z_DLA_RSD']))*1.1)\n",
    "axs[0,0].set_ylim(-0.05,1.1)\n",
    "axs[0,0].set_title('Lya transmited flux fraction with DLAs')\n",
    "plt.show()"
   ]
  },
  {
   "cell_type": "code",
   "execution_count": null,
   "metadata": {
    "collapsed": true
   },
   "outputs": [],
   "source": []
  }
 ],
 "metadata": {
  "kernelspec": {
   "display_name": "Python 3",
   "language": "python",
   "name": "python3"
  },
  "language_info": {
   "codemirror_mode": {
    "name": "ipython",
    "version": 3
   },
   "file_extension": ".py",
   "mimetype": "text/x-python",
   "name": "python",
   "nbconvert_exporter": "python",
   "pygments_lexer": "ipython3",
   "version": "3.6.8"
  }
 },
 "nbformat": 4,
 "nbformat_minor": 2
}
