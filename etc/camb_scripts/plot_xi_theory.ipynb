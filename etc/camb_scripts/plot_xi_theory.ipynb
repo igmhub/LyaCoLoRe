{
 "cells": [
  {
   "cell_type": "markdown",
   "metadata": {},
   "source": [
    "# Compute theoretical prediction for xi(r,z=0) from CAMB"
   ]
  },
  {
   "cell_type": "code",
   "execution_count": 31,
   "metadata": {},
   "outputs": [
    {
     "name": "stdout",
     "output_type": "stream",
     "text": [
      "The autoreload extension is already loaded. To reload it, use:\n",
      "  %reload_ext autoreload\n"
     ]
    }
   ],
   "source": [
    "%load_ext autoreload\n",
    "%autoreload 2\n",
    "%matplotlib inline"
   ]
  },
  {
   "cell_type": "code",
   "execution_count": 32,
   "metadata": {
    "collapsed": true
   },
   "outputs": [],
   "source": [
    "import numpy as np\n",
    "import matplotlib.pyplot as plt\n",
    "import scipy.integrate as integrate\n",
    "import camb\n",
    "from camb import model, initialpower\n",
    "\n",
    "from utils import get_simulation_parameters"
   ]
  },
  {
   "cell_type": "code",
   "execution_count": 46,
   "metadata": {},
   "outputs": [],
   "source": [
    "# Point to a CoLoRe parameter file\n",
    "colore_dir = '../example_data/gaussian/colore_output/'\n",
    "param_file = 'out_params.cfg'\n",
    "simulation_parameters = get_simulation_parameters(colore_dir,param_file)"
   ]
  },
  {
   "cell_type": "code",
   "execution_count": 47,
   "metadata": {},
   "outputs": [
    {
     "data": {
      "text/plain": [
       "{'dens_type': 0.0,\n",
       " 'h': 0.6731,\n",
       " 'n_grid': 4096.0,\n",
       " 'ns': 0.9655,\n",
       " 'omega_B': 0.04904,\n",
       " 'omega_L': 0.6853,\n",
       " 'omega_M': 0.3147,\n",
       " 'r_smooth': 2.0,\n",
       " 'sigma_8': 0.83,\n",
       " 'w': -1.0}"
      ]
     },
     "execution_count": 47,
     "metadata": {},
     "output_type": "execute_result"
    }
   ],
   "source": [
    "simulation_parameters"
   ]
  },
  {
   "cell_type": "code",
   "execution_count": 48,
   "metadata": {
    "collapsed": true
   },
   "outputs": [],
   "source": [
    "# Cosmology parameters\n",
    "h = simulation_parameters['h']\n",
    "Omega_m = simulation_parameters['omega_M']\n",
    "Omega_l = simulation_parameters['omega_L']\n",
    "Omega_b = simulation_parameters['omega_B']\n",
    "w = simulation_parameters['w']\n",
    "ns = simulation_parameters['ns']\n",
    "sigma_8 = simulation_parameters['sigma_8']\n",
    "\n",
    "# Prepare for CAMB\n",
    "H0 = 100.0*h\n",
    "ombh2 = Omega_b*h*h\n",
    "Omega_c = Omega_m-Omega_b\n",
    "omch2 = Omega_c*h*h"
   ]
  },
  {
   "cell_type": "code",
   "execution_count": 49,
   "metadata": {},
   "outputs": [
    {
     "name": "stdout",
     "output_type": "stream",
     "text": [
      "default As= 2e-09\n",
      "default s8= 0.7939310588764372\n"
     ]
    }
   ],
   "source": [
    "# setup parameters in CAMB\n",
    "pars = camb.CAMBparams()\n",
    "pars.set_cosmology(H0=H0, ombh2=ombh2, omch2=omch2)\n",
    "pars.InitPower.set_params(ns=ns)\n",
    "default_As=pars.InitPower.ScalarPowerAmp[0]\n",
    "print('default As=',default_As)\n",
    "# we need to compute dark matter power to get sigma_8 in default settings\n",
    "pars.set_matter_power(redshifts=[0.0], kmax=100.0)\n",
    "default_results = camb.get_results(pars)\n",
    "default_sigma_8=default_results.get_sigma8()[0]\n",
    "print('default s8=',default_sigma_8)"
   ]
  },
  {
   "cell_type": "code",
   "execution_count": 50,
   "metadata": {},
   "outputs": [
    {
     "name": "stdout",
     "output_type": "stream",
     "text": [
      "new As= 2.185851209848123e-09\n",
      "new s8= 0.8282828710463433\n"
     ]
    }
   ],
   "source": [
    "# figure out right A_s to get right sigma_8\n",
    "new_As=default_As*((sigma_8/default_sigma_8)**2)\n",
    "pars.InitPower.set_params(As=new_As)\n",
    "new_results = camb.get_results(pars)\n",
    "new_sigma_8=new_results.get_sigma8()[0]\n",
    "print('new As=',new_As)\n",
    "print('new s8=',new_sigma_8)"
   ]
  },
  {
   "cell_type": "code",
   "execution_count": 51,
   "metadata": {
    "collapsed": true
   },
   "outputs": [],
   "source": [
    "# return the matter power spectrum at the desired redshift\n",
    "new_results.calc_power_spectra(pars)\n",
    "kh, z, pk = new_results.get_matter_power_spectrum(minkh=1e-4, maxkh=10, npoints = 10000)"
   ]
  },
  {
   "cell_type": "code",
   "execution_count": 52,
   "metadata": {},
   "outputs": [
    {
     "data": {
      "text/plain": [
       "[<matplotlib.lines.Line2D at 0x18233f0d30>]"
      ]
     },
     "execution_count": 52,
     "metadata": {},
     "output_type": "execute_result"
    },
    {
     "data": {
      "image/png": "[encoded data removed]",
      "text/plain": [
       "<Figure size 432x288 with 1 Axes>"
      ]
     },
     "metadata": {},
     "output_type": "display_data"
    }
   ],
   "source": [
    "plt.xlabel('wavenumber k [h/Mpc]')\n",
    "plt.ylabel('power [(Mpc/h)^3]')\n",
    "plt.loglog(kh,pk[0])"
   ]
  },
  {
   "cell_type": "code",
   "execution_count": 53,
   "metadata": {
    "collapsed": true
   },
   "outputs": [],
   "source": [
    "# given an array of P(k), compute integral to get xi(r). It could use a smarter FFT code.\n",
    "def xi_from_pk(r,ks,Ps,G):\n",
    "    dlnk=np.log(ks[1])-np.log(ks[0])\n",
    "    x=ks*r\n",
    "    fs=(ks**3)*Ps*np.sin(x)/x\n",
    "    # smooth power at high-k, using Gaussian of width G, to reduce numerical noise\n",
    "    fs*=np.exp(-(G*ks)**2)\n",
    "    return np.sum(fs)*(0.5*dlnk/(np.pi**2))  "
   ]
  },
  {
   "cell_type": "code",
   "execution_count": 9,
   "metadata": {
    "collapsed": true
   },
   "outputs": [],
   "source": [
    "# will evaluate correlation function at these separations\n",
    "rs=np.linspace(0.01,200.0,1000)\n",
    "xis_01=np.zeros(rs.shape)\n",
    "xis_05=np.zeros(rs.shape)\n",
    "xis_10=np.zeros(rs.shape)\n",
    "xis_20=np.zeros(rs.shape)\n",
    "xis_40=np.zeros(rs.shape)\n",
    "for i,r in enumerate(rs):\n",
    "    xis_01[i]=xi_from_pk(r,kh,pk[0],0.1)\n",
    "    xis_05[i]=xi_from_pk(r,kh,pk[0],0.5)\n",
    "    xis_10[i]=xi_from_pk(r,kh,pk[0],1.0)\n",
    "    xis_20[i]=xi_from_pk(r,kh,pk[0],2.0)\n",
    "    xis_40[i]=xi_from_pk(r,kh,pk[0],4.0)"
   ]
  },
  {
   "cell_type": "code",
   "execution_count": 10,
   "metadata": {},
   "outputs": [
    {
     "data": {
      "text/plain": [
       "<matplotlib.legend.Legend at 0x18161cd048>"
      ]
     },
     "execution_count": 10,
     "metadata": {},
     "output_type": "execute_result"
    },
    {
     "data": {
      "image/png": "[encoded data removed]",
      "text/plain": [
       "<matplotlib.figure.Figure at 0x181645f9e8>"
      ]
     },
     "metadata": {},
     "output_type": "display_data"
    }
   ],
   "source": [
    "plt.xlabel('separation [Mpc/h]')\n",
    "plt.ylabel('correlation function')\n",
    "plt.plot(rs,rs*rs*xis_01,label='R_G=0.1 Mpc/h')\n",
    "plt.plot(rs,rs*rs*xis_05,label='R_G=0.5 Mpc/h')\n",
    "plt.plot(rs,rs*rs*xis_10,label='R_G=1.0 Mpc/h')\n",
    "plt.plot(rs,rs*rs*xis_20,label='R_G=2.0 Mpc/h')\n",
    "plt.plot(rs,rs*rs*xis_40,label='R_G=4.0 Mpc/h')\n",
    "plt.legend()"
   ]
  },
  {
   "cell_type": "code",
   "execution_count": 11,
   "metadata": {
    "collapsed": true
   },
   "outputs": [],
   "source": [
    "# write correlation to file\n",
    "f = open('camb_xi_01.txt','w')\n",
    "for r,xi in zip(rs,xis_01):\n",
    "    f.writelines([str(r),' ',str(xi),'\\n'])\n",
    "f.close()\n",
    "\n",
    "f = open('camb_xi_05.txt','w')\n",
    "for r,xi in zip(rs,xis_05):\n",
    "    f.writelines([str(r),' ',str(xi),'\\n'])\n",
    "f.close()\n",
    "\n",
    "f = open('camb_xi_10.txt','w')\n",
    "for r,xi in zip(rs,xis_10):\n",
    "    f.writelines([str(r),' ',str(xi),'\\n'])\n",
    "f.close()\n",
    "\n",
    "f = open('camb_xi_20.txt','w')\n",
    "for r,xi in zip(rs,xis_20):\n",
    "    f.writelines([str(r),' ',str(xi),'\\n'])\n",
    "f.close()\n",
    "\n",
    "f = open('camb_xi_40.txt','w')\n",
    "for r,xi in zip(rs,xis_40):\n",
    "    f.writelines([str(r),' ',str(xi),'\\n'])\n",
    "f.close()"
   ]
  },
  {
   "cell_type": "code",
   "execution_count": 45,
   "metadata": {
    "collapsed": true
   },
   "outputs": [],
   "source": [
    "#Now want to generate the xi_l functions to include RSDs, following section 4.5 of Slosar et al 2011.\n",
    "#First we define the polynomials P_l, k_l and C_l:\n",
    "import numpy.polynomial.legendre as legendre\n",
    "def P0(x):\n",
    "    return legendre.legval(x,[1])\n",
    "def P2(x):\n",
    "    return legendre.legval(x,[0,0,1])\n",
    "def P4(x):\n",
    "    return legendre.legval(x,[0,0,0,0,1])\n",
    "def k0(x):\n",
    "    return (np.sin(x))/x\n",
    "def k2(x):\n",
    "    return (np.sin(x)*(x**2 - 3) + np.cos(x) * (3*x))/(x**3)\n",
    "def k4(x):\n",
    "    return (np.sin(x)*(x**4 - 45*(x**2) + 105) + np.cos(x) * (10*(x**3) - 105*x))/(x**5)\n",
    "def C0(x):\n",
    "    return 1 + (2./3.)*x + (1./5.)*(x**2)\n",
    "def C2(x):\n",
    "    return (4./3.)*x + (4./7.)*(x**2)\n",
    "def C4(x):\n",
    "    return (8./35.)*(x**2)"
   ]
  },
  {
   "cell_type": "code",
   "execution_count": 69,
   "metadata": {
    "collapsed": true
   },
   "outputs": [],
   "source": [
    "#Now calculate the xi_l.\n",
    "def xi0(r,R):\n",
    "    return ((4*np.pi)/((2*np.pi)**3)) * np.trapz(np.outer(pk[0],np.ones_like(r))*k0(np.outer(kh,r))*(np.outer(kh,np.ones_like(r))**2)*np.exp(-(R*np.outer(kh,np.ones_like(r)))**2),kh,axis=0)\n",
    "def xi2(r,R):\n",
    "    return ((4*np.pi)/((2*np.pi)**3)) * np.trapz(np.outer(pk[0],np.ones_like(r))*k2(np.outer(kh,r))*(np.outer(kh,np.ones_like(r))**2)*np.exp(-(R*np.outer(kh,np.ones_like(r)))**2),kh,axis=0)\n",
    "def xi4(r,R):\n",
    "    return ((4*np.pi)/((2*np.pi)**3)) * np.trapz(np.outer(pk[0],np.ones_like(r))*k4(np.outer(kh,r))*(np.outer(kh,np.ones_like(r))**2)*np.exp(-(R*np.outer(kh,np.ones_like(r)))**2),kh,axis=0)"
   ]
  },
  {
   "cell_type": "code",
   "execution_count": 95,
   "metadata": {
    "collapsed": true
   },
   "outputs": [],
   "source": [
    "#Now sum them up.\n",
    "def xi(r,mu,b,beta,R_smooth):\n",
    "    return (b**2) * (C0(beta)*xi0(r,R_smooth)*P0(mu) + C2(beta)*xi2(r,R_smooth)*P2(mu) + C4(beta)*xi4(r,R_smooth)*P4(mu))"
   ]
  },
  {
   "cell_type": "code",
   "execution_count": 110,
   "metadata": {},
   "outputs": [
    {
     "name": "stderr",
     "output_type": "stream",
     "text": [
      "/Users/jfarr/anaconda3/lib/python3.6/site-packages/ipykernel_launcher.py:11: RuntimeWarning: divide by zero encountered in true_divide\n",
      "  # This is added back by InteractiveShellApp.init_path()\n",
      "/Users/jfarr/anaconda3/lib/python3.6/site-packages/ipykernel_launcher.py:11: RuntimeWarning: invalid value encountered in true_divide\n",
      "  # This is added back by InteractiveShellApp.init_path()\n",
      "/Users/jfarr/anaconda3/lib/python3.6/site-packages/ipykernel_launcher.py:13: RuntimeWarning: divide by zero encountered in true_divide\n",
      "  del sys.path[0]\n",
      "/Users/jfarr/anaconda3/lib/python3.6/site-packages/ipykernel_launcher.py:13: RuntimeWarning: invalid value encountered in true_divide\n",
      "  del sys.path[0]\n",
      "/Users/jfarr/anaconda3/lib/python3.6/site-packages/ipykernel_launcher.py:15: RuntimeWarning: divide by zero encountered in true_divide\n",
      "  from ipykernel import kernelapp as app\n",
      "/Users/jfarr/anaconda3/lib/python3.6/site-packages/ipykernel_launcher.py:15: RuntimeWarning: invalid value encountered in true_divide\n",
      "  from ipykernel import kernelapp as app\n"
     ]
    },
    {
     "data": {
      "image/png": "[encoded data removed]",
      "text/plain": [
       "<matplotlib.figure.Figure at 0x18161b9c18>"
      ]
     },
     "metadata": {},
     "output_type": "display_data"
    }
   ],
   "source": [
    "r = np.linspace(0,160,161)\n",
    "mu_values = [0.5]\n",
    "b = 1.       #-0.133\n",
    "D = 0.3698264809652976\n",
    "beta = 0.    #0.649*0.8\n",
    "R_smooth = 0.\n",
    "for mu in mu_values:\n",
    "    plt.plot(r,(D**2)*(r**2)*xi(r,mu,b,beta,R_smooth),label=r'$\\mu={}$'.format(mu))\n",
    "plt.grid()\n",
    "plt.legend()\n",
    "plt.show()"
   ]
  },
  {
   "cell_type": "code",
   "execution_count": null,
   "metadata": {
    "collapsed": true
   },
   "outputs": [],
   "source": []
  }
 ],
 "metadata": {
  "kernelspec": {
   "display_name": "Python 3",
   "language": "python",
   "name": "python3"
  },
  "language_info": {
   "codemirror_mode": {
    "name": "ipython",
    "version": 3
   },
   "file_extension": ".py",
   "mimetype": "text/x-python",
   "name": "python",
   "nbconvert_exporter": "python",
   "pygments_lexer": "ipython3",
   "version": "3.6.8"
  }
 },
 "nbformat": 4,
 "nbformat_minor": 2
}
