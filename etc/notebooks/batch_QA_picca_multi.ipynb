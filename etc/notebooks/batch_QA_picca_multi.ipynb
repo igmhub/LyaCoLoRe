{
 "cells": [
  {
   "cell_type": "markdown",
   "metadata": {},
   "source": [
    "# QA for batch mock analysis: picca outputs (multi-mock)"
   ]
  },
  {
   "cell_type": "markdown",
   "metadata": {},
   "source": [
    "This is a quality assessment notebook to make simple plots when analysing a batch of mocks. This notebook focuses on assessing the outputs from picca when analysing several mocks. Comparisons fall into several key flavours:\n",
    " - Different mocks from one initial \"cosmic realisation\". I.e. looking at the differences between the different measurements made when including different systematic effects\n",
    " - Mocks of the same type from many \"cosmic realisations\". I.e. looking at the scatter between results due to cosmic variance for a given set of systematic effects."
   ]
  },
  {
   "cell_type": "code",
   "execution_count": 46,
   "metadata": {},
   "outputs": [
    {
     "name": "stdout",
     "output_type": "stream",
     "text": [
      "The autoreload extension is already loaded. To reload it, use:\n",
      "  %reload_ext autoreload\n"
     ]
    }
   ],
   "source": [
    "%load_ext autoreload\n",
    "%autoreload 2\n",
    "%matplotlib inline"
   ]
  },
  {
   "cell_type": "code",
   "execution_count": 47,
   "metadata": {},
   "outputs": [],
   "source": [
    "# Imports\n",
    "import numpy as np\n",
    "import matplotlib.pyplot as plt\n",
    "import matplotlib\n",
    "import fitsio\n",
    "import healpy as hp\n",
    "import os\n",
    "import glob\n",
    "\n",
    "from lyacolore import utils\n",
    "from lyacolore.plot_functions import get_fit_from_result"
   ]
  },
  {
   "cell_type": "code",
   "execution_count": 48,
   "metadata": {},
   "outputs": [],
   "source": [
    "# Set up colours\n",
    "mycolours = {'C0': '#F5793A', 'C1': '#A95AA1', 'C2': '#85C0F9', 'C3': '#0F2080'}\n",
    "\n",
    "# Plot settings\n",
    "fontsize = 18\n",
    "plt.rc('font', size=fontsize)"
   ]
  },
  {
   "cell_type": "code",
   "execution_count": 49,
   "metadata": {},
   "outputs": [],
   "source": [
    "picca_dir = '/global/cfs/projectdirs/desi/mocks/lya_forest/picca/london/v9.0/'"
   ]
  },
  {
   "cell_type": "markdown",
   "metadata": {},
   "source": [
    "## Many mocks, single realisation"
   ]
  },
  {
   "cell_type": "markdown",
   "metadata": {},
   "source": []
  },
  {
   "cell_type": "code",
   "execution_count": 50,
   "metadata": {},
   "outputs": [],
   "source": [
    "lyalya_lyalya_res = picca_dir + 'v9.0.0/desi-raw/fits/lyalya_lyalya/result_lyalya_lyalya_rmin40.0_rmax160.0_afree.h5'\n",
    "lyalya_lyalyb_res = picca_dir + 'v9.0.0/desi-raw/fits/lyalya_lyalyb/result_lyalya_lyalyb_rmin40.0_rmax160.0_afree.h5'\n",
    "lyalya_lyalya__lyalya_lyalyb_res = picca_dir + 'v9.0.0/desi-raw/fits/lyalya_lyalya__lyalya_lyalyb/result_lyalya_lyalya__lyalya_lyalyb_rmin40.0_rmax160.0_afree.h5'\n",
    "\n",
    "lyalya_qso_res = picca_dir + 'v9.0.0/desi-raw/fits/lyalya_qso/result_lyalya_qso_rmin40.0_rmax160.0_afree.h5'\n",
    "lyalyb_qso_res = picca_dir + 'v9.0.0/desi-raw/fits/lyalyb_qso/result_lyalyb_qso_rmin40.0_rmax160.0_afree.h5'\n",
    "lyalya_qso__lyalyb_qso_res = picca_dir + 'v9.0.0/desi-raw/fits/lyalya_qso__lyalyb_qso/result_lyalya_qso__lyalyb_qso_rmin40.0_rmax160.0_afree.h5'"
   ]
  },
  {
   "cell_type": "code",
   "execution_count": 51,
   "metadata": {},
   "outputs": [
    {
     "name": "stdout",
     "output_type": "stream",
     "text": [
      "chi2: 1129.5/(1177-6)\n",
      "chi2: 1147.2/(1177-6)\n",
      "chi2: 2278.8/(2354-6)\n",
      "chi2: 2480.1/(2354-6)\n",
      "chi2: 2594.8/(2354-6)\n",
      "chi2: 5089.7/(4708-6)\n"
     ]
    }
   ],
   "source": [
    "results = {}\n",
    "\n",
    "results['lyalya_lyalya']  = get_fit_from_result(os.path.dirname(lyalya_lyalya_res)+'/',os.path.basename(lyalya_lyalya_res),'lyalya_lyalya','cf')\n",
    "results['lyalya_lyalyb']  = get_fit_from_result(os.path.dirname(lyalya_lyalyb_res)+'/',os.path.basename(lyalya_lyalyb_res),'lyalya_lyalyb','cf')\n",
    "results['full_auto']  = get_fit_from_result(os.path.dirname(lyalya_lyalya__lyalya_lyalyb_res)+'/',os.path.basename(lyalya_lyalya__lyalya_lyalyb_res),'lyalya_lyalya','cf')\n",
    "\n",
    "results['lyalya_qso']  = get_fit_from_result(os.path.dirname(lyalya_qso_res)+'/',os.path.basename(lyalya_qso_res),'lyalya_qso','xcf')\n",
    "results['lyalyb_qso']  = get_fit_from_result(os.path.dirname(lyalyb_qso_res)+'/',os.path.basename(lyalyb_qso_res),'lyalyb_qso','xcf')\n",
    "results['full_cross']  = get_fit_from_result(os.path.dirname(lyalya_qso__lyalyb_qso_res)+'/',os.path.basename(lyalya_qso__lyalyb_qso_res),'lyalya_qso','xcf')"
   ]
  },
  {
   "cell_type": "code",
   "execution_count": 52,
   "metadata": {},
   "outputs": [
    {
     "name": "stdout",
     "output_type": "stream",
     "text": [
      "alpha_lya\n",
      " -> lyalya_lyalya: 2.90000 +/- 0.00000\n",
      " -> lyalya_lyalyb: 2.90000 +/- 0.00000\n",
      " -> full_auto:     2.90000 +/- 0.00000\n",
      "ap\n",
      " -> lyalya_lyalya: 1.00845 +/- 0.00924\n",
      " -> lyalya_lyalyb: 1.01225 +/- 0.01139\n",
      " -> full_auto:     1.00981 +/- 0.00717\n",
      "at\n",
      " -> lyalya_lyalya: 1.00325 +/- 0.01347\n",
      " -> lyalya_lyalyb: 1.00463 +/- 0.01246\n",
      " -> full_auto:     1.00426 +/- 0.00936\n",
      "bao_amp\n",
      " -> lyalya_lyalya: 1.00000 +/- 0.00000\n",
      " -> lyalya_lyalyb: 1.00000 +/- 0.00000\n",
      " -> full_auto:     1.00000 +/- 0.00000\n",
      "beta_lya\n",
      " -> lyalya_lyalya: 1.64883 +/- 0.05377\n",
      " -> lyalya_lyalyb: 1.61900 +/- 0.06206\n",
      " -> full_auto:     1.63732 +/- 0.04084\n",
      "bias_eta_lya\n",
      " -> lyalya_lyalya: -0.20455 +/- 0.00272\n",
      " -> lyalya_lyalyb: -0.19091 +/- 0.00301\n",
      " -> full_auto:     -0.19953 +/- 0.00204\n",
      "cov[ap, ap]\n"
     ]
    },
    {
     "ename": "IndexError",
     "evalue": "invalid index to scalar variable.",
     "output_type": "error",
     "traceback": [
      "\u001b[0;31m---------------------------------------------------------------------------\u001b[0m",
      "\u001b[0;31mIndexError\u001b[0m                                Traceback (most recent call last)",
      "\u001b[0;32m<ipython-input-52-896fc8ea2b46>\u001b[0m in \u001b[0;36m<module>\u001b[0;34m()\u001b[0m\n\u001b[1;32m      3\u001b[0m         \u001b[0mprint\u001b[0m\u001b[0;34m(\u001b[0m\u001b[0mk\u001b[0m\u001b[0;34m)\u001b[0m\u001b[0;34m\u001b[0m\u001b[0;34m\u001b[0m\u001b[0m\n\u001b[0;32m----> 4\u001b[0;31m         \u001b[0mprint\u001b[0m\u001b[0;34m(\u001b[0m\u001b[0;34m' -> lyalya_lyalya: {:1.5f} +/- {:1.5f}'\u001b[0m\u001b[0;34m.\u001b[0m\u001b[0mformat\u001b[0m\u001b[0;34m(\u001b[0m\u001b[0mresults\u001b[0m\u001b[0;34m[\u001b[0m\u001b[0;34m'lyalya_lyalya'\u001b[0m\u001b[0;34m]\u001b[0m\u001b[0;34m[\u001b[0m\u001b[0mk\u001b[0m\u001b[0;34m]\u001b[0m\u001b[0;34m[\u001b[0m\u001b[0;34m'value'\u001b[0m\u001b[0;34m]\u001b[0m\u001b[0;34m,\u001b[0m\u001b[0mresults\u001b[0m\u001b[0;34m[\u001b[0m\u001b[0;34m'lyalya_lyalya'\u001b[0m\u001b[0;34m]\u001b[0m\u001b[0;34m[\u001b[0m\u001b[0mk\u001b[0m\u001b[0;34m]\u001b[0m\u001b[0;34m[\u001b[0m\u001b[0;34m'error'\u001b[0m\u001b[0;34m]\u001b[0m\u001b[0;34m)\u001b[0m\u001b[0;34m)\u001b[0m\u001b[0;34m\u001b[0m\u001b[0;34m\u001b[0m\u001b[0m\n\u001b[0m\u001b[1;32m      5\u001b[0m         \u001b[0mprint\u001b[0m\u001b[0;34m(\u001b[0m\u001b[0;34m' -> lyalya_lyalyb: {:1.5f} +/- {:1.5f}'\u001b[0m\u001b[0;34m.\u001b[0m\u001b[0mformat\u001b[0m\u001b[0;34m(\u001b[0m\u001b[0mresults\u001b[0m\u001b[0;34m[\u001b[0m\u001b[0;34m'lyalya_lyalyb'\u001b[0m\u001b[0;34m]\u001b[0m\u001b[0;34m[\u001b[0m\u001b[0mk\u001b[0m\u001b[0;34m]\u001b[0m\u001b[0;34m[\u001b[0m\u001b[0;34m'value'\u001b[0m\u001b[0;34m]\u001b[0m\u001b[0;34m,\u001b[0m\u001b[0mresults\u001b[0m\u001b[0;34m[\u001b[0m\u001b[0;34m'lyalya_lyalyb'\u001b[0m\u001b[0;34m]\u001b[0m\u001b[0;34m[\u001b[0m\u001b[0mk\u001b[0m\u001b[0;34m]\u001b[0m\u001b[0;34m[\u001b[0m\u001b[0;34m'error'\u001b[0m\u001b[0;34m]\u001b[0m\u001b[0;34m)\u001b[0m\u001b[0;34m)\u001b[0m\u001b[0;34m\u001b[0m\u001b[0;34m\u001b[0m\u001b[0m\n",
      "\u001b[0;31mIndexError\u001b[0m: invalid index to scalar variable.",
      "\nDuring handling of the above exception, another exception occurred:\n",
      "\u001b[0;31mIndexError\u001b[0m                                Traceback (most recent call last)",
      "\u001b[0;32m<ipython-input-52-896fc8ea2b46>\u001b[0m in \u001b[0;36m<module>\u001b[0;34m()\u001b[0m\n\u001b[1;32m      6\u001b[0m         \u001b[0mprint\u001b[0m\u001b[0;34m(\u001b[0m\u001b[0;34m' -> full_auto:     {:1.5f} +/- {:1.5f}'\u001b[0m\u001b[0;34m.\u001b[0m\u001b[0mformat\u001b[0m\u001b[0;34m(\u001b[0m\u001b[0mresults\u001b[0m\u001b[0;34m[\u001b[0m\u001b[0;34m'full_auto'\u001b[0m\u001b[0;34m]\u001b[0m\u001b[0;34m[\u001b[0m\u001b[0mk\u001b[0m\u001b[0;34m]\u001b[0m\u001b[0;34m[\u001b[0m\u001b[0;34m'value'\u001b[0m\u001b[0;34m]\u001b[0m\u001b[0;34m,\u001b[0m\u001b[0mresults\u001b[0m\u001b[0;34m[\u001b[0m\u001b[0;34m'full_auto'\u001b[0m\u001b[0;34m]\u001b[0m\u001b[0;34m[\u001b[0m\u001b[0mk\u001b[0m\u001b[0;34m]\u001b[0m\u001b[0;34m[\u001b[0m\u001b[0;34m'error'\u001b[0m\u001b[0;34m]\u001b[0m\u001b[0;34m)\u001b[0m\u001b[0;34m)\u001b[0m\u001b[0;34m\u001b[0m\u001b[0;34m\u001b[0m\u001b[0m\n\u001b[1;32m      7\u001b[0m     \u001b[0;32mexcept\u001b[0m\u001b[0;34m:\u001b[0m\u001b[0;34m\u001b[0m\u001b[0;34m\u001b[0m\u001b[0m\n\u001b[0;32m----> 8\u001b[0;31m         \u001b[0mprint\u001b[0m\u001b[0;34m(\u001b[0m\u001b[0;34m' -> lyalya_lyalya:'\u001b[0m\u001b[0;34m,\u001b[0m\u001b[0mresults\u001b[0m\u001b[0;34m[\u001b[0m\u001b[0;34m'lyalya_lyalya'\u001b[0m\u001b[0;34m]\u001b[0m\u001b[0;34m[\u001b[0m\u001b[0mk\u001b[0m\u001b[0;34m]\u001b[0m\u001b[0;34m[\u001b[0m\u001b[0;34m'value'\u001b[0m\u001b[0;34m]\u001b[0m\u001b[0;34m)\u001b[0m\u001b[0;34m\u001b[0m\u001b[0;34m\u001b[0m\u001b[0m\n\u001b[0m\u001b[1;32m      9\u001b[0m         \u001b[0mprint\u001b[0m\u001b[0;34m(\u001b[0m\u001b[0;34m' -> lyalya_lyalyb: {:1.5f}'\u001b[0m\u001b[0;34m.\u001b[0m\u001b[0mformat\u001b[0m\u001b[0;34m(\u001b[0m\u001b[0mresults\u001b[0m\u001b[0;34m[\u001b[0m\u001b[0;34m'lyalya_lyalyb'\u001b[0m\u001b[0;34m]\u001b[0m\u001b[0;34m[\u001b[0m\u001b[0mk\u001b[0m\u001b[0;34m]\u001b[0m\u001b[0;34m[\u001b[0m\u001b[0;34m'value'\u001b[0m\u001b[0;34m]\u001b[0m\u001b[0;34m)\u001b[0m\u001b[0;34m)\u001b[0m\u001b[0;34m\u001b[0m\u001b[0;34m\u001b[0m\u001b[0m\n\u001b[1;32m     10\u001b[0m         \u001b[0mprint\u001b[0m\u001b[0;34m(\u001b[0m\u001b[0;34m' -> full_auto:    '\u001b[0m\u001b[0;34m,\u001b[0m\u001b[0mresults\u001b[0m\u001b[0;34m[\u001b[0m\u001b[0;34m'full_auto'\u001b[0m\u001b[0;34m]\u001b[0m\u001b[0;34m[\u001b[0m\u001b[0mk\u001b[0m\u001b[0;34m]\u001b[0m\u001b[0;34m[\u001b[0m\u001b[0;34m'value'\u001b[0m\u001b[0;34m]\u001b[0m\u001b[0;34m)\u001b[0m\u001b[0;34m\u001b[0m\u001b[0;34m\u001b[0m\u001b[0m\n",
      "\u001b[0;31mIndexError\u001b[0m: invalid index to scalar variable."
     ]
    }
   ],
   "source": [
    "for i,k in enumerate(results['lyalya_lyalya'].keys()):\n",
    "    try:\n",
    "        print(k)\n",
    "        print(' -> lyalya_lyalya: {:1.5f} +/- {:1.5f}'.format(results['lyalya_lyalya'][k]['value'],results['lyalya_lyalya'][k]['error']))\n",
    "        print(' -> lyalya_lyalyb: {:1.5f} +/- {:1.5f}'.format(results['lyalya_lyalyb'][k]['value'],results['lyalya_lyalyb'][k]['error']))\n",
    "        print(' -> full_auto:     {:1.5f} +/- {:1.5f}'.format(results['full_auto'][k]['value'],results['full_auto'][k]['error']))\n",
    "    except:\n",
    "        print(' -> lyalya_lyalya:',results['lyalya_lyalya'][k]['value'])\n",
    "        print(' -> lyalya_lyalyb: {:1.5f}'.format(results['lyalya_lyalyb'][k]['value']))\n",
    "        print(' -> full_auto:    ',results['full_auto'][k]['value'])\n",
    "        pass"
   ]
  },
  {
   "cell_type": "code",
   "execution_count": 53,
   "metadata": {},
   "outputs": [
    {
     "name": "stdout",
     "output_type": "stream",
     "text": [
      "alpha_lya\n",
      " -> lyalya_qso: 2.90000 +/- 0.00000\n",
      " -> lyalyb_qso: 2.90000 +/- 0.00000\n",
      " -> full_cross: 2.90000 +/- 0.00000\n",
      "ap\n",
      " -> lyalya_qso: 0.99074 +/- 0.00936\n",
      " -> lyalyb_qso: 0.97064 +/- 0.01902\n",
      " -> full_cross: 0.98790 +/- 0.00837\n",
      "at\n",
      " -> lyalya_qso: 1.00561 +/- 0.00934\n",
      " -> lyalyb_qso: 1.02946 +/- 0.01657\n",
      " -> full_cross: 1.01149 +/- 0.00797\n",
      "bao_amp\n",
      " -> lyalya_qso: 1.00000 +/- 0.00000\n",
      " -> lyalyb_qso: 1.00000 +/- 0.00000\n",
      " -> full_cross: 1.00000 +/- 0.00000\n",
      "beta_lya\n",
      " -> lyalya_qso: 1.66469 +/- 0.07576\n",
      " -> lyalyb_qso: 1.97085 +/- 0.16825\n",
      " -> full_cross: 1.72091 +/- 0.06760\n",
      "bias_eta_lya\n",
      " -> lyalya_qso: -0.20211 +/- 0.00406\n",
      " -> lyalyb_qso: -0.21005 +/- 0.00771\n",
      " -> full_cross: -0.20398 +/- 0.00352\n",
      "cov[ap, ap]\n"
     ]
    },
    {
     "ename": "IndexError",
     "evalue": "invalid index to scalar variable.",
     "output_type": "error",
     "traceback": [
      "\u001b[0;31m---------------------------------------------------------------------------\u001b[0m",
      "\u001b[0;31mIndexError\u001b[0m                                Traceback (most recent call last)",
      "\u001b[0;32m<ipython-input-53-0da0eff3c032>\u001b[0m in \u001b[0;36m<module>\u001b[0;34m()\u001b[0m\n\u001b[1;32m      3\u001b[0m         \u001b[0mprint\u001b[0m\u001b[0;34m(\u001b[0m\u001b[0mk\u001b[0m\u001b[0;34m)\u001b[0m\u001b[0;34m\u001b[0m\u001b[0;34m\u001b[0m\u001b[0m\n\u001b[0;32m----> 4\u001b[0;31m         \u001b[0mprint\u001b[0m\u001b[0;34m(\u001b[0m\u001b[0;34m' -> lyalya_qso: {:1.5f} +/- {:1.5f}'\u001b[0m\u001b[0;34m.\u001b[0m\u001b[0mformat\u001b[0m\u001b[0;34m(\u001b[0m\u001b[0mresults\u001b[0m\u001b[0;34m[\u001b[0m\u001b[0;34m'lyalya_qso'\u001b[0m\u001b[0;34m]\u001b[0m\u001b[0;34m[\u001b[0m\u001b[0mk\u001b[0m\u001b[0;34m]\u001b[0m\u001b[0;34m[\u001b[0m\u001b[0;34m'value'\u001b[0m\u001b[0;34m]\u001b[0m\u001b[0;34m,\u001b[0m\u001b[0mresults\u001b[0m\u001b[0;34m[\u001b[0m\u001b[0;34m'lyalya_qso'\u001b[0m\u001b[0;34m]\u001b[0m\u001b[0;34m[\u001b[0m\u001b[0mk\u001b[0m\u001b[0;34m]\u001b[0m\u001b[0;34m[\u001b[0m\u001b[0;34m'error'\u001b[0m\u001b[0;34m]\u001b[0m\u001b[0;34m)\u001b[0m\u001b[0;34m)\u001b[0m\u001b[0;34m\u001b[0m\u001b[0;34m\u001b[0m\u001b[0m\n\u001b[0m\u001b[1;32m      5\u001b[0m         \u001b[0mprint\u001b[0m\u001b[0;34m(\u001b[0m\u001b[0;34m' -> lyalyb_qso: {:1.5f} +/- {:1.5f}'\u001b[0m\u001b[0;34m.\u001b[0m\u001b[0mformat\u001b[0m\u001b[0;34m(\u001b[0m\u001b[0mresults\u001b[0m\u001b[0;34m[\u001b[0m\u001b[0;34m'lyalyb_qso'\u001b[0m\u001b[0;34m]\u001b[0m\u001b[0;34m[\u001b[0m\u001b[0mk\u001b[0m\u001b[0;34m]\u001b[0m\u001b[0;34m[\u001b[0m\u001b[0;34m'value'\u001b[0m\u001b[0;34m]\u001b[0m\u001b[0;34m,\u001b[0m\u001b[0mresults\u001b[0m\u001b[0;34m[\u001b[0m\u001b[0;34m'lyalyb_qso'\u001b[0m\u001b[0;34m]\u001b[0m\u001b[0;34m[\u001b[0m\u001b[0mk\u001b[0m\u001b[0;34m]\u001b[0m\u001b[0;34m[\u001b[0m\u001b[0;34m'error'\u001b[0m\u001b[0;34m]\u001b[0m\u001b[0;34m)\u001b[0m\u001b[0;34m)\u001b[0m\u001b[0;34m\u001b[0m\u001b[0;34m\u001b[0m\u001b[0m\n",
      "\u001b[0;31mIndexError\u001b[0m: invalid index to scalar variable.",
      "\nDuring handling of the above exception, another exception occurred:\n",
      "\u001b[0;31mIndexError\u001b[0m                                Traceback (most recent call last)",
      "\u001b[0;32m<ipython-input-53-0da0eff3c032>\u001b[0m in \u001b[0;36m<module>\u001b[0;34m()\u001b[0m\n\u001b[1;32m      6\u001b[0m         \u001b[0mprint\u001b[0m\u001b[0;34m(\u001b[0m\u001b[0;34m' -> full_cross: {:1.5f} +/- {:1.5f}'\u001b[0m\u001b[0;34m.\u001b[0m\u001b[0mformat\u001b[0m\u001b[0;34m(\u001b[0m\u001b[0mresults\u001b[0m\u001b[0;34m[\u001b[0m\u001b[0;34m'full_cross'\u001b[0m\u001b[0;34m]\u001b[0m\u001b[0;34m[\u001b[0m\u001b[0mk\u001b[0m\u001b[0;34m]\u001b[0m\u001b[0;34m[\u001b[0m\u001b[0;34m'value'\u001b[0m\u001b[0;34m]\u001b[0m\u001b[0;34m,\u001b[0m\u001b[0mresults\u001b[0m\u001b[0;34m[\u001b[0m\u001b[0;34m'full_cross'\u001b[0m\u001b[0;34m]\u001b[0m\u001b[0;34m[\u001b[0m\u001b[0mk\u001b[0m\u001b[0;34m]\u001b[0m\u001b[0;34m[\u001b[0m\u001b[0;34m'error'\u001b[0m\u001b[0;34m]\u001b[0m\u001b[0;34m)\u001b[0m\u001b[0;34m)\u001b[0m\u001b[0;34m\u001b[0m\u001b[0;34m\u001b[0m\u001b[0m\n\u001b[1;32m      7\u001b[0m     \u001b[0;32mexcept\u001b[0m\u001b[0;34m:\u001b[0m\u001b[0;34m\u001b[0m\u001b[0;34m\u001b[0m\u001b[0m\n\u001b[0;32m----> 8\u001b[0;31m         \u001b[0mprint\u001b[0m\u001b[0;34m(\u001b[0m\u001b[0;34m' -> lyalya_qso:'\u001b[0m\u001b[0;34m,\u001b[0m\u001b[0mresults\u001b[0m\u001b[0;34m[\u001b[0m\u001b[0;34m'lyalya_lyalya'\u001b[0m\u001b[0;34m]\u001b[0m\u001b[0;34m[\u001b[0m\u001b[0mk\u001b[0m\u001b[0;34m]\u001b[0m\u001b[0;34m[\u001b[0m\u001b[0;34m'value'\u001b[0m\u001b[0;34m]\u001b[0m\u001b[0;34m)\u001b[0m\u001b[0;34m\u001b[0m\u001b[0;34m\u001b[0m\u001b[0m\n\u001b[0m\u001b[1;32m      9\u001b[0m         \u001b[0mprint\u001b[0m\u001b[0;34m(\u001b[0m\u001b[0;34m' -> lyalyb_qso: {:1.5f}'\u001b[0m\u001b[0;34m.\u001b[0m\u001b[0mformat\u001b[0m\u001b[0;34m(\u001b[0m\u001b[0mresults\u001b[0m\u001b[0;34m[\u001b[0m\u001b[0;34m'lyalya_lyalyb'\u001b[0m\u001b[0;34m]\u001b[0m\u001b[0;34m[\u001b[0m\u001b[0mk\u001b[0m\u001b[0;34m]\u001b[0m\u001b[0;34m[\u001b[0m\u001b[0;34m'value'\u001b[0m\u001b[0;34m]\u001b[0m\u001b[0;34m)\u001b[0m\u001b[0;34m)\u001b[0m\u001b[0;34m\u001b[0m\u001b[0;34m\u001b[0m\u001b[0m\n\u001b[1;32m     10\u001b[0m         \u001b[0mprint\u001b[0m\u001b[0;34m(\u001b[0m\u001b[0;34m' -> full_cross: '\u001b[0m\u001b[0;34m,\u001b[0m\u001b[0mresults\u001b[0m\u001b[0;34m[\u001b[0m\u001b[0;34m'full_auto'\u001b[0m\u001b[0;34m]\u001b[0m\u001b[0;34m[\u001b[0m\u001b[0mk\u001b[0m\u001b[0;34m]\u001b[0m\u001b[0;34m[\u001b[0m\u001b[0;34m'value'\u001b[0m\u001b[0;34m]\u001b[0m\u001b[0;34m)\u001b[0m\u001b[0;34m\u001b[0m\u001b[0;34m\u001b[0m\u001b[0m\n",
      "\u001b[0;31mIndexError\u001b[0m: invalid index to scalar variable."
     ]
    }
   ],
   "source": [
    "for i,k in enumerate(results['lyalya_lyalya'].keys()):\n",
    "    try:\n",
    "        print(k)\n",
    "        print(' -> lyalya_qso: {:1.5f} +/- {:1.5f}'.format(results['lyalya_qso'][k]['value'],results['lyalya_qso'][k]['error']))\n",
    "        print(' -> lyalyb_qso: {:1.5f} +/- {:1.5f}'.format(results['lyalyb_qso'][k]['value'],results['lyalyb_qso'][k]['error']))\n",
    "        print(' -> full_cross: {:1.5f} +/- {:1.5f}'.format(results['full_cross'][k]['value'],results['full_cross'][k]['error']))\n",
    "    except:\n",
    "        print(' -> lyalya_qso:',results['lyalya_lyalya'][k]['value'])\n",
    "        print(' -> lyalyb_qso: {:1.5f}'.format(results['lyalya_lyalyb'][k]['value']))\n",
    "        print(' -> full_cross: ',results['full_auto'][k]['value'])\n",
    "        pass"
   ]
  },
  {
   "cell_type": "code",
   "execution_count": null,
   "metadata": {},
   "outputs": [],
   "source": []
  },
  {
   "cell_type": "code",
   "execution_count": 107,
   "metadata": {},
   "outputs": [],
   "source": [
    "mocktypes = ['desi-raw', 'desi-1.0-1000', 'desi-1.0-4']\n",
    "fitname = 'lyalya_lyalya__lyalya_lyalyb__lyalya_qso__lyalyb_qso'\n",
    "corrtype = 'cf'\n",
    "alphas_fix = 'free'"
   ]
  },
  {
   "cell_type": "code",
   "execution_count": 108,
   "metadata": {},
   "outputs": [],
   "source": [
    "fitloc = '{}/fits/{}/result_*_a{}.h5'\n",
    "realisation_dir = 'v9.0.0'"
   ]
  },
  {
   "cell_type": "code",
   "execution_count": 109,
   "metadata": {},
   "outputs": [],
   "source": [
    "mock_results = [os.path.join(picca_dir,realisation_dir,fitloc.format(m,fitname,alphas_fix)) for m in mocktypes]"
   ]
  },
  {
   "cell_type": "code",
   "execution_count": 110,
   "metadata": {},
   "outputs": [],
   "source": [
    "results = {}"
   ]
  },
  {
   "cell_type": "code",
   "execution_count": 111,
   "metadata": {},
   "outputs": [
    {
     "name": "stdout",
     "output_type": "stream",
     "text": [
      "/global/cfs/projectdirs/desi/mocks/lya_forest/picca/london/v9.0/v9.0.0/desi-raw/fits/lyalya_lyalya__lyalya_lyalyb__lyalya_qso__lyalyb_qso/result_*_afree.h5\n",
      "['v9.0.0', 'desi-raw', 'fits', 'lyalya_lyalya__lyalya_lyalyb__lyalya_qso__lyalyb_qso']\n",
      "chi2: 7383.0/(7062-7)\n",
      "/global/cfs/projectdirs/desi/mocks/lya_forest/picca/london/v9.0/v9.0.0/desi-1.0-1000/fits/lyalya_lyalya__lyalya_lyalyb__lyalya_qso__lyalyb_qso/result_*_afree.h5\n",
      "['v9.0.0', 'desi-1.0-1000', 'fits', 'lyalya_lyalya__lyalya_lyalyb__lyalya_qso__lyalyb_qso']\n",
      "chi2: 7176.0/(7062-7)\n",
      "/global/cfs/projectdirs/desi/mocks/lya_forest/picca/london/v9.0/v9.0.0/desi-1.0-4/fits/lyalya_lyalya__lyalya_lyalyb__lyalya_qso__lyalyb_qso/result_*_afree.h5\n",
      "['v9.0.0', 'desi-1.0-4', 'fits', 'lyalya_lyalya__lyalya_lyalyb__lyalya_qso__lyalyb_qso']\n",
      "chi2: 7137.6/(7062-7)\n"
     ]
    }
   ],
   "source": [
    "for i,m in enumerate(mocktypes):\n",
    "    f = glob.glob(mock_results[i])\n",
    "    print(mock_results[i])\n",
    "    assert len(f)==1\n",
    "    f = f[0]\n",
    "    loc = os.path.dirname(f)\n",
    "    filename = os.path.basename(f)\n",
    "    print(loc.split('/')[-4:])\n",
    "    results[m] = get_fit_from_result(loc+'/',filename,'lyalya_lyalya',corrtype)"
   ]
  },
  {
   "cell_type": "code",
   "execution_count": 112,
   "metadata": {},
   "outputs": [],
   "source": [
    "keys = mocktypes\n",
    "xvals = np.arange(0,len(mocktypes))"
   ]
  },
  {
   "cell_type": "code",
   "execution_count": 113,
   "metadata": {},
   "outputs": [],
   "source": [
    "ap = np.array([results[k]['ap']['value'] for k in keys])\n",
    "ap_err = np.array([results[k]['ap']['error'] for k in keys])\n",
    "\n",
    "at = np.array([results[k]['at']['value'] for k in keys])\n",
    "at_err = np.array([results[k]['at']['error'] for k in keys])\n",
    "\n",
    "bias_eta_lya = np.array([results[k]['bias_eta_lya']['value'] for k in keys])\n",
    "bias_eta_lya_err = np.array([results[k]['bias_eta_lya']['error'] for k in keys])\n",
    "\n",
    "beta_lya = np.array([results[k]['beta_lya']['value'] for k in keys])\n",
    "beta_lya_err = np.array([results[k]['beta_lya']['error'] for k in keys])\n",
    "\n",
    "growth_rate = np.array([results[k]['growth_rate']['value'] for k in keys])\n",
    "\n",
    "bias_delta_lya = np.array([growth_rate[i]*bias_eta_lya[i]/beta_lya[i] for i,k in enumerate(keys)])\n",
    "bias_delta_lya_err = bias_delta_lya * np.sqrt((bias_eta_lya_err/bias_eta_lya)**2 + (beta_lya_err/beta_lya)**2)\n",
    "\n",
    "chi2 = [results[k]['fval'] for k in keys]\n",
    "ndof = [(results[k]['ndata'] - results[k]['npar']) for k in keys]\n",
    "assert (np.array(ndof)==ndof[0]).all()"
   ]
  },
  {
   "cell_type": "code",
   "execution_count": 114,
   "metadata": {},
   "outputs": [
    {
     "name": "stdout",
     "output_type": "stream",
     "text": [
      "['desi-raw', 'desi-1.0-1000', 'desi-1.0-4']\n",
      "[0.00533785 0.00592111 0.00758934]\n",
      "[0.00617644 0.00706051 0.00908922]\n"
     ]
    },
    {
     "data": {
      "image/png": "[encoded data removed]",
      "text/plain": [
       "<Figure size 720x432 with 2 Axes>"
      ]
     },
     "metadata": {
      "needs_background": "light"
     },
     "output_type": "display_data"
    }
   ],
   "source": [
    "fig, axs = plt.subplots(2,1,figsize=(10,6),squeeze=False,sharex=True,sharey=True)\n",
    "\n",
    "axs[0,0].errorbar(xvals[:],ap[:],ls='',yerr=ap_err[:],marker='o',color=mycolours['C0'])\n",
    "axs[0,0].axhline(y=1.0,color='grey',ls='--',zorder=-10)\n",
    "axs[0,0].set_ylabel(r'$\\alpha_\\parallel$')\n",
    "\n",
    "axs[1,0].errorbar(xvals[:],at[:],ls='',yerr=at_err[:],marker='o',color=mycolours['C1'])\n",
    "axs[1,0].axhline(y=1.0,color='grey',ls='--',zorder=-10)\n",
    "axs[1,0].set_ylabel(r'$\\alpha_\\perp$')\n",
    "\n",
    "dev = np.max((1-np.min((abs(ap-ap_err),abs(at-at_err))), np.max((abs(ap+ap_err),abs(at+at_err)))-1))\n",
    "axs[0,0].set_ylim(1.-1.1*dev,1.+1.1*dev)\n",
    "axs[-1,0].set_xlabel('realisation')\n",
    "\n",
    "axs[0,0].set_xlim(-5,7)\n",
    "plt.tight_layout()\n",
    "\n",
    "print(keys)\n",
    "print(ap_err)\n",
    "print(at_err)"
   ]
  },
  {
   "cell_type": "markdown",
   "metadata": {},
   "source": [
    "## One mock type, many realisations"
   ]
  },
  {
   "cell_type": "markdown",
   "metadata": {},
   "source": [
    "Stack and scatter between realisations"
   ]
  },
  {
   "cell_type": "code",
   "execution_count": 18,
   "metadata": {},
   "outputs": [],
   "source": [
    "mocktype = 'desi-1.0-1000'\n",
    "fitname = 'lyalya_qso__lyalyb_qso'\n",
    "corrtype = 'xcf'\n",
    "fix_alphas = 'free'"
   ]
  },
  {
   "cell_type": "code",
   "execution_count": 19,
   "metadata": {},
   "outputs": [],
   "source": [
    "realisations = np.arange(0,10)\n",
    "fitloc = '{}/fits/{}/result_*_a{}.h5'\n",
    "realisation_dir = 'v9.0.{}'\n",
    "stack_dir = 'stack_0_to_9'"
   ]
  },
  {
   "cell_type": "markdown",
   "metadata": {},
   "source": [
    "Plot stack over all realisations"
   ]
  },
  {
   "cell_type": "code",
   "execution_count": null,
   "metadata": {},
   "outputs": [],
   "source": []
  },
  {
   "cell_type": "markdown",
   "metadata": {},
   "source": [
    "Plot scatter in BAO parameter results"
   ]
  },
  {
   "cell_type": "code",
   "execution_count": 20,
   "metadata": {},
   "outputs": [],
   "source": [
    "stack_results = [os.path.join(picca_dir,stack_dir,fitloc.format(mocktype,fitname,fix_alphas))]\n",
    "realisation_results = [os.path.join(picca_dir,realisation_dir.format(r),fitloc.format(mocktype,fitname,fix_alphas)) for r in realisations]"
   ]
  },
  {
   "cell_type": "code",
   "execution_count": 21,
   "metadata": {},
   "outputs": [],
   "source": [
    "results = {}"
   ]
  },
  {
   "cell_type": "code",
   "execution_count": 24,
   "metadata": {},
   "outputs": [
    {
     "name": "stdout",
     "output_type": "stream",
     "text": [
      "chi2: 5235.4/(4708-6)\n"
     ]
    }
   ],
   "source": [
    "stack = os.path.join(stack_results[0])\n",
    "f = glob.glob(stack)\n",
    "assert len(f)==1\n",
    "f = f[0]\n",
    "loc = os.path.dirname(f)\n",
    "filename = os.path.basename(f)\n",
    "results['stack'] = get_fit_from_result(loc+'/',filename,fitname.split('__')[0],corrtype)"
   ]
  },
  {
   "cell_type": "code",
   "execution_count": 25,
   "metadata": {},
   "outputs": [
    {
     "name": "stdout",
     "output_type": "stream",
     "text": [
      "chi2: 4959.3/(4708-6)\n",
      "chi2: 4883.7/(4708-6)\n",
      "chi2: 4842.3/(4708-6)\n",
      "chi2: 4756.7/(4708-6)\n",
      "chi2: 4751.5/(4708-6)\n",
      "chi2: 4685.5/(4708-6)\n",
      "chi2: 4847.8/(4708-6)\n",
      "chi2: 4727.0/(4708-6)\n",
      "chi2: 4871.0/(4708-6)\n",
      "chi2: 4746.0/(4708-6)\n"
     ]
    }
   ],
   "source": [
    "for i,r in enumerate(realisations):\n",
    "    f = glob.glob(realisation_results[i])\n",
    "    assert len(f)==1\n",
    "    f = f[0]\n",
    "    loc = os.path.dirname(f)\n",
    "    filename = os.path.basename(f)\n",
    "    results[r] = get_fit_from_result(loc+'/',filename,fitname.split('__')[0],corrtype)"
   ]
  },
  {
   "cell_type": "code",
   "execution_count": 26,
   "metadata": {},
   "outputs": [],
   "source": [
    "keys = ['stack'] + list(realisations)\n",
    "xvals = [-1] + list(realisations)"
   ]
  },
  {
   "cell_type": "code",
   "execution_count": 27,
   "metadata": {},
   "outputs": [
    {
     "data": {
      "text/plain": [
       "['stack', 0, 1, 2, 3, 4, 5, 6, 7, 8, 9]"
      ]
     },
     "execution_count": 27,
     "metadata": {},
     "output_type": "execute_result"
    }
   ],
   "source": [
    "keys"
   ]
  },
  {
   "cell_type": "code",
   "execution_count": 28,
   "metadata": {},
   "outputs": [],
   "source": [
    "ap = np.array([results[k]['ap']['value'] for k in keys])\n",
    "ap_err = np.array([results[k]['ap']['error'] for k in keys])\n",
    "\n",
    "at = np.array([results[k]['at']['value'] for k in keys])\n",
    "at_err = np.array([results[k]['at']['error'] for k in keys])\n",
    "\n",
    "bias_eta_lya = np.array([results[k]['bias_eta_lya']['value'] for k in keys])\n",
    "bias_eta_lya_err = np.array([results[k]['bias_eta_lya']['error'] for k in keys])\n",
    "\n",
    "beta_lya = np.array([results[k]['beta_lya']['value'] for k in keys])\n",
    "beta_lya_err = np.array([results[k]['beta_lya']['error'] for k in keys])\n",
    "\n",
    "growth_rate = np.array([results[k]['growth_rate']['value'] for k in keys])\n",
    "\n",
    "bias_delta_lya = np.array([growth_rate[i]*bias_eta_lya[i]/beta_lya[i] for i,k in enumerate(keys)])\n",
    "bias_delta_lya_err = bias_delta_lya * np.sqrt((bias_eta_lya_err/bias_eta_lya)**2 + (beta_lya_err/beta_lya)**2)\n",
    "\n",
    "chi2 = [results[k]['fval'] for k in keys]\n",
    "ndof = [(results[k]['ndata'] - results[k]['npar']) for k in keys]\n",
    "assert (np.array(ndof)==ndof[0]).all()"
   ]
  },
  {
   "cell_type": "code",
   "execution_count": 29,
   "metadata": {},
   "outputs": [
    {
     "data": {
      "image/png": "[encoded data removed]",
      "text/plain": [
       "<Figure size 720x432 with 1 Axes>"
      ]
     },
     "metadata": {
      "needs_background": "light"
     },
     "output_type": "display_data"
    }
   ],
   "source": [
    "fig, ax = plt.subplots(1,1,figsize=(10,6))\n",
    "\n",
    "ax.errorbar(ap[1:],at[1:],xerr=ap_err[1:],yerr=at_err[1:],ls='',marker='o',color=mycolours['C0'])\n",
    "ax.errorbar(ap[0],at[0],xerr=ap_err[0],yerr=at_err[0],ls='',marker='o',color=mycolours['C3'],zorder=10)\n",
    "ax.axhline(y=1.0,ls='--',c='grey',zorder=-10)\n",
    "ax.axvline(x=1.0,ls='--',c='grey',zorder=-10)\n",
    "\n",
    "ax.set_xlabel(r'$\\alpha_\\parallel$')\n",
    "ax.set_ylabel(r'$\\alpha_\\perp$')\n",
    "\n",
    "dev_at = np.max((abs(1-np.min(at-at_err)), abs(np.max(at+at_err)-1)))\n",
    "dev_ap = np.max((abs(1-np.min(ap-ap_err)), abs(np.max(ap+ap_err)-1)))\n",
    "ax.set_ylim(1.-1.1*dev_at,1.+1.1*dev_at)\n",
    "ax.set_xlim(1.-1.1*dev_ap,1.+1.1*dev_ap)\n",
    "plt.tight_layout()\n",
    "plt.savefig('plots/ap_at_scatter_{}_{}.pdf'.format(mocktype,fitname))"
   ]
  },
  {
   "cell_type": "code",
   "execution_count": 30,
   "metadata": {},
   "outputs": [
    {
     "data": {
      "image/png": "[encoded data removed]",
      "text/plain": [
       "<Figure size 720x432 with 2 Axes>"
      ]
     },
     "metadata": {
      "needs_background": "light"
     },
     "output_type": "display_data"
    }
   ],
   "source": [
    "fig, axs = plt.subplots(2,1,figsize=(10,6),squeeze=False,sharex=True,sharey=True)\n",
    "\n",
    "axs[0,0].errorbar(xvals[1:],ap[1:],ls='',yerr=ap_err[1:],marker='o',color=mycolours['C0'])\n",
    "axs[0,0].errorbar(xvals[0],ap[0],ls='',yerr=ap_err[0],marker='o',color=mycolours['C3'])\n",
    "axs[0,0].axhline(y=1.0,color='grey',ls='--',zorder=-10)\n",
    "axs[0,0].set_ylabel(r'$\\alpha_\\parallel$')\n",
    "\n",
    "axs[1,0].errorbar(xvals[1:],at[1:],ls='',yerr=at_err[1:],marker='o',color=mycolours['C1'])\n",
    "axs[1,0].errorbar(xvals[0],at[0],ls='',yerr=at_err[0],marker='o',color=mycolours['C3'])\n",
    "axs[1,0].axhline(y=1.0,color='grey',ls='--',zorder=-10)\n",
    "axs[1,0].set_ylabel(r'$\\alpha_\\perp$')\n",
    "\n",
    "dev = np.max((1-np.min((abs(ap-ap_err),abs(at-at_err))), np.max((abs(ap+ap_err),abs(at+at_err)))-1))\n",
    "axs[0,0].set_ylim(1.-1.1*dev,1.+1.1*dev)\n",
    "axs[-1,0].set_xlabel('realisation')\n",
    "\n",
    "plt.tight_layout()\n",
    "plt.savefig('plots/ap_at_realisations_2panel_{}_{}.pdf'.format(mocktype,fitname))"
   ]
  },
  {
   "cell_type": "code",
   "execution_count": 31,
   "metadata": {},
   "outputs": [
    {
     "data": {
      "text/plain": [
       "\"fig, axs = plt.subplots(1,1,figsize=(10,5),squeeze=False,sharex=True,sharey=True)\\n\\naxs[0,0].errorbar(realisations-0.05,ap,ls='',yerr=ap_err,marker='o',color=mycolours['C0'],label=r'$\\x07lpha_\\\\parallel$')\\naxs[0,0].errorbar(realisations+0.05,at,ls='',yerr=at_err,marker='o',color=mycolours['C1'],label=r'$\\x07lpha_\\\\perp$')\\naxs[0,0].axhline(y=1.0,color='grey',ls='--',zorder=-10)\\n\\ndev = np.max((1-np.min((abs(ap-ap_err),abs(at-at_err))), np.max((abs(ap+ap_err),abs(at+at_err)))-1))\\naxs[0,0].set_ylim(1.-1.1*dev,1.+1.1*dev)\\naxs[-1,0].set_xlabel('realisation number')\\naxs[0,0].legend(ncol=2,loc=3)\\n\\nplt.tight_layout()\\nplt.savefig('ap_at_realisations_1panel_{}_{}.pdf'.format(mocktype,fitname))\""
      ]
     },
     "execution_count": 31,
     "metadata": {},
     "output_type": "execute_result"
    }
   ],
   "source": [
    "\"\"\"fig, axs = plt.subplots(1,1,figsize=(10,5),squeeze=False,sharex=True,sharey=True)\n",
    "\n",
    "axs[0,0].errorbar(realisations-0.05,ap,ls='',yerr=ap_err,marker='o',color=mycolours['C0'],label=r'$\\alpha_\\parallel$')\n",
    "axs[0,0].errorbar(realisations+0.05,at,ls='',yerr=at_err,marker='o',color=mycolours['C1'],label=r'$\\alpha_\\perp$')\n",
    "axs[0,0].axhline(y=1.0,color='grey',ls='--',zorder=-10)\n",
    "\n",
    "dev = np.max((1-np.min((abs(ap-ap_err),abs(at-at_err))), np.max((abs(ap+ap_err),abs(at+at_err)))-1))\n",
    "axs[0,0].set_ylim(1.-1.1*dev,1.+1.1*dev)\n",
    "axs[-1,0].set_xlabel('realisation number')\n",
    "axs[0,0].legend(ncol=2,loc=3)\n",
    "\n",
    "plt.tight_layout()\n",
    "plt.savefig('ap_at_realisations_1panel_{}_{}.pdf'.format(mocktype,fitname))\"\"\""
   ]
  },
  {
   "cell_type": "code",
   "execution_count": 32,
   "metadata": {},
   "outputs": [],
   "source": [
    "data_bias = {\n",
    "    'DR12': {'bias_eta_lya':       -0.206,\n",
    "             'bias_eta_lya_err':    0.012,\n",
    "             'beta_lya':            1.650,\n",
    "             'beta_lya_err':        0.081,\n",
    "             'bias_delta_lya':     -0.121,\n",
    "             'bias_delta_lya_err':  0.004,\n",
    "             'ls':                  '--',\n",
    "             'zeff':                2.3,\n",
    "            },\n",
    "    'DR16': {'bias_eta_lya':       -0.2014,\n",
    "             'bias_eta_lya_err':    0.0032,\n",
    "             'beta_lya':            1.669,\n",
    "             'beta_lya_err':        0.071,\n",
    "             'bias_delta_lya':      0.9704*-0.2014/1.669,\n",
    "             'bias_delta_lya_err':  0.,\n",
    "             'ls':                  ':',\n",
    "             'zeff':                2.3,\n",
    "            },\n",
    "}"
   ]
  },
  {
   "cell_type": "code",
   "execution_count": 33,
   "metadata": {},
   "outputs": [
    {
     "data": {
      "image/png": "[encoded data removed]",
      "text/plain": [
       "<Figure size 720x720 with 3 Axes>"
      ]
     },
     "metadata": {
      "needs_background": "light"
     },
     "output_type": "display_data"
    }
   ],
   "source": [
    "fig, axs = plt.subplots(3,1,figsize=(10,10),squeeze=False,sharex=True)\n",
    "data_versions = ['DR12','DR16']\n",
    "\n",
    "axs[0,0].errorbar(xvals[1:],bias_eta_lya[1:],ls='',yerr=bias_eta_lya_err[1:],marker='o',color=mycolours['C0'])\n",
    "axs[0,0].errorbar(xvals[0],bias_eta_lya[0],ls='',yerr=bias_eta_lya_err[0],marker='o',color=mycolours['C3'])\n",
    "axs[0,0].set_ylabel(r'$b_{\\eta,F}$')\n",
    "\n",
    "axs[1,0].errorbar(xvals[1:],beta_lya[1:],ls='',yerr=beta_lya_err[1:],marker='o',color=mycolours['C1'])\n",
    "axs[1,0].errorbar(xvals[0],beta_lya[0],ls='',yerr=beta_lya_err[0],marker='o',color=mycolours['C3'])\n",
    "axs[1,0].set_ylabel(r'$\\beta_F$')\n",
    "\n",
    "axs[2,0].errorbar(xvals[1:],bias_delta_lya[1:],ls='',yerr=bias_delta_lya_err[1:],marker='o',color=mycolours['C2'])\n",
    "axs[2,0].errorbar(xvals[0],bias_delta_lya[0],ls='',yerr=bias_delta_lya_err[0],marker='o',color=mycolours['C3'])\n",
    "axs[2,0].set_ylabel(r'$b_{\\delta,F}$')\n",
    "\n",
    "#dev = np.max((1-np.min((abs(ap-ap_err),abs(at-at_err))), np.max((abs(ap+ap_err),abs(at+at_err)))-1))\n",
    "#axs[0,0].set_ylim(1.-1.1*dev,1.+1.1*dev)\n",
    "\n",
    "if len(data_versions)>0:\n",
    "    for dv in data_versions:\n",
    "        axs[0,0].axhline(y=data_bias[dv]['bias_eta_lya'],c='grey',ls=data_bias[dv]['ls'],zorder=-10,label=dv)\n",
    "        axs[1,0].axhline(y=data_bias[dv]['beta_lya'],c='grey',ls=data_bias[dv]['ls'],zorder=-10)\n",
    "        axs[2,0].axhline(y=data_bias[dv]['bias_delta_lya'],c='grey',ls=data_bias[dv]['ls'],zorder=-10)\n",
    "    axs[0,0].legend(ncol=len(data_versions),loc=3)\n",
    "\n",
    "axs[-1,0].set_xlabel('realisation number')\n",
    "plt.tight_layout()\n",
    "plt.savefig('plots/biases_realisations_{}_{}.pdf'.format(mocktype,fitname))"
   ]
  },
  {
   "cell_type": "code",
   "execution_count": 34,
   "metadata": {},
   "outputs": [
    {
     "data": {
      "image/png": "[encoded data removed]",
      "text/plain": [
       "<Figure size 720x432 with 1 Axes>"
      ]
     },
     "metadata": {
      "needs_background": "light"
     },
     "output_type": "display_data"
    }
   ],
   "source": [
    "fig, ax = plt.subplots(1,1,figsize=(10,6))\n",
    "\n",
    "ax.scatter(xvals[1:],chi2[1:],marker='x',color=mycolours['C0'],s=200)\n",
    "ax.scatter(xvals[0],chi2[0],marker='x',color=mycolours['C3'],s=200)\n",
    "ax.axhline(y=ndof[0],color='grey',ls='--',zorder=-10)\n",
    "\n",
    "ax.set_xlabel('realisation number')\n",
    "ax.set_ylabel(r'$\\chi^2$')\n",
    "plt.tight_layout()\n",
    "plt.savefig('plots/chi2_realisations_{}_{}.pdf'.format(mocktype,fitname))"
   ]
  },
  {
   "cell_type": "code",
   "execution_count": null,
   "metadata": {},
   "outputs": [],
   "source": []
  },
  {
   "cell_type": "markdown",
   "metadata": {},
   "source": [
    "## Many mock types, many realisations"
   ]
  },
  {
   "cell_type": "code",
   "execution_count": null,
   "metadata": {},
   "outputs": [],
   "source": []
  }
 ],
 "metadata": {
  "kernelspec": {
   "display_name": "lyacolore",
   "language": "python",
   "name": "lyacolore"
  },
  "language_info": {
   "codemirror_mode": {
    "name": "ipython",
    "version": 3
   },
   "file_extension": ".py",
   "mimetype": "text/x-python",
   "name": "python",
   "nbconvert_exporter": "python",
   "pygments_lexer": "ipython3",
   "version": "3.7.9"
  }
 },
 "nbformat": 4,
 "nbformat_minor": 4
}
